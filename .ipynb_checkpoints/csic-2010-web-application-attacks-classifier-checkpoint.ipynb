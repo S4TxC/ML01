{
 "cells": [
  {
   "cell_type": "code",
   "execution_count": 1,
   "id": "97e65813",
   "metadata": {
    "_cell_guid": "b1076dfc-b9ad-4769-8c92-a6c4dae69d19",
    "_uuid": "8f2839f25d086af736a60e9eeb907d3b93b6e0e5",
    "execution": {
     "iopub.execute_input": "2024-03-02T16:34:55.084430Z",
     "iopub.status.busy": "2024-03-02T16:34:55.084068Z",
     "iopub.status.idle": "2024-03-02T16:35:30.163099Z",
     "shell.execute_reply": "2024-03-02T16:35:30.162057Z"
    },
    "papermill": {
     "duration": 35.101123,
     "end_time": "2024-03-02T16:35:30.165543",
     "exception": false,
     "start_time": "2024-03-02T16:34:55.064420",
     "status": "completed"
    },
    "tags": []
   },
   "outputs": [
    {
     "name": "stdout",
     "output_type": "stream",
     "text": [
      "Found existing installation: apache-beam 2.46.0\r\n",
      "Uninstalling apache-beam-2.46.0:\r\n",
      "  Successfully uninstalled apache-beam-2.46.0\r\n",
      "Found existing installation: chex 0.1.81\r\n",
      "Uninstalling chex-0.1.81:\r\n",
      "  Successfully uninstalled chex-0.1.81\r\n",
      "Found existing installation: momepy 0.6.0\r\n",
      "Uninstalling momepy-0.6.0:\r\n",
      "  Successfully uninstalled momepy-0.6.0\r\n",
      "Found existing installation: pymc3 3.11.5\r\n",
      "Uninstalling pymc3-3.11.5:\r\n",
      "  Successfully uninstalled pymc3-3.11.5\r\n",
      "Found existing installation: ydata-profiling 4.3.1\r\n",
      "Uninstalling ydata-profiling-4.3.1:\r\n",
      "  Successfully uninstalled ydata-profiling-4.3.1\r\n",
      "Requirement already satisfied: numpy==1.23.5 in /opt/conda/lib/python3.10/site-packages (1.23.5)\r\n"
     ]
    }
   ],
   "source": [
    "!pip uninstall -y apache-beam chex momepy pymc3 ydata-profiling\n",
    "!pip install numpy==1.23.5\n"
   ]
  },
  {
   "cell_type": "markdown",
   "id": "3ce3ba16",
   "metadata": {
    "papermill": {
     "duration": 0.017704,
     "end_time": "2024-03-02T16:35:30.201658",
     "exception": false,
     "start_time": "2024-03-02T16:35:30.183954",
     "status": "completed"
    },
    "tags": []
   },
   "source": [
    "# CSIC-2010 DATASET\n",
    " The dataset contains the generated traffic targeted to an e-commerce web\n",
    "application. It is an automatically generated dataset that contains 36,000 normal\n",
    "requests and more than 25,000 anomalous requests (i.e., web attacks)."
   ]
  },
  {
   "cell_type": "code",
   "execution_count": 2,
   "id": "d05fcfd6",
   "metadata": {
    "execution": {
     "iopub.execute_input": "2024-03-02T16:35:30.239891Z",
     "iopub.status.busy": "2024-03-02T16:35:30.239553Z",
     "iopub.status.idle": "2024-03-02T16:35:42.357283Z",
     "shell.execute_reply": "2024-03-02T16:35:42.356259Z"
    },
    "papermill": {
     "duration": 12.139972,
     "end_time": "2024-03-02T16:35:42.359562",
     "exception": false,
     "start_time": "2024-03-02T16:35:30.219590",
     "status": "completed"
    },
    "tags": []
   },
   "outputs": [
    {
     "name": "stderr",
     "output_type": "stream",
     "text": [
      "/opt/conda/lib/python3.10/site-packages/scipy/__init__.py:146: UserWarning: A NumPy version >=1.16.5 and <1.23.0 is required for this version of SciPy (detected version 1.23.5\n",
      "  warnings.warn(f\"A NumPy version >={np_minversion} and <{np_maxversion}\"\n",
      "/opt/conda/lib/python3.10/site-packages/tensorflow_io/python/ops/__init__.py:98: UserWarning: unable to load libtensorflow_io_plugins.so: unable to open file: libtensorflow_io_plugins.so, from paths: ['/opt/conda/lib/python3.10/site-packages/tensorflow_io/python/ops/libtensorflow_io_plugins.so']\n",
      "caused by: ['/opt/conda/lib/python3.10/site-packages/tensorflow_io/python/ops/libtensorflow_io_plugins.so: undefined symbol: _ZN3tsl6StatusC1EN10tensorflow5error4CodeESt17basic_string_viewIcSt11char_traitsIcEENS_14SourceLocationE']\n",
      "  warnings.warn(f\"unable to load libtensorflow_io_plugins.so: {e}\")\n",
      "/opt/conda/lib/python3.10/site-packages/tensorflow_io/python/ops/__init__.py:104: UserWarning: file system plugins are not loaded: unable to open file: libtensorflow_io.so, from paths: ['/opt/conda/lib/python3.10/site-packages/tensorflow_io/python/ops/libtensorflow_io.so']\n",
      "caused by: ['/opt/conda/lib/python3.10/site-packages/tensorflow_io/python/ops/libtensorflow_io.so: undefined symbol: _ZTVN10tensorflow13GcsFileSystemE']\n",
      "  warnings.warn(f\"file system plugins are not loaded: {e}\")\n"
     ]
    }
   ],
   "source": [
    "import numpy as np \n",
    "import pandas as pd \n",
    "import seaborn as sns \n",
    "import matplotlib.pyplot as plt\n",
    "import re\n",
    "import math\n",
    "import eli5\n",
    "\n",
    "#dataset pre-processing realated imports\n",
    "import sklearn\n",
    "from eli5.sklearn import PermutationImportance\n",
    "from urllib.parse import urlparse\n",
    "from sklearn.preprocessing import LabelEncoder\n",
    "from sklearn.model_selection import train_test_split\n",
    "\n",
    "\n",
    "#imports related to classifiers\n",
    "from sklearn.ensemble import RandomForestClassifier\n",
    "from sklearn.metrics import precision_score\n",
    "from sklearn.metrics import accuracy_score\n",
    "from sklearn.metrics import recall_score\n",
    "from sklearn.metrics import f1_score\n",
    "from sklearn.metrics import roc_auc_score\n",
    "from sklearn.metrics import mean_absolute_error\n",
    "from sklearn.metrics import confusion_matrix\n",
    "from sklearn.metrics import classification_report\n",
    "from sklearn.linear_model import SGDClassifier\n",
    "from sklearn.svm import LinearSVC\n",
    "from sklearn.svm import SVC\n",
    "from sklearn.neighbors import KNeighborsClassifier\n",
    "from sklearn.naive_bayes import GaussianNB\n",
    "from sklearn.model_selection import GridSearchCV\n",
    "from sklearn.tree import DecisionTreeClassifier\n",
    "from sklearn.linear_model import LogisticRegression \n",
    "from xgboost import XGBClassifier\n",
    "from sklearn.model_selection import StratifiedKFold\n",
    "from sklearn.neural_network import MLPClassifier\n",
    "\n",
    "#DNN imports\n",
    "import tensorflow as tf\n",
    "from tensorflow.keras import layers\n",
    "from tensorflow.keras.utils import to_categorical\n",
    "from tensorflow.keras.callbacks import ReduceLROnPlateau\n",
    "\n",
    "#Explainability imports\n",
    "from sklearn.inspection import PartialDependenceDisplay\n",
    "\n",
    "\n"
   ]
  },
  {
   "cell_type": "code",
   "execution_count": 3,
   "id": "94707514",
   "metadata": {
    "execution": {
     "iopub.execute_input": "2024-03-02T16:35:42.399259Z",
     "iopub.status.busy": "2024-03-02T16:35:42.398436Z",
     "iopub.status.idle": "2024-03-02T16:35:42.412312Z",
     "shell.execute_reply": "2024-03-02T16:35:42.411362Z"
    },
    "papermill": {
     "duration": 0.036125,
     "end_time": "2024-03-02T16:35:42.414378",
     "exception": false,
     "start_time": "2024-03-02T16:35:42.378253",
     "status": "completed"
    },
    "tags": []
   },
   "outputs": [
    {
     "name": "stdout",
     "output_type": "stream",
     "text": [
      "/kaggle/input/csic-2010-web-application-attacks/csic_database.csv\n",
      "Done!\n"
     ]
    }
   ],
   "source": [
    "# Input data files are available in the read-only \"../input/\" directory\n",
    "# For example, running this (by clicking run or pressing Shift+Enter) will list all files under the input directory\n",
    "\n",
    "import os\n",
    "for dirname, _, filenames in os.walk('/kaggle/input'):\n",
    "    for filename in filenames:\n",
    "        print(os.path.join(dirname, filename))\n",
    "\n",
    "# You can write up to 20GB to the current directory (/kaggle/working/) that gets preserved as output when you create a version using \"Save & Run All\" \n",
    "# You can also write temporary files to /kaggle/temp/, but they won't be saved outside of the current session\n",
    "print('Done!')"
   ]
  },
  {
   "cell_type": "markdown",
   "id": "0bf88a97",
   "metadata": {
    "papermill": {
     "duration": 0.018141,
     "end_time": "2024-03-02T16:35:42.451044",
     "exception": false,
     "start_time": "2024-03-02T16:35:42.432903",
     "status": "completed"
    },
    "tags": []
   },
   "source": [
    "**READ CSV**"
   ]
  },
  {
   "cell_type": "code",
   "execution_count": 4,
   "id": "1512cc7a",
   "metadata": {
    "execution": {
     "iopub.execute_input": "2024-03-02T16:35:42.489014Z",
     "iopub.status.busy": "2024-03-02T16:35:42.488707Z",
     "iopub.status.idle": "2024-03-02T16:35:43.209115Z",
     "shell.execute_reply": "2024-03-02T16:35:43.207875Z"
    },
    "papermill": {
     "duration": 0.74198,
     "end_time": "2024-03-02T16:35:43.211335",
     "exception": false,
     "start_time": "2024-03-02T16:35:42.469355",
     "status": "completed"
    },
    "tags": []
   },
   "outputs": [
    {
     "name": "stdout",
     "output_type": "stream",
     "text": [
      "Done!\n"
     ]
    }
   ],
   "source": [
    "csic_filepath='/kaggle/input/csic-2010-web-application-attacks/csic_database.csv'\n",
    "csic_data=pd.read_csv(csic_filepath)\n",
    "print('Done!')"
   ]
  },
  {
   "cell_type": "code",
   "execution_count": 5,
   "id": "46124ff2",
   "metadata": {
    "execution": {
     "iopub.execute_input": "2024-03-02T16:35:43.253266Z",
     "iopub.status.busy": "2024-03-02T16:35:43.252862Z",
     "iopub.status.idle": "2024-03-02T16:35:43.261574Z",
     "shell.execute_reply": "2024-03-02T16:35:43.260634Z"
    },
    "papermill": {
     "duration": 0.034187,
     "end_time": "2024-03-02T16:35:43.264698",
     "exception": false,
     "start_time": "2024-03-02T16:35:43.230511",
     "status": "completed"
    },
    "tags": []
   },
   "outputs": [
    {
     "name": "stdout",
     "output_type": "stream",
     "text": [
      "Number of samples: 61065\n",
      "Number of features: 17\n"
     ]
    }
   ],
   "source": [
    "n_features=csic_data.shape[1]\n",
    "n_samples =csic_data.shape[0]\n",
    "\n",
    "\n",
    "print(\"Number of samples:\", n_samples)\n",
    "print(\"Number of features:\", n_features)\n",
    "\n",
    "\n"
   ]
  },
  {
   "cell_type": "code",
   "execution_count": 6,
   "id": "6c7d2577",
   "metadata": {
    "execution": {
     "iopub.execute_input": "2024-03-02T16:35:43.304312Z",
     "iopub.status.busy": "2024-03-02T16:35:43.303806Z",
     "iopub.status.idle": "2024-03-02T16:35:43.308570Z",
     "shell.execute_reply": "2024-03-02T16:35:43.307667Z"
    },
    "papermill": {
     "duration": 0.026914,
     "end_time": "2024-03-02T16:35:43.310595",
     "exception": false,
     "start_time": "2024-03-02T16:35:43.283681",
     "status": "completed"
    },
    "tags": []
   },
   "outputs": [],
   "source": [
    "# csic_data.head()"
   ]
  },
  {
   "cell_type": "code",
   "execution_count": 7,
   "id": "e0d9910b",
   "metadata": {
    "execution": {
     "iopub.execute_input": "2024-03-02T16:35:43.351339Z",
     "iopub.status.busy": "2024-03-02T16:35:43.349375Z",
     "iopub.status.idle": "2024-03-02T16:35:43.385017Z",
     "shell.execute_reply": "2024-03-02T16:35:43.384017Z"
    },
    "papermill": {
     "duration": 0.058019,
     "end_time": "2024-03-02T16:35:43.387456",
     "exception": false,
     "start_time": "2024-03-02T16:35:43.329437",
     "status": "completed"
    },
    "tags": []
   },
   "outputs": [
    {
     "data": {
      "text/html": [
       "<div>\n",
       "<style scoped>\n",
       "    .dataframe tbody tr th:only-of-type {\n",
       "        vertical-align: middle;\n",
       "    }\n",
       "\n",
       "    .dataframe tbody tr th {\n",
       "        vertical-align: top;\n",
       "    }\n",
       "\n",
       "    .dataframe thead th {\n",
       "        text-align: right;\n",
       "    }\n",
       "</style>\n",
       "<table border=\"1\" class=\"dataframe\">\n",
       "  <thead>\n",
       "    <tr style=\"text-align: right;\">\n",
       "      <th></th>\n",
       "      <th>Unnamed: 0</th>\n",
       "      <th>Method</th>\n",
       "      <th>User-Agent</th>\n",
       "      <th>Pragma</th>\n",
       "      <th>Cache-Control</th>\n",
       "      <th>Accept</th>\n",
       "      <th>Accept-encoding</th>\n",
       "      <th>Accept-charset</th>\n",
       "      <th>language</th>\n",
       "      <th>host</th>\n",
       "      <th>cookie</th>\n",
       "      <th>content-type</th>\n",
       "      <th>connection</th>\n",
       "      <th>lenght</th>\n",
       "      <th>content</th>\n",
       "      <th>classification</th>\n",
       "      <th>URL</th>\n",
       "    </tr>\n",
       "  </thead>\n",
       "  <tbody>\n",
       "    <tr>\n",
       "      <th>61060</th>\n",
       "      <td>Anomalous</td>\n",
       "      <td>GET</td>\n",
       "      <td>Mozilla/5.0 (compatible; Konqueror/3.5; Linux)...</td>\n",
       "      <td>no-cache</td>\n",
       "      <td>no-cache</td>\n",
       "      <td>text/xml,application/xml,application/xhtml+xml...</td>\n",
       "      <td>x-gzip, x-deflate, gzip, deflate</td>\n",
       "      <td>utf-8, utf-8;q=0.5, *;q=0.5</td>\n",
       "      <td>en</td>\n",
       "      <td>localhost:8080</td>\n",
       "      <td>JSESSIONID=62216ADBBD9B91E17CA9AFEDCCC36275</td>\n",
       "      <td>NaN</td>\n",
       "      <td>close</td>\n",
       "      <td>NaN</td>\n",
       "      <td>NaN</td>\n",
       "      <td>1</td>\n",
       "      <td>http://localhost:8080/tienda1/miembros/editar....</td>\n",
       "    </tr>\n",
       "    <tr>\n",
       "      <th>61061</th>\n",
       "      <td>Anomalous</td>\n",
       "      <td>POST</td>\n",
       "      <td>Mozilla/5.0 (compatible; Konqueror/3.5; Linux)...</td>\n",
       "      <td>no-cache</td>\n",
       "      <td>no-cache</td>\n",
       "      <td>text/xml,application/xml,application/xhtml+xml...</td>\n",
       "      <td>x-gzip, x-deflate, gzip, deflate</td>\n",
       "      <td>utf-8, utf-8;q=0.5, *;q=0.5</td>\n",
       "      <td>en</td>\n",
       "      <td>localhost:8080</td>\n",
       "      <td>JSESSIONID=2317F5C0B1B7FAD18EB425E98DB102A3</td>\n",
       "      <td>application/x-www-form-urlencoded</td>\n",
       "      <td>Connection: close</td>\n",
       "      <td>Content-Length: 255</td>\n",
       "      <td>modo=registro&amp;login=beaumont&amp;password=quEratIt...</td>\n",
       "      <td>1</td>\n",
       "      <td>http://localhost:8080/tienda1/miembros/editar....</td>\n",
       "    </tr>\n",
       "    <tr>\n",
       "      <th>61062</th>\n",
       "      <td>Anomalous</td>\n",
       "      <td>GET</td>\n",
       "      <td>Mozilla/5.0 (compatible; Konqueror/3.5; Linux)...</td>\n",
       "      <td>no-cache</td>\n",
       "      <td>no-cache</td>\n",
       "      <td>text/xml,application/xml,application/xhtml+xml...</td>\n",
       "      <td>x-gzip, x-deflate, gzip, deflate</td>\n",
       "      <td>utf-8, utf-8;q=0.5, *;q=0.5</td>\n",
       "      <td>en</td>\n",
       "      <td>localhost:8080</td>\n",
       "      <td>JSESSIONID=7F0BA54A88B849EF752006D388E15CDD</td>\n",
       "      <td>NaN</td>\n",
       "      <td>close</td>\n",
       "      <td>NaN</td>\n",
       "      <td>NaN</td>\n",
       "      <td>1</td>\n",
       "      <td>http://localhost:8080/tienda1/miembros/editar....</td>\n",
       "    </tr>\n",
       "    <tr>\n",
       "      <th>61063</th>\n",
       "      <td>Anomalous</td>\n",
       "      <td>GET</td>\n",
       "      <td>Mozilla/5.0 (compatible; Konqueror/3.5; Linux)...</td>\n",
       "      <td>no-cache</td>\n",
       "      <td>no-cache</td>\n",
       "      <td>text/xml,application/xml,application/xhtml+xml...</td>\n",
       "      <td>x-gzip, x-deflate, gzip, deflate</td>\n",
       "      <td>utf-8, utf-8;q=0.5, *;q=0.5</td>\n",
       "      <td>en</td>\n",
       "      <td>localhost:8080</td>\n",
       "      <td>JSESSIONID=FB018FFB06011CFABD60D8E8AD58CA21</td>\n",
       "      <td>NaN</td>\n",
       "      <td>close</td>\n",
       "      <td>NaN</td>\n",
       "      <td>NaN</td>\n",
       "      <td>1</td>\n",
       "      <td>http://localhost:8080/tienda1/imagenes/3.gif/ ...</td>\n",
       "    </tr>\n",
       "    <tr>\n",
       "      <th>61064</th>\n",
       "      <td>Anomalous</td>\n",
       "      <td>GET</td>\n",
       "      <td>Mozilla/5.0 (compatible; Konqueror/3.5; Linux)...</td>\n",
       "      <td>no-cache</td>\n",
       "      <td>no-cache</td>\n",
       "      <td>text/xml,application/xml,application/xhtml+xml...</td>\n",
       "      <td>x-gzip, x-deflate, gzip, deflate</td>\n",
       "      <td>utf-8, utf-8;q=0.5, *;q=0.5</td>\n",
       "      <td>en</td>\n",
       "      <td>localhost:8080</td>\n",
       "      <td>JSESSIONID=3CC12010CDA952F123240EBAD79B55CC</td>\n",
       "      <td>NaN</td>\n",
       "      <td>close</td>\n",
       "      <td>NaN</td>\n",
       "      <td>NaN</td>\n",
       "      <td>1</td>\n",
       "      <td>http://localhost:8080/tienda1/imagenes/nuestra...</td>\n",
       "    </tr>\n",
       "  </tbody>\n",
       "</table>\n",
       "</div>"
      ],
      "text/plain": [
       "      Unnamed: 0 Method                                         User-Agent  \\\n",
       "61060  Anomalous    GET  Mozilla/5.0 (compatible; Konqueror/3.5; Linux)...   \n",
       "61061  Anomalous   POST  Mozilla/5.0 (compatible; Konqueror/3.5; Linux)...   \n",
       "61062  Anomalous    GET  Mozilla/5.0 (compatible; Konqueror/3.5; Linux)...   \n",
       "61063  Anomalous    GET  Mozilla/5.0 (compatible; Konqueror/3.5; Linux)...   \n",
       "61064  Anomalous    GET  Mozilla/5.0 (compatible; Konqueror/3.5; Linux)...   \n",
       "\n",
       "         Pragma Cache-Control  \\\n",
       "61060  no-cache      no-cache   \n",
       "61061  no-cache      no-cache   \n",
       "61062  no-cache      no-cache   \n",
       "61063  no-cache      no-cache   \n",
       "61064  no-cache      no-cache   \n",
       "\n",
       "                                                  Accept  \\\n",
       "61060  text/xml,application/xml,application/xhtml+xml...   \n",
       "61061  text/xml,application/xml,application/xhtml+xml...   \n",
       "61062  text/xml,application/xml,application/xhtml+xml...   \n",
       "61063  text/xml,application/xml,application/xhtml+xml...   \n",
       "61064  text/xml,application/xml,application/xhtml+xml...   \n",
       "\n",
       "                        Accept-encoding               Accept-charset language  \\\n",
       "61060  x-gzip, x-deflate, gzip, deflate  utf-8, utf-8;q=0.5, *;q=0.5       en   \n",
       "61061  x-gzip, x-deflate, gzip, deflate  utf-8, utf-8;q=0.5, *;q=0.5       en   \n",
       "61062  x-gzip, x-deflate, gzip, deflate  utf-8, utf-8;q=0.5, *;q=0.5       en   \n",
       "61063  x-gzip, x-deflate, gzip, deflate  utf-8, utf-8;q=0.5, *;q=0.5       en   \n",
       "61064  x-gzip, x-deflate, gzip, deflate  utf-8, utf-8;q=0.5, *;q=0.5       en   \n",
       "\n",
       "                 host                                       cookie  \\\n",
       "61060  localhost:8080  JSESSIONID=62216ADBBD9B91E17CA9AFEDCCC36275   \n",
       "61061  localhost:8080  JSESSIONID=2317F5C0B1B7FAD18EB425E98DB102A3   \n",
       "61062  localhost:8080  JSESSIONID=7F0BA54A88B849EF752006D388E15CDD   \n",
       "61063  localhost:8080  JSESSIONID=FB018FFB06011CFABD60D8E8AD58CA21   \n",
       "61064  localhost:8080  JSESSIONID=3CC12010CDA952F123240EBAD79B55CC   \n",
       "\n",
       "                            content-type         connection  \\\n",
       "61060                                NaN              close   \n",
       "61061  application/x-www-form-urlencoded  Connection: close   \n",
       "61062                                NaN              close   \n",
       "61063                                NaN              close   \n",
       "61064                                NaN              close   \n",
       "\n",
       "                    lenght                                            content  \\\n",
       "61060                  NaN                                                NaN   \n",
       "61061  Content-Length: 255  modo=registro&login=beaumont&password=quEratIt...   \n",
       "61062                  NaN                                                NaN   \n",
       "61063                  NaN                                                NaN   \n",
       "61064                  NaN                                                NaN   \n",
       "\n",
       "       classification                                                URL  \n",
       "61060               1  http://localhost:8080/tienda1/miembros/editar....  \n",
       "61061               1  http://localhost:8080/tienda1/miembros/editar....  \n",
       "61062               1  http://localhost:8080/tienda1/miembros/editar....  \n",
       "61063               1  http://localhost:8080/tienda1/imagenes/3.gif/ ...  \n",
       "61064               1  http://localhost:8080/tienda1/imagenes/nuestra...  "
      ]
     },
     "execution_count": 7,
     "metadata": {},
     "output_type": "execute_result"
    }
   ],
   "source": [
    "csic_data.tail()"
   ]
  },
  {
   "cell_type": "code",
   "execution_count": 8,
   "id": "8d93a084",
   "metadata": {
    "execution": {
     "iopub.execute_input": "2024-03-02T16:35:43.431170Z",
     "iopub.status.busy": "2024-03-02T16:35:43.430867Z",
     "iopub.status.idle": "2024-03-02T16:35:43.436977Z",
     "shell.execute_reply": "2024-03-02T16:35:43.435999Z"
    },
    "papermill": {
     "duration": 0.02838,
     "end_time": "2024-03-02T16:35:43.439049",
     "exception": false,
     "start_time": "2024-03-02T16:35:43.410669",
     "status": "completed"
    },
    "tags": []
   },
   "outputs": [
    {
     "data": {
      "text/plain": [
       "Index(['Unnamed: 0', 'Method', 'User-Agent', 'Pragma', 'Cache-Control',\n",
       "       'Accept', 'Accept-encoding', 'Accept-charset', 'language', 'host',\n",
       "       'cookie', 'content-type', 'connection', 'lenght', 'content',\n",
       "       'classification', 'URL'],\n",
       "      dtype='object')"
      ]
     },
     "execution_count": 8,
     "metadata": {},
     "output_type": "execute_result"
    }
   ],
   "source": [
    "csic_data.columns\n",
    "\n"
   ]
  },
  {
   "cell_type": "markdown",
   "id": "bca22d56",
   "metadata": {
    "papermill": {
     "duration": 0.019034,
     "end_time": "2024-03-02T16:35:43.477230",
     "exception": false,
     "start_time": "2024-03-02T16:35:43.458196",
     "status": "completed"
    },
    "tags": []
   },
   "source": [
    "# **Data Visualization**"
   ]
  },
  {
   "cell_type": "code",
   "execution_count": 9,
   "id": "f6796281",
   "metadata": {
    "execution": {
     "iopub.execute_input": "2024-03-02T16:35:43.520462Z",
     "iopub.status.busy": "2024-03-02T16:35:43.519661Z",
     "iopub.status.idle": "2024-03-02T16:35:43.917329Z",
     "shell.execute_reply": "2024-03-02T16:35:43.916289Z"
    },
    "papermill": {
     "duration": 0.422992,
     "end_time": "2024-03-02T16:35:43.919547",
     "exception": false,
     "start_time": "2024-03-02T16:35:43.496555",
     "status": "completed"
    },
    "tags": []
   },
   "outputs": [
    {
     "data": {
      "text/plain": [
       "<Axes: xlabel='Unnamed: 0', ylabel='count'>"
      ]
     },
     "execution_count": 9,
     "metadata": {},
     "output_type": "execute_result"
    },
    {
     "data": {
      "image/png": "[encoded data removed]",
      "text/plain": [
       "<Figure size 640x480 with 1 Axes>"
      ]
     },
     "metadata": {},
     "output_type": "display_data"
    }
   ],
   "source": [
    "sns.set_style('darkgrid')\n",
    "sns.countplot(data=csic_data, x='Unnamed: 0')"
   ]
  },
  {
   "cell_type": "markdown",
   "id": "f72707f7",
   "metadata": {
    "papermill": {
     "duration": 0.019458,
     "end_time": "2024-03-02T16:35:43.958837",
     "exception": false,
     "start_time": "2024-03-02T16:35:43.939379",
     "status": "completed"
    },
    "tags": []
   },
   "source": [
    "Dropping samples with at least 1 NaN value will make to lose all the other Request Methods besides POST, this option is discarded since dropping data is not usually a good choice"
   ]
  },
  {
   "cell_type": "code",
   "execution_count": 10,
   "id": "b7984f91",
   "metadata": {
    "execution": {
     "iopub.execute_input": "2024-03-02T16:35:44.000134Z",
     "iopub.status.busy": "2024-03-02T16:35:43.999790Z",
     "iopub.status.idle": "2024-03-02T16:35:44.019631Z",
     "shell.execute_reply": "2024-03-02T16:35:44.018457Z"
    },
    "papermill": {
     "duration": 0.04328,
     "end_time": "2024-03-02T16:35:44.021939",
     "exception": false,
     "start_time": "2024-03-02T16:35:43.978659",
     "status": "completed"
    },
    "tags": []
   },
   "outputs": [
    {
     "data": {
      "text/html": [
       "<div>\n",
       "<style scoped>\n",
       "    .dataframe tbody tr th:only-of-type {\n",
       "        vertical-align: middle;\n",
       "    }\n",
       "\n",
       "    .dataframe tbody tr th {\n",
       "        vertical-align: top;\n",
       "    }\n",
       "\n",
       "    .dataframe thead th {\n",
       "        text-align: right;\n",
       "    }\n",
       "</style>\n",
       "<table border=\"1\" class=\"dataframe\">\n",
       "  <thead>\n",
       "    <tr style=\"text-align: right;\">\n",
       "      <th></th>\n",
       "      <th>Unnamed: 0</th>\n",
       "      <th>Method</th>\n",
       "      <th>User-Agent</th>\n",
       "      <th>Pragma</th>\n",
       "      <th>Cache-Control</th>\n",
       "      <th>Accept</th>\n",
       "      <th>Accept-encoding</th>\n",
       "      <th>Accept-charset</th>\n",
       "      <th>language</th>\n",
       "      <th>host</th>\n",
       "      <th>cookie</th>\n",
       "      <th>content-type</th>\n",
       "      <th>connection</th>\n",
       "      <th>lenght</th>\n",
       "      <th>content</th>\n",
       "      <th>classification</th>\n",
       "      <th>URL</th>\n",
       "    </tr>\n",
       "  </thead>\n",
       "  <tbody>\n",
       "    <tr>\n",
       "      <th>0</th>\n",
       "      <td>Normal</td>\n",
       "      <td>GET</td>\n",
       "      <td>Mozilla/5.0 (compatible; Konqueror/3.5; Linux)...</td>\n",
       "      <td>no-cache</td>\n",
       "      <td>no-cache</td>\n",
       "      <td>text/xml,application/xml,application/xhtml+xml...</td>\n",
       "      <td>x-gzip, x-deflate, gzip, deflate</td>\n",
       "      <td>utf-8, utf-8;q=0.5, *;q=0.5</td>\n",
       "      <td>en</td>\n",
       "      <td>localhost:8080</td>\n",
       "      <td>JSESSIONID=1F767F17239C9B670A39E9B10C3825F4</td>\n",
       "      <td>NaN</td>\n",
       "      <td>close</td>\n",
       "      <td>NaN</td>\n",
       "      <td>NaN</td>\n",
       "      <td>0</td>\n",
       "      <td>http://localhost:8080/tienda1/index.jsp HTTP/1.1</td>\n",
       "    </tr>\n",
       "    <tr>\n",
       "      <th>1</th>\n",
       "      <td>Normal</td>\n",
       "      <td>GET</td>\n",
       "      <td>Mozilla/5.0 (compatible; Konqueror/3.5; Linux)...</td>\n",
       "      <td>no-cache</td>\n",
       "      <td>no-cache</td>\n",
       "      <td>text/xml,application/xml,application/xhtml+xml...</td>\n",
       "      <td>x-gzip, x-deflate, gzip, deflate</td>\n",
       "      <td>utf-8, utf-8;q=0.5, *;q=0.5</td>\n",
       "      <td>en</td>\n",
       "      <td>localhost:8080</td>\n",
       "      <td>JSESSIONID=81761ACA043B0E6014CA42A4BCD06AB5</td>\n",
       "      <td>NaN</td>\n",
       "      <td>close</td>\n",
       "      <td>NaN</td>\n",
       "      <td>NaN</td>\n",
       "      <td>0</td>\n",
       "      <td>http://localhost:8080/tienda1/publico/anadir.j...</td>\n",
       "    </tr>\n",
       "    <tr>\n",
       "      <th>2</th>\n",
       "      <td>Normal</td>\n",
       "      <td>POST</td>\n",
       "      <td>Mozilla/5.0 (compatible; Konqueror/3.5; Linux)...</td>\n",
       "      <td>no-cache</td>\n",
       "      <td>no-cache</td>\n",
       "      <td>text/xml,application/xml,application/xhtml+xml...</td>\n",
       "      <td>x-gzip, x-deflate, gzip, deflate</td>\n",
       "      <td>utf-8, utf-8;q=0.5, *;q=0.5</td>\n",
       "      <td>en</td>\n",
       "      <td>localhost:8080</td>\n",
       "      <td>JSESSIONID=933185092E0B668B90676E0A2B0767AF</td>\n",
       "      <td>application/x-www-form-urlencoded</td>\n",
       "      <td>Connection: close</td>\n",
       "      <td>Content-Length: 68</td>\n",
       "      <td>id=3&amp;nombre=Vino+Rioja&amp;precio=100&amp;cantidad=55&amp;...</td>\n",
       "      <td>0</td>\n",
       "      <td>http://localhost:8080/tienda1/publico/anadir.j...</td>\n",
       "    </tr>\n",
       "    <tr>\n",
       "      <th>3</th>\n",
       "      <td>Normal</td>\n",
       "      <td>GET</td>\n",
       "      <td>Mozilla/5.0 (compatible; Konqueror/3.5; Linux)...</td>\n",
       "      <td>no-cache</td>\n",
       "      <td>no-cache</td>\n",
       "      <td>text/xml,application/xml,application/xhtml+xml...</td>\n",
       "      <td>x-gzip, x-deflate, gzip, deflate</td>\n",
       "      <td>utf-8, utf-8;q=0.5, *;q=0.5</td>\n",
       "      <td>en</td>\n",
       "      <td>localhost:8080</td>\n",
       "      <td>JSESSIONID=8FA18BA82C5336D03D3A8AFA3E68CBB0</td>\n",
       "      <td>NaN</td>\n",
       "      <td>close</td>\n",
       "      <td>NaN</td>\n",
       "      <td>NaN</td>\n",
       "      <td>0</td>\n",
       "      <td>http://localhost:8080/tienda1/publico/autentic...</td>\n",
       "    </tr>\n",
       "    <tr>\n",
       "      <th>4</th>\n",
       "      <td>Normal</td>\n",
       "      <td>POST</td>\n",
       "      <td>Mozilla/5.0 (compatible; Konqueror/3.5; Linux)...</td>\n",
       "      <td>no-cache</td>\n",
       "      <td>no-cache</td>\n",
       "      <td>text/xml,application/xml,application/xhtml+xml...</td>\n",
       "      <td>x-gzip, x-deflate, gzip, deflate</td>\n",
       "      <td>utf-8, utf-8;q=0.5, *;q=0.5</td>\n",
       "      <td>en</td>\n",
       "      <td>localhost:8080</td>\n",
       "      <td>JSESSIONID=7104E6C68A6BCF1423DAE990CE49FEE2</td>\n",
       "      <td>application/x-www-form-urlencoded</td>\n",
       "      <td>Connection: close</td>\n",
       "      <td>Content-Length: 63</td>\n",
       "      <td>modo=entrar&amp;login=choong&amp;pwd=d1se3ci%F3n&amp;remem...</td>\n",
       "      <td>0</td>\n",
       "      <td>http://localhost:8080/tienda1/publico/autentic...</td>\n",
       "    </tr>\n",
       "  </tbody>\n",
       "</table>\n",
       "</div>"
      ],
      "text/plain": [
       "  Unnamed: 0 Method                                         User-Agent  \\\n",
       "0     Normal    GET  Mozilla/5.0 (compatible; Konqueror/3.5; Linux)...   \n",
       "1     Normal    GET  Mozilla/5.0 (compatible; Konqueror/3.5; Linux)...   \n",
       "2     Normal   POST  Mozilla/5.0 (compatible; Konqueror/3.5; Linux)...   \n",
       "3     Normal    GET  Mozilla/5.0 (compatible; Konqueror/3.5; Linux)...   \n",
       "4     Normal   POST  Mozilla/5.0 (compatible; Konqueror/3.5; Linux)...   \n",
       "\n",
       "     Pragma Cache-Control                                             Accept  \\\n",
       "0  no-cache      no-cache  text/xml,application/xml,application/xhtml+xml...   \n",
       "1  no-cache      no-cache  text/xml,application/xml,application/xhtml+xml...   \n",
       "2  no-cache      no-cache  text/xml,application/xml,application/xhtml+xml...   \n",
       "3  no-cache      no-cache  text/xml,application/xml,application/xhtml+xml...   \n",
       "4  no-cache      no-cache  text/xml,application/xml,application/xhtml+xml...   \n",
       "\n",
       "                    Accept-encoding               Accept-charset language  \\\n",
       "0  x-gzip, x-deflate, gzip, deflate  utf-8, utf-8;q=0.5, *;q=0.5       en   \n",
       "1  x-gzip, x-deflate, gzip, deflate  utf-8, utf-8;q=0.5, *;q=0.5       en   \n",
       "2  x-gzip, x-deflate, gzip, deflate  utf-8, utf-8;q=0.5, *;q=0.5       en   \n",
       "3  x-gzip, x-deflate, gzip, deflate  utf-8, utf-8;q=0.5, *;q=0.5       en   \n",
       "4  x-gzip, x-deflate, gzip, deflate  utf-8, utf-8;q=0.5, *;q=0.5       en   \n",
       "\n",
       "             host                                       cookie  \\\n",
       "0  localhost:8080  JSESSIONID=1F767F17239C9B670A39E9B10C3825F4   \n",
       "1  localhost:8080  JSESSIONID=81761ACA043B0E6014CA42A4BCD06AB5   \n",
       "2  localhost:8080  JSESSIONID=933185092E0B668B90676E0A2B0767AF   \n",
       "3  localhost:8080  JSESSIONID=8FA18BA82C5336D03D3A8AFA3E68CBB0   \n",
       "4  localhost:8080  JSESSIONID=7104E6C68A6BCF1423DAE990CE49FEE2   \n",
       "\n",
       "                        content-type         connection              lenght  \\\n",
       "0                                NaN              close                 NaN   \n",
       "1                                NaN              close                 NaN   \n",
       "2  application/x-www-form-urlencoded  Connection: close  Content-Length: 68   \n",
       "3                                NaN              close                 NaN   \n",
       "4  application/x-www-form-urlencoded  Connection: close  Content-Length: 63   \n",
       "\n",
       "                                             content  classification  \\\n",
       "0                                                NaN               0   \n",
       "1                                                NaN               0   \n",
       "2  id=3&nombre=Vino+Rioja&precio=100&cantidad=55&...               0   \n",
       "3                                                NaN               0   \n",
       "4  modo=entrar&login=choong&pwd=d1se3ci%F3n&remem...               0   \n",
       "\n",
       "                                                 URL  \n",
       "0   http://localhost:8080/tienda1/index.jsp HTTP/1.1  \n",
       "1  http://localhost:8080/tienda1/publico/anadir.j...  \n",
       "2  http://localhost:8080/tienda1/publico/anadir.j...  \n",
       "3  http://localhost:8080/tienda1/publico/autentic...  \n",
       "4  http://localhost:8080/tienda1/publico/autentic...  "
      ]
     },
     "execution_count": 10,
     "metadata": {},
     "output_type": "execute_result"
    }
   ],
   "source": [
    "csic_data.head()"
   ]
  },
  {
   "cell_type": "markdown",
   "id": "0f822a3a",
   "metadata": {
    "papermill": {
     "duration": 0.02003,
     "end_time": "2024-03-02T16:35:44.063644",
     "exception": false,
     "start_time": "2024-03-02T16:35:44.043614",
     "status": "completed"
    },
    "tags": []
   },
   "source": [
    "Visualizing URL format"
   ]
  },
  {
   "cell_type": "code",
   "execution_count": 11,
   "id": "199a0341",
   "metadata": {
    "execution": {
     "iopub.execute_input": "2024-03-02T16:35:44.106101Z",
     "iopub.status.busy": "2024-03-02T16:35:44.105714Z",
     "iopub.status.idle": "2024-03-02T16:35:44.133807Z",
     "shell.execute_reply": "2024-03-02T16:35:44.132545Z"
    },
    "papermill": {
     "duration": 0.053307,
     "end_time": "2024-03-02T16:35:44.137274",
     "exception": false,
     "start_time": "2024-03-02T16:35:44.083967",
     "status": "completed"
    },
    "tags": []
   },
   "outputs": [
    {
     "name": "stdout",
     "output_type": "stream",
     "text": [
      "      Unnamed: 0 Method                                         User-Agent  \\\n",
      "0         Normal    GET  Mozilla/5.0 (compatible; Konqueror/3.5; Linux)...   \n",
      "1         Normal    GET  Mozilla/5.0 (compatible; Konqueror/3.5; Linux)...   \n",
      "2         Normal   POST  Mozilla/5.0 (compatible; Konqueror/3.5; Linux)...   \n",
      "3         Normal    GET  Mozilla/5.0 (compatible; Konqueror/3.5; Linux)...   \n",
      "4         Normal   POST  Mozilla/5.0 (compatible; Konqueror/3.5; Linux)...   \n",
      "...          ...    ...                                                ...   \n",
      "61060  Anomalous    GET  Mozilla/5.0 (compatible; Konqueror/3.5; Linux)...   \n",
      "61061  Anomalous   POST  Mozilla/5.0 (compatible; Konqueror/3.5; Linux)...   \n",
      "61062  Anomalous    GET  Mozilla/5.0 (compatible; Konqueror/3.5; Linux)...   \n",
      "61063  Anomalous    GET  Mozilla/5.0 (compatible; Konqueror/3.5; Linux)...   \n",
      "61064  Anomalous    GET  Mozilla/5.0 (compatible; Konqueror/3.5; Linux)...   \n",
      "\n",
      "         Pragma Cache-Control  \\\n",
      "0      no-cache      no-cache   \n",
      "1      no-cache      no-cache   \n",
      "2      no-cache      no-cache   \n",
      "3      no-cache      no-cache   \n",
      "4      no-cache      no-cache   \n",
      "...         ...           ...   \n",
      "61060  no-cache      no-cache   \n",
      "61061  no-cache      no-cache   \n",
      "61062  no-cache      no-cache   \n",
      "61063  no-cache      no-cache   \n",
      "61064  no-cache      no-cache   \n",
      "\n",
      "                                                  Accept  \\\n",
      "0      text/xml,application/xml,application/xhtml+xml...   \n",
      "1      text/xml,application/xml,application/xhtml+xml...   \n",
      "2      text/xml,application/xml,application/xhtml+xml...   \n",
      "3      text/xml,application/xml,application/xhtml+xml...   \n",
      "4      text/xml,application/xml,application/xhtml+xml...   \n",
      "...                                                  ...   \n",
      "61060  text/xml,application/xml,application/xhtml+xml...   \n",
      "61061  text/xml,application/xml,application/xhtml+xml...   \n",
      "61062  text/xml,application/xml,application/xhtml+xml...   \n",
      "61063  text/xml,application/xml,application/xhtml+xml...   \n",
      "61064  text/xml,application/xml,application/xhtml+xml...   \n",
      "\n",
      "                        Accept-encoding               Accept-charset language  \\\n",
      "0      x-gzip, x-deflate, gzip, deflate  utf-8, utf-8;q=0.5, *;q=0.5       en   \n",
      "1      x-gzip, x-deflate, gzip, deflate  utf-8, utf-8;q=0.5, *;q=0.5       en   \n",
      "2      x-gzip, x-deflate, gzip, deflate  utf-8, utf-8;q=0.5, *;q=0.5       en   \n",
      "3      x-gzip, x-deflate, gzip, deflate  utf-8, utf-8;q=0.5, *;q=0.5       en   \n",
      "4      x-gzip, x-deflate, gzip, deflate  utf-8, utf-8;q=0.5, *;q=0.5       en   \n",
      "...                                 ...                          ...      ...   \n",
      "61060  x-gzip, x-deflate, gzip, deflate  utf-8, utf-8;q=0.5, *;q=0.5       en   \n",
      "61061  x-gzip, x-deflate, gzip, deflate  utf-8, utf-8;q=0.5, *;q=0.5       en   \n",
      "61062  x-gzip, x-deflate, gzip, deflate  utf-8, utf-8;q=0.5, *;q=0.5       en   \n",
      "61063  x-gzip, x-deflate, gzip, deflate  utf-8, utf-8;q=0.5, *;q=0.5       en   \n",
      "61064  x-gzip, x-deflate, gzip, deflate  utf-8, utf-8;q=0.5, *;q=0.5       en   \n",
      "\n",
      "                 host                                       cookie  \\\n",
      "0      localhost:8080  JSESSIONID=1F767F17239C9B670A39E9B10C3825F4   \n",
      "1      localhost:8080  JSESSIONID=81761ACA043B0E6014CA42A4BCD06AB5   \n",
      "2      localhost:8080  JSESSIONID=933185092E0B668B90676E0A2B0767AF   \n",
      "3      localhost:8080  JSESSIONID=8FA18BA82C5336D03D3A8AFA3E68CBB0   \n",
      "4      localhost:8080  JSESSIONID=7104E6C68A6BCF1423DAE990CE49FEE2   \n",
      "...               ...                                          ...   \n",
      "61060  localhost:8080  JSESSIONID=62216ADBBD9B91E17CA9AFEDCCC36275   \n",
      "61061  localhost:8080  JSESSIONID=2317F5C0B1B7FAD18EB425E98DB102A3   \n",
      "61062  localhost:8080  JSESSIONID=7F0BA54A88B849EF752006D388E15CDD   \n",
      "61063  localhost:8080  JSESSIONID=FB018FFB06011CFABD60D8E8AD58CA21   \n",
      "61064  localhost:8080  JSESSIONID=3CC12010CDA952F123240EBAD79B55CC   \n",
      "\n",
      "                            content-type         connection  \\\n",
      "0                                    NaN              close   \n",
      "1                                    NaN              close   \n",
      "2      application/x-www-form-urlencoded  Connection: close   \n",
      "3                                    NaN              close   \n",
      "4      application/x-www-form-urlencoded  Connection: close   \n",
      "...                                  ...                ...   \n",
      "61060                                NaN              close   \n",
      "61061  application/x-www-form-urlencoded  Connection: close   \n",
      "61062                                NaN              close   \n",
      "61063                                NaN              close   \n",
      "61064                                NaN              close   \n",
      "\n",
      "                    lenght                                            content  \\\n",
      "0                      NaN                                                NaN   \n",
      "1                      NaN                                                NaN   \n",
      "2       Content-Length: 68  id=3&nombre=Vino+Rioja&precio=100&cantidad=55&...   \n",
      "3                      NaN                                                NaN   \n",
      "4       Content-Length: 63  modo=entrar&login=choong&pwd=d1se3ci%F3n&remem...   \n",
      "...                    ...                                                ...   \n",
      "61060                  NaN                                                NaN   \n",
      "61061  Content-Length: 255  modo=registro&login=beaumont&password=quEratIt...   \n",
      "61062                  NaN                                                NaN   \n",
      "61063                  NaN                                                NaN   \n",
      "61064                  NaN                                                NaN   \n",
      "\n",
      "       classification                                                URL  \n",
      "0                   0   http://localhost:8080/tienda1/index.jsp HTTP/1.1  \n",
      "1                   0  http://localhost:8080/tienda1/publico/anadir.j...  \n",
      "2                   0  http://localhost:8080/tienda1/publico/anadir.j...  \n",
      "3                   0  http://localhost:8080/tienda1/publico/autentic...  \n",
      "4                   0  http://localhost:8080/tienda1/publico/autentic...  \n",
      "...               ...                                                ...  \n",
      "61060               1  http://localhost:8080/tienda1/miembros/editar....  \n",
      "61061               1  http://localhost:8080/tienda1/miembros/editar....  \n",
      "61062               1  http://localhost:8080/tienda1/miembros/editar....  \n",
      "61063               1  http://localhost:8080/tienda1/imagenes/3.gif/ ...  \n",
      "61064               1  http://localhost:8080/tienda1/imagenes/nuestra...  \n",
      "\n",
      "[61065 rows x 17 columns]\n"
     ]
    }
   ],
   "source": [
    "feature_names=[ 'Unnamed: 0','Method', 'User-Agent', 'Pragma', 'Cache-Control',\n",
    "       'Accept', 'Accept-encoding', 'Accept-charset', 'language', 'host',\n",
    "       'cookie', 'content-type', 'connection', 'lenght', 'content','classification',\n",
    "        'URL']\n",
    "\n",
    "X=csic_data[feature_names]\n",
    "print(X)"
   ]
  },
  {
   "cell_type": "markdown",
   "id": "78100c74",
   "metadata": {
    "papermill": {
     "duration": 0.020553,
     "end_time": "2024-03-02T16:35:44.180436",
     "exception": false,
     "start_time": "2024-03-02T16:35:44.159883",
     "status": "completed"
    },
    "tags": []
   },
   "source": [
    "# **Removing not discriminatory features**\n",
    "\n",
    "**Enumerating unique values for each feature**"
   ]
  },
  {
   "cell_type": "code",
   "execution_count": 12,
   "id": "3da18b5c",
   "metadata": {
    "execution": {
     "iopub.execute_input": "2024-03-02T16:35:44.225559Z",
     "iopub.status.busy": "2024-03-02T16:35:44.224893Z",
     "iopub.status.idle": "2024-03-02T16:35:44.271434Z",
     "shell.execute_reply": "2024-03-02T16:35:44.270016Z"
    },
    "papermill": {
     "duration": 0.072556,
     "end_time": "2024-03-02T16:35:44.273712",
     "exception": false,
     "start_time": "2024-03-02T16:35:44.201156",
     "status": "completed"
    },
    "tags": []
   },
   "outputs": [
    {
     "name": "stdout",
     "output_type": "stream",
     "text": [
      "           Class Method            host  \\\n",
      "0         Normal    GET  localhost:8080   \n",
      "1         Normal    GET  localhost:8080   \n",
      "2         Normal   POST  localhost:8080   \n",
      "3         Normal    GET  localhost:8080   \n",
      "4         Normal   POST  localhost:8080   \n",
      "...          ...    ...             ...   \n",
      "61060  Anomalous    GET  localhost:8080   \n",
      "61061  Anomalous   POST  localhost:8080   \n",
      "61062  Anomalous    GET  localhost:8080   \n",
      "61063  Anomalous    GET  localhost:8080   \n",
      "61064  Anomalous    GET  localhost:8080   \n",
      "\n",
      "                                            cookie  \\\n",
      "0      JSESSIONID=1F767F17239C9B670A39E9B10C3825F4   \n",
      "1      JSESSIONID=81761ACA043B0E6014CA42A4BCD06AB5   \n",
      "2      JSESSIONID=933185092E0B668B90676E0A2B0767AF   \n",
      "3      JSESSIONID=8FA18BA82C5336D03D3A8AFA3E68CBB0   \n",
      "4      JSESSIONID=7104E6C68A6BCF1423DAE990CE49FEE2   \n",
      "...                                            ...   \n",
      "61060  JSESSIONID=62216ADBBD9B91E17CA9AFEDCCC36275   \n",
      "61061  JSESSIONID=2317F5C0B1B7FAD18EB425E98DB102A3   \n",
      "61062  JSESSIONID=7F0BA54A88B849EF752006D388E15CDD   \n",
      "61063  JSESSIONID=FB018FFB06011CFABD60D8E8AD58CA21   \n",
      "61064  JSESSIONID=3CC12010CDA952F123240EBAD79B55CC   \n",
      "\n",
      "                                                  Accept       content_length  \\\n",
      "0      text/xml,application/xml,application/xhtml+xml...                  NaN   \n",
      "1      text/xml,application/xml,application/xhtml+xml...                  NaN   \n",
      "2      text/xml,application/xml,application/xhtml+xml...   Content-Length: 68   \n",
      "3      text/xml,application/xml,application/xhtml+xml...                  NaN   \n",
      "4      text/xml,application/xml,application/xhtml+xml...   Content-Length: 63   \n",
      "...                                                  ...                  ...   \n",
      "61060  text/xml,application/xml,application/xhtml+xml...                  NaN   \n",
      "61061  text/xml,application/xml,application/xhtml+xml...  Content-Length: 255   \n",
      "61062  text/xml,application/xml,application/xhtml+xml...                  NaN   \n",
      "61063  text/xml,application/xml,application/xhtml+xml...                  NaN   \n",
      "61064  text/xml,application/xml,application/xhtml+xml...                  NaN   \n",
      "\n",
      "                                                 content  classification  \\\n",
      "0                                                    NaN               0   \n",
      "1                                                    NaN               0   \n",
      "2      id=3&nombre=Vino+Rioja&precio=100&cantidad=55&...               0   \n",
      "3                                                    NaN               0   \n",
      "4      modo=entrar&login=choong&pwd=d1se3ci%F3n&remem...               0   \n",
      "...                                                  ...             ...   \n",
      "61060                                                NaN               1   \n",
      "61061  modo=registro&login=beaumont&password=quEratIt...               1   \n",
      "61062                                                NaN               1   \n",
      "61063                                                NaN               1   \n",
      "61064                                                NaN               1   \n",
      "\n",
      "                                                     URL  \n",
      "0       http://localhost:8080/tienda1/index.jsp HTTP/1.1  \n",
      "1      http://localhost:8080/tienda1/publico/anadir.j...  \n",
      "2      http://localhost:8080/tienda1/publico/anadir.j...  \n",
      "3      http://localhost:8080/tienda1/publico/autentic...  \n",
      "4      http://localhost:8080/tienda1/publico/autentic...  \n",
      "...                                                  ...  \n",
      "61060  http://localhost:8080/tienda1/miembros/editar....  \n",
      "61061  http://localhost:8080/tienda1/miembros/editar....  \n",
      "61062  http://localhost:8080/tienda1/miembros/editar....  \n",
      "61063  http://localhost:8080/tienda1/imagenes/3.gif/ ...  \n",
      "61064  http://localhost:8080/tienda1/imagenes/nuestra...  \n",
      "\n",
      "[61065 rows x 9 columns]\n"
     ]
    }
   ],
   "source": [
    "# Removing not discriminatory Features and making some adjustments on feature names\n",
    "X = X.rename(columns={'Unnamed: 0': 'Class'})\n",
    "X = X.rename(columns={'lenght': 'content_length'})\n",
    "\n",
    "\n",
    "feature_names=[ 'Class','Method','host','cookie','Accept', 'content_length', 'content','classification','URL']\n",
    "\n",
    "# Print the remaining data\n",
    "X = X[feature_names]\n",
    "print(X)"
   ]
  },
  {
   "cell_type": "code",
   "execution_count": 13,
   "id": "bab3b9a2",
   "metadata": {
    "execution": {
     "iopub.execute_input": "2024-03-02T16:35:44.316367Z",
     "iopub.status.busy": "2024-03-02T16:35:44.316046Z",
     "iopub.status.idle": "2024-03-02T16:35:44.322000Z",
     "shell.execute_reply": "2024-03-02T16:35:44.320923Z"
    },
    "papermill": {
     "duration": 0.029337,
     "end_time": "2024-03-02T16:35:44.324013",
     "exception": false,
     "start_time": "2024-03-02T16:35:44.294676",
     "status": "completed"
    },
    "tags": []
   },
   "outputs": [
    {
     "name": "stdout",
     "output_type": "stream",
     "text": [
      "0           Normal\n",
      "1           Normal\n",
      "2           Normal\n",
      "3           Normal\n",
      "4           Normal\n",
      "           ...    \n",
      "61060    Anomalous\n",
      "61061    Anomalous\n",
      "61062    Anomalous\n",
      "61063    Anomalous\n",
      "61064    Anomalous\n",
      "Name: Class, Length: 61065, dtype: object\n"
     ]
    }
   ],
   "source": [
    "y=X.Class\n",
    "print(y)\n"
   ]
  },
  {
   "cell_type": "code",
   "execution_count": 14,
   "id": "f52e3197",
   "metadata": {
    "execution": {
     "iopub.execute_input": "2024-03-02T16:35:44.367499Z",
     "iopub.status.busy": "2024-03-02T16:35:44.367175Z",
     "iopub.status.idle": "2024-03-02T16:35:44.373385Z",
     "shell.execute_reply": "2024-03-02T16:35:44.372360Z"
    },
    "papermill": {
     "duration": 0.030289,
     "end_time": "2024-03-02T16:35:44.375389",
     "exception": false,
     "start_time": "2024-03-02T16:35:44.345100",
     "status": "completed"
    },
    "tags": []
   },
   "outputs": [
    {
     "name": "stdout",
     "output_type": "stream",
     "text": [
      "Categorical variables:\n",
      "['Class', 'Method', 'host', 'cookie', 'Accept', 'content_length', 'content', 'URL']\n"
     ]
    }
   ],
   "source": [
    "size=X.shape[1]\n",
    "# Get list of categorical variables\n",
    "s = (X.dtypes == 'object')\n",
    "object_cols = list(s[s].index)\n",
    "\n",
    "print(\"Categorical variables:\")\n",
    "print(object_cols)"
   ]
  },
  {
   "cell_type": "markdown",
   "id": "4b5be848",
   "metadata": {
    "papermill": {
     "duration": 0.020718,
     "end_time": "2024-03-02T16:35:44.417171",
     "exception": false,
     "start_time": "2024-03-02T16:35:44.396453",
     "status": "completed"
    },
    "tags": []
   },
   "source": [
    "Load Models"
   ]
  },
  {
   "cell_type": "markdown",
   "id": "a546b76d",
   "metadata": {
    "papermill": {
     "duration": 0.020486,
     "end_time": "2024-03-02T16:35:44.458458",
     "exception": false,
     "start_time": "2024-03-02T16:35:44.437972",
     "status": "completed"
    },
    "tags": []
   },
   "source": [
    "# **Pre-processing on the feature: Content Length**"
   ]
  },
  {
   "cell_type": "code",
   "execution_count": 15,
   "id": "0f286590",
   "metadata": {
    "execution": {
     "iopub.execute_input": "2024-03-02T16:35:44.501316Z",
     "iopub.status.busy": "2024-03-02T16:35:44.500929Z",
     "iopub.status.idle": "2024-03-02T16:35:44.506903Z",
     "shell.execute_reply": "2024-03-02T16:35:44.505984Z"
    },
    "papermill": {
     "duration": 0.029932,
     "end_time": "2024-03-02T16:35:44.509171",
     "exception": false,
     "start_time": "2024-03-02T16:35:44.479239",
     "status": "completed"
    },
    "tags": []
   },
   "outputs": [
    {
     "name": "stdout",
     "output_type": "stream",
     "text": [
      "0                        NaN\n",
      "1                        NaN\n",
      "2         Content-Length: 68\n",
      "3                        NaN\n",
      "4         Content-Length: 63\n",
      "                ...         \n",
      "61060                    NaN\n",
      "61061    Content-Length: 255\n",
      "61062                    NaN\n",
      "61063                    NaN\n",
      "61064                    NaN\n",
      "Name: content_length, Length: 61065, dtype: object\n"
     ]
    }
   ],
   "source": [
    "print(X.content_length)"
   ]
  },
  {
   "cell_type": "markdown",
   "id": "8d53a73d",
   "metadata": {
    "papermill": {
     "duration": 0.02116,
     "end_time": "2024-03-02T16:35:44.551521",
     "exception": false,
     "start_time": "2024-03-02T16:35:44.530361",
     "status": "completed"
    },
    "tags": []
   },
   "source": [
    "Operations on the 'content_lenght' feature"
   ]
  },
  {
   "cell_type": "code",
   "execution_count": 16,
   "id": "a0b9d523",
   "metadata": {
    "execution": {
     "iopub.execute_input": "2024-03-02T16:35:44.595285Z",
     "iopub.status.busy": "2024-03-02T16:35:44.594917Z",
     "iopub.status.idle": "2024-03-02T16:35:44.730203Z",
     "shell.execute_reply": "2024-03-02T16:35:44.728931Z"
    },
    "papermill": {
     "duration": 0.159914,
     "end_time": "2024-03-02T16:35:44.732465",
     "exception": false,
     "start_time": "2024-03-02T16:35:44.572551",
     "status": "completed"
    },
    "tags": []
   },
   "outputs": [
    {
     "name": "stdout",
     "output_type": "stream",
     "text": [
      "0          0.0\n",
      "1          0.0\n",
      "2         68.0\n",
      "3          0.0\n",
      "4         63.0\n",
      "         ...  \n",
      "61060      0.0\n",
      "61061    255.0\n",
      "61062      0.0\n",
      "61063      0.0\n",
      "61064      0.0\n",
      "Name: content_length, Length: 61065, dtype: float64\n"
     ]
    }
   ],
   "source": [
    "#replace NaN values with 0\n",
    "#removing the 'Content-Lenght' string and keeping only the numerical value\n",
    "\n",
    "X['content_length'] = X['content_length'].astype(str)\n",
    "X['content_length'] = X['content_length'].str.extract(r'(\\d+)')\n",
    "X['content_length'] = pd.to_numeric(X['content_length'], errors='coerce').fillna(0)\n",
    "print(X.content_length)\n"
   ]
  },
  {
   "cell_type": "markdown",
   "id": "c6825e95",
   "metadata": {
    "papermill": {
     "duration": 0.021313,
     "end_time": "2024-03-02T16:35:44.776443",
     "exception": false,
     "start_time": "2024-03-02T16:35:44.755130",
     "status": "completed"
    },
    "tags": []
   },
   "source": [
    "GET methods have the content_length set to 0 since they where all NaN (this method does not have to provide content)"
   ]
  },
  {
   "cell_type": "code",
   "execution_count": 17,
   "id": "0d65a7e4",
   "metadata": {
    "execution": {
     "iopub.execute_input": "2024-03-02T16:35:44.820283Z",
     "iopub.status.busy": "2024-03-02T16:35:44.819934Z",
     "iopub.status.idle": "2024-03-02T16:35:44.836943Z",
     "shell.execute_reply": "2024-03-02T16:35:44.835820Z"
    },
    "papermill": {
     "duration": 0.041105,
     "end_time": "2024-03-02T16:35:44.838896",
     "exception": false,
     "start_time": "2024-03-02T16:35:44.797791",
     "status": "completed"
    },
    "tags": []
   },
   "outputs": [
    {
     "name": "stdout",
     "output_type": "stream",
     "text": [
      "0        0.0\n",
      "1        0.0\n",
      "3        0.0\n",
      "5        0.0\n",
      "7        0.0\n",
      "        ... \n",
      "61058    0.0\n",
      "61060    0.0\n",
      "61062    0.0\n",
      "61063    0.0\n",
      "61064    0.0\n",
      "Name: content_length, Length: 43088, dtype: float64\n"
     ]
    }
   ],
   "source": [
    "filtered_length = X.loc[X['Method'] == 'GET', 'content_length']\n",
    "print(filtered_length)\n"
   ]
  },
  {
   "cell_type": "markdown",
   "id": "3dfc74ed",
   "metadata": {
    "papermill": {
     "duration": 0.020878,
     "end_time": "2024-03-02T16:35:44.881568",
     "exception": false,
     "start_time": "2024-03-02T16:35:44.860690",
     "status": "completed"
    },
    "tags": []
   },
   "source": [
    "# URL PRE-PROCESSING"
   ]
  },
  {
   "cell_type": "code",
   "execution_count": 18,
   "id": "a3009b32",
   "metadata": {
    "execution": {
     "iopub.execute_input": "2024-03-02T16:35:44.924972Z",
     "iopub.status.busy": "2024-03-02T16:35:44.924653Z",
     "iopub.status.idle": "2024-03-02T16:35:44.946819Z",
     "shell.execute_reply": "2024-03-02T16:35:44.945844Z"
    },
    "papermill": {
     "duration": 0.046154,
     "end_time": "2024-03-02T16:35:44.948919",
     "exception": false,
     "start_time": "2024-03-02T16:35:44.902765",
     "status": "completed"
    },
    "tags": []
   },
   "outputs": [
    {
     "name": "stdout",
     "output_type": "stream",
     "text": [
      "Most common URLs:\n",
      "1. URL: http://localhost:8080/tienda1/publico/anadir.jsp HTTP/1.1 - Count: 2441\n",
      "2. URL: http://localhost:8080/tienda1/publico/autenticar.jsp HTTP/1.1 - Count: 2422\n",
      "3. URL: http://localhost:8080/tienda1/publico/registro.jsp HTTP/1.1 - Count: 2417\n",
      "4. URL: http://localhost:8080/tienda1/miembros/editar.jsp HTTP/1.1 - Count: 2412\n",
      "5. URL: http://localhost:8080/tienda1/publico/pagar.jsp HTTP/1.1 - Count: 2379\n",
      "6. URL: http://localhost:8080/tienda1/publico/caracteristicas.jsp HTTP/1.1 - Count: 2003\n",
      "7. URL: http://localhost:8080/tienda1/publico/vaciar.jsp HTTP/1.1 - Count: 1965\n",
      "8. URL: http://localhost:8080/tienda1/publico/entrar.jsp HTTP/1.1 - Count: 1938\n",
      "9. URL: http://localhost:8080/tienda1/index.jsp HTTP/1.1 - Count: 1000\n",
      "10. URL: http://localhost:8080/tienda1/miembros/salir.jsp HTTP/1.1 - Count: 1000\n"
     ]
    }
   ],
   "source": [
    "url_counts = X['URL'].value_counts()\n",
    "most_common_urls = url_counts.head(10)  # Extract the top 10 most common strings\n",
    "\n",
    "print(\"Most common URLs:\")\n",
    "for i, (url, count) in enumerate(most_common_urls.items(), 1):\n",
    "    print(f\"{i}. URL: {url} - Count: {count}\")\n"
   ]
  },
  {
   "cell_type": "markdown",
   "id": "07531e9c",
   "metadata": {
    "papermill": {
     "duration": 0.021444,
     "end_time": "2024-03-02T16:35:44.991992",
     "exception": false,
     "start_time": "2024-03-02T16:35:44.970548",
     "status": "completed"
    },
    "tags": []
   },
   "source": [
    "**Utils for URL/Content pre-processing**"
   ]
  },
  {
   "cell_type": "code",
   "execution_count": 19,
   "id": "486b61a5",
   "metadata": {
    "execution": {
     "iopub.execute_input": "2024-03-02T16:35:45.036239Z",
     "iopub.status.busy": "2024-03-02T16:35:45.035944Z",
     "iopub.status.idle": "2024-03-02T16:35:45.058498Z",
     "shell.execute_reply": "2024-03-02T16:35:45.057612Z"
    },
    "papermill": {
     "duration": 0.047063,
     "end_time": "2024-03-02T16:35:45.060363",
     "exception": false,
     "start_time": "2024-03-02T16:35:45.013300",
     "status": "completed"
    },
    "tags": []
   },
   "outputs": [],
   "source": [
    "def count_dot(url):\n",
    "    count_dot = url.count('.')\n",
    "    return count_dot\n",
    "\n",
    "\n",
    "def no_of_dir(url):\n",
    "    urldir = urlparse(url).path\n",
    "    return urldir.count('/')\n",
    "\n",
    "def no_of_embed(url):\n",
    "    urldir = urlparse(url).path\n",
    "    return urldir.count('//')\n",
    "\n",
    "def shortening_service(url):\n",
    "    match = re.search('bit\\.ly|goo\\.gl|shorte\\.st|go2l\\.ink|x\\.co|ow\\.ly|t\\.co|tinyurl|tr\\.im|is\\.gd|cli\\.gs|'\n",
    "                      'yfrog\\.com|migre\\.me|ff\\.im|tiny\\.cc|url4\\.eu|twit\\.ac|su\\.pr|twurl\\.nl|snipurl\\.com|'\n",
    "                      'short\\.to|BudURL\\.com|ping\\.fm|post\\.ly|Just\\.as|bkite\\.com|snipr\\.com|fic\\.kr|loopt\\.us|'\n",
    "                      'doiop\\.com|short\\.ie|kl\\.am|wp\\.me|rubyurl\\.com|om\\.ly|to\\.ly|bit\\.do|t\\.co|lnkd\\.in|'\n",
    "                      'db\\.tt|qr\\.ae|adf\\.ly|goo\\.gl|bitly\\.com|cur\\.lv|tinyurl\\.com|ow\\.ly|bit\\.ly|ity\\.im|'\n",
    "                      'q\\.gs|is\\.gd|po\\.st|bc\\.vc|twitthis\\.com|u\\.to|j\\.mp|buzurl\\.com|cutt\\.us|u\\.bb|yourls\\.org|'\n",
    "                      'x\\.co|prettylinkpro\\.com|scrnch\\.me|filoops\\.info|vzturl\\.com|qr\\.net|1url\\.com|tweez\\.me|v\\.gd|'\n",
    "                      'tr\\.im|link\\.zip\\.net',\n",
    "                      url)\n",
    "    if match:\n",
    "        return 1\n",
    "    else:\n",
    "        return 0\n",
    "\n",
    "\n",
    "def count_http(url):\n",
    "    return url.count('http')\n",
    "\n",
    "def count_per(url):\n",
    "    return url.count('%')\n",
    "\n",
    "def count_ques(url):\n",
    "    return url.count('?')\n",
    "\n",
    "def count_hyphen(url):\n",
    "    return url.count('-')\n",
    "\n",
    "\n",
    "def count_equal(url):\n",
    "    return url.count('=')\n",
    "\n",
    "\n",
    "def url_length(url):\n",
    "    return len(str(url))\n",
    "\n",
    "#Hostname Length\n",
    "\n",
    "def hostname_length(url):\n",
    "    return len(urlparse(url).netloc)\n",
    "\n",
    "\n",
    "import re\n",
    "\n",
    "def suspicious_words(url):\n",
    "    score_map = {\n",
    "        'error': 30,\n",
    "        'errorMsg': 30,\n",
    "        'id': 10,\n",
    "        'errorID': 30,\n",
    "        'SELECT': 50,\n",
    "        'FROM': 50,\n",
    "        'WHERE': 50,\n",
    "        'DELETE': 50,\n",
    "        'USERS': 50,\n",
    "        'DROP': 50,\n",
    "        'CREATE': 50,\n",
    "        'INJECTED': 50,\n",
    "        'TABLE': 50,\n",
    "        'alert': 30,\n",
    "        'javascript': 20,\n",
    "        'cookie': 25,\n",
    "        '--': 30,\n",
    "        '.exe': 30,\n",
    "        '.php': 20,\n",
    "        '.js': 10,\n",
    "        'admin': 10,\n",
    "        'administrator': 10,\n",
    "        '\\'': 30,\n",
    "        'password': 15,\n",
    "        'login': 15,\n",
    "        'incorrect': 20,\n",
    "        'pwd': 15,\n",
    "        'tamper': 25,\n",
    "        'vaciar': 20,\n",
    "        'carrito': 25,\n",
    "        'wait': 30,\n",
    "        'delay': 35,\n",
    "        'set': 20,\n",
    "        'steal': 35,\n",
    "        'hacker': 35,\n",
    "        'proxy': 35,\n",
    "        'location': 30,\n",
    "        'document.cookie': 40,\n",
    "        'document': 20,\n",
    "        'set-cookie': 40,\n",
    "        'create': 40,\n",
    "        'cmd': 40,\n",
    "        'dir': 30,\n",
    "        'shell': 40,\n",
    "        'reverse': 30,\n",
    "        'bin': 20,\n",
    "        'cookiesteal': 40,\n",
    "        'LIKE': 30,\n",
    "        'UNION': 35,\n",
    "        'include': 30,\n",
    "        'file': 20,\n",
    "        'tmp': 25,\n",
    "        'ssh': 40,\n",
    "        'exec': 30,\n",
    "        'cat': 25,\n",
    "        'etc': 30,\n",
    "        'fetch': 25,\n",
    "        'eval': 30,\n",
    "        'wait': 30,\n",
    "        'malware': 45,\n",
    "        'ransomware': 45,\n",
    "        'phishing': 45,\n",
    "        'exploit': 45,\n",
    "        'virus': 45,\n",
    "        'trojan': 45,\n",
    "        'backdoor': 45,\n",
    "        'spyware': 45,\n",
    "        'rootkit': 45,\n",
    "        'credential': 30,\n",
    "        'inject': 30,\n",
    "        'script': 25,\n",
    "        'iframe': 25,\n",
    "        'src=': 25,\n",
    "        'onerror': 30,\n",
    "        'prompt': 20,\n",
    "        'confirm': 20,\n",
    "        'eval': 25,\n",
    "        'expression': 30,\n",
    "        'function\\(': 20,\n",
    "        'xmlhttprequest': 30,\n",
    "        'xhr': 20,\n",
    "        'window.': 20,\n",
    "        'document.': 20,\n",
    "        'cookie': 25,\n",
    "        'click': 15,\n",
    "        'mouseover': 15,\n",
    "        'onload': 20,\n",
    "        'onunload': 20,\n",
    "    }\n",
    "\n",
    "    matches = re.findall(r'(?i)' + '|'.join(score_map.keys()), url)\n",
    "\n",
    "    total_score = sum(score_map.get(match.lower(), 0) for match in matches)\n",
    "    return total_score\n",
    "\n",
    "\n",
    "def digit_count(url):\n",
    "    digits = 0\n",
    "    for i in url:\n",
    "        if i.isnumeric():\n",
    "            digits = digits + 1\n",
    "    return digits\n",
    "\n",
    "def letter_count(url):\n",
    "    letters = 0\n",
    "    for i in url:\n",
    "        if i.isalpha():\n",
    "            letters += 1\n",
    "    return letters\n",
    "\n",
    "def count_special_characters(url):\n",
    "    special_characters = re.sub(r'[a-zA-Z0-9\\s]', '', url)\n",
    "    count = len(special_characters)\n",
    "    return count\n",
    "\n",
    "\n",
    "# Number of Parameters in URL\n",
    "def number_of_parameters(url):\n",
    "    params = urlparse(url).query\n",
    "    return 0 if params == '' else len(params.split('&'))\n",
    "\n",
    "# Number of Fragments in URL\n",
    "def number_of_fragments(url):\n",
    "    frags = urlparse(url).fragment\n",
    "    return len(frags.split('#')) - 1 if frags == '' else 0\n",
    "\n",
    "# URL is Encoded\n",
    "def is_encoded(url):\n",
    "    return int('%' in url.lower())\n",
    "\n",
    "\n",
    "def unusual_character_ratio(url):\n",
    "    total_characters = len(url)\n",
    "    unusual_characters = re.sub(r'[a-zA-Z0-9\\s\\-._]', '', url)\n",
    "    unusual_count = len(unusual_characters)\n",
    "    ratio = unusual_count / total_characters if total_characters > 0 else 0\n",
    "    return ratio\n",
    "\n"
   ]
  },
  {
   "cell_type": "code",
   "execution_count": 20,
   "id": "3ec415f0",
   "metadata": {
    "execution": {
     "iopub.execute_input": "2024-03-02T16:35:45.104840Z",
     "iopub.status.busy": "2024-03-02T16:35:45.104451Z",
     "iopub.status.idle": "2024-03-02T16:36:03.748043Z",
     "shell.execute_reply": "2024-03-02T16:36:03.747060Z"
    },
    "papermill": {
     "duration": 18.668638,
     "end_time": "2024-03-02T16:36:03.750466",
     "exception": false,
     "start_time": "2024-03-02T16:35:45.081828",
     "status": "completed"
    },
    "tags": []
   },
   "outputs": [],
   "source": [
    "X['count_dot_url'] = X['URL'].apply(count_dot)\n",
    "X['count_dir_url'] = X['URL'].apply(no_of_dir)\n",
    "X['count_embed_domain_url'] = X['URL'].apply(no_of_embed)\n",
    "X['short_url'] = X['URL'].apply(shortening_service)\n",
    "X['count-http'] = X['URL'].apply(count_http)\n",
    "X['count%_url'] = X['URL'].apply(count_per)\n",
    "X['count?_url'] = X['URL'].apply(count_ques)\n",
    "X['count-_url'] = X['URL'].apply(count_hyphen)\n",
    "X['count=_url'] = X['URL'].apply(count_equal)\n",
    "X['hostname_length_url'] = X['URL'].apply(hostname_length)\n",
    "X['sus_url'] = X['URL'].apply(suspicious_words)\n",
    "X['count-digits_url'] = X['URL'].apply(digit_count)\n",
    "X['count-letters_url'] = X['URL'].apply(letter_count)\n",
    "X['url_length'] = X['URL'].apply(url_length)\n",
    "X['number_of_parameters_url'] = X['URL'].apply(number_of_parameters)\n",
    "X['number_of_fragments_url'] = X['URL'].apply(number_of_fragments)\n",
    "X['is_encoded_url'] = X['URL'].apply(is_encoded)\n",
    "X['special_count_url'] = X['URL'].apply(count_special_characters)\n",
    "X['unusual_character_ratio_url'] = X['URL'].apply(unusual_character_ratio)\n",
    "\n"
   ]
  },
  {
   "cell_type": "code",
   "execution_count": 21,
   "id": "f50067b7",
   "metadata": {
    "execution": {
     "iopub.execute_input": "2024-03-02T16:36:03.795662Z",
     "iopub.status.busy": "2024-03-02T16:36:03.795086Z",
     "iopub.status.idle": "2024-03-02T16:36:03.883885Z",
     "shell.execute_reply": "2024-03-02T16:36:03.882492Z"
    },
    "papermill": {
     "duration": 0.113652,
     "end_time": "2024-03-02T16:36:03.886188",
     "exception": false,
     "start_time": "2024-03-02T16:36:03.772536",
     "status": "completed"
    },
    "tags": []
   },
   "outputs": [
    {
     "name": "stdout",
     "output_type": "stream",
     "text": [
      "Number of unique values for Class: 2\n",
      "Number of unique values for Method: 3\n",
      "Number of unique values for host: 2\n",
      "Number of unique values for cookie: 61065\n",
      "Number of unique values for Accept: 1\n",
      "Number of unique values for content_length: 383\n",
      "Number of unique values for content: 12091\n",
      "Number of unique values for classification: 2\n",
      "Number of unique values for URL: 13498\n",
      "Number of unique values for count_dot_url: 9\n",
      "Number of unique values for count_dir_url: 7\n",
      "Number of unique values for count_embed_domain_url: 2\n",
      "Number of unique values for short_url: 2\n",
      "Number of unique values for count-http: 2\n",
      "Number of unique values for count%_url: 34\n",
      "Number of unique values for count?_url: 2\n",
      "Number of unique values for count-_url: 8\n",
      "Number of unique values for count=_url: 5\n",
      "Number of unique values for hostname_length_url: 5\n",
      "Number of unique values for sus_url: 61\n",
      "Number of unique values for count-digits_url: 112\n",
      "Number of unique values for count-letters_url: 259\n",
      "Number of unique values for url_length: 417\n",
      "Number of unique values for number_of_parameters_url: 5\n",
      "Number of unique values for number_of_fragments_url: 1\n",
      "Number of unique values for is_encoded_url: 2\n",
      "Number of unique values for special_count_url: 91\n",
      "Number of unique values for unusual_character_ratio_url: 1536\n"
     ]
    }
   ],
   "source": [
    "# Select the features and class variable for plotting\n",
    "new_features = ['count_dot_url', 'count_dir_url', 'count_embed_domain_url', 'count-http',\n",
    "                'count%_url', 'count?_url', 'count-_url', 'count=_url', 'url_length', 'hostname_length_url',\n",
    "                'sus_url', 'count-digits_url', 'count-letters_url', 'number_of_parameters_url',\n",
    "                'number_of_fragments_url', 'is_encoded_url','special_count_url','unusual_character_ratio_url']\n",
    "\n",
    "# Create a DataFrame with the selected features\n",
    "set = X[new_features]\n",
    "\n",
    "for new_feature in X.columns:\n",
    "    if new_feature in X.columns:\n",
    "        unique_count = X[new_feature].nunique()\n",
    "        print(f\"Number of unique values for {new_feature}: {unique_count}\")\n",
    "    else:\n",
    "        print(f\"Column '{new_feature}' does not exist in the DataFrame.\")\n",
    "\n"
   ]
  },
  {
   "cell_type": "markdown",
   "id": "e3801c98",
   "metadata": {
    "papermill": {
     "duration": 0.021437,
     "end_time": "2024-03-02T16:36:03.929991",
     "exception": false,
     "start_time": "2024-03-02T16:36:03.908554",
     "status": "completed"
    },
    "tags": []
   },
   "source": [
    "# Removing Cookies as feature\n",
    " **cookies are unique for each sample, this feature cannot be used as discriminant**"
   ]
  },
  {
   "cell_type": "code",
   "execution_count": 22,
   "id": "c7e3242e",
   "metadata": {
    "execution": {
     "iopub.execute_input": "2024-03-02T16:36:03.975516Z",
     "iopub.status.busy": "2024-03-02T16:36:03.974694Z",
     "iopub.status.idle": "2024-03-02T16:36:03.998332Z",
     "shell.execute_reply": "2024-03-02T16:36:03.997422Z"
    },
    "papermill": {
     "duration": 0.048789,
     "end_time": "2024-03-02T16:36:04.000418",
     "exception": false,
     "start_time": "2024-03-02T16:36:03.951629",
     "status": "completed"
    },
    "tags": []
   },
   "outputs": [
    {
     "name": "stdout",
     "output_type": "stream",
     "text": [
      "Count of unique values in 'cookie': 61065\n"
     ]
    }
   ],
   "source": [
    "unique_count = X['cookie'].nunique()\n",
    "print(f\"Count of unique values in 'cookie': {unique_count}\")\n"
   ]
  },
  {
   "cell_type": "markdown",
   "id": "cc17cd24",
   "metadata": {
    "papermill": {
     "duration": 0.021335,
     "end_time": "2024-03-02T16:36:04.043891",
     "exception": false,
     "start_time": "2024-03-02T16:36:04.022556",
     "status": "completed"
    },
    "tags": []
   },
   "source": [
    "# Encoding categorical features"
   ]
  },
  {
   "cell_type": "code",
   "execution_count": 23,
   "id": "fbce7b93",
   "metadata": {
    "execution": {
     "iopub.execute_input": "2024-03-02T16:36:04.088309Z",
     "iopub.status.busy": "2024-03-02T16:36:04.087975Z",
     "iopub.status.idle": "2024-03-02T16:36:04.687982Z",
     "shell.execute_reply": "2024-03-02T16:36:04.686977Z"
    },
    "papermill": {
     "duration": 0.625045,
     "end_time": "2024-03-02T16:36:04.690602",
     "exception": false,
     "start_time": "2024-03-02T16:36:04.065557",
     "status": "completed"
    },
    "tags": []
   },
   "outputs": [],
   "source": [
    "X['Accept'] = X['Accept'].astype(str)\n",
    "X['Accept'] = X['Accept'].str.extract(r'(\\d+)')\n",
    "X['Accept'] = pd.to_numeric(X['Accept'], errors='coerce').fillna(1)"
   ]
  },
  {
   "cell_type": "code",
   "execution_count": 24,
   "id": "0e28de0f",
   "metadata": {
    "execution": {
     "iopub.execute_input": "2024-03-02T16:36:04.737159Z",
     "iopub.status.busy": "2024-03-02T16:36:04.736865Z",
     "iopub.status.idle": "2024-03-02T16:36:04.783580Z",
     "shell.execute_reply": "2024-03-02T16:36:04.782882Z"
    },
    "papermill": {
     "duration": 0.071518,
     "end_time": "2024-03-02T16:36:04.785505",
     "exception": false,
     "start_time": "2024-03-02T16:36:04.713987",
     "status": "completed"
    },
    "tags": []
   },
   "outputs": [],
   "source": [
    "lb_make = LabelEncoder()\n",
    "X[\"Method_enc\"] = lb_make.fit_transform(X[\"Method\"])\n",
    "X[\"host_enc\"] =lb_make.fit_transform(X[\"host\"])\n",
    "X[\"Accept_enc\"] =lb_make.fit_transform(X[\"Accept\"])\n"
   ]
  },
  {
   "cell_type": "code",
   "execution_count": 25,
   "id": "12b0a8fd",
   "metadata": {
    "execution": {
     "iopub.execute_input": "2024-03-02T16:36:04.830422Z",
     "iopub.status.busy": "2024-03-02T16:36:04.830123Z",
     "iopub.status.idle": "2024-03-02T16:36:04.837962Z",
     "shell.execute_reply": "2024-03-02T16:36:04.836961Z"
    },
    "papermill": {
     "duration": 0.032478,
     "end_time": "2024-03-02T16:36:04.839870",
     "exception": false,
     "start_time": "2024-03-02T16:36:04.807392",
     "status": "completed"
    },
    "tags": []
   },
   "outputs": [
    {
     "name": "stdout",
     "output_type": "stream",
     "text": [
      "Number of unique values for 'Method_enc': 3\n",
      "Number of unique values for 'host_enc': 2\n",
      "Number of unique values for 'Accept_enc': 2\n"
     ]
    }
   ],
   "source": [
    "unique_count_met = X[\"Method_enc\"].nunique()\n",
    "unique_count_host = X[\"host_enc\"].nunique()\n",
    "unique_count_acc = X[\"Accept_enc\"].nunique()\n",
    "\n",
    "\n",
    "print(f\"Number of unique values for 'Method_enc': {unique_count_met}\")\n",
    "print(f\"Number of unique values for 'host_enc': {unique_count_host}\")\n",
    "print(f\"Number of unique values for 'Accept_enc': {unique_count_acc}\")\n",
    "\n",
    "\n",
    "\n"
   ]
  },
  {
   "cell_type": "code",
   "execution_count": 26,
   "id": "07660818",
   "metadata": {
    "execution": {
     "iopub.execute_input": "2024-03-02T16:36:04.885965Z",
     "iopub.status.busy": "2024-03-02T16:36:04.885172Z",
     "iopub.status.idle": "2024-03-02T16:36:04.905395Z",
     "shell.execute_reply": "2024-03-02T16:36:04.904530Z"
    },
    "papermill": {
     "duration": 0.045354,
     "end_time": "2024-03-02T16:36:04.907393",
     "exception": false,
     "start_time": "2024-03-02T16:36:04.862039",
     "status": "completed"
    },
    "tags": []
   },
   "outputs": [
    {
     "data": {
      "text/html": [
       "<div>\n",
       "<style scoped>\n",
       "    .dataframe tbody tr th:only-of-type {\n",
       "        vertical-align: middle;\n",
       "    }\n",
       "\n",
       "    .dataframe tbody tr th {\n",
       "        vertical-align: top;\n",
       "    }\n",
       "\n",
       "    .dataframe thead th {\n",
       "        text-align: right;\n",
       "    }\n",
       "</style>\n",
       "<table border=\"1\" class=\"dataframe\">\n",
       "  <thead>\n",
       "    <tr style=\"text-align: right;\">\n",
       "      <th></th>\n",
       "      <th>Class</th>\n",
       "      <th>Method</th>\n",
       "      <th>host</th>\n",
       "      <th>cookie</th>\n",
       "      <th>Accept</th>\n",
       "      <th>content_length</th>\n",
       "      <th>content</th>\n",
       "      <th>classification</th>\n",
       "      <th>URL</th>\n",
       "      <th>count_dot_url</th>\n",
       "      <th>...</th>\n",
       "      <th>count-letters_url</th>\n",
       "      <th>url_length</th>\n",
       "      <th>number_of_parameters_url</th>\n",
       "      <th>number_of_fragments_url</th>\n",
       "      <th>is_encoded_url</th>\n",
       "      <th>special_count_url</th>\n",
       "      <th>unusual_character_ratio_url</th>\n",
       "      <th>Method_enc</th>\n",
       "      <th>host_enc</th>\n",
       "      <th>Accept_enc</th>\n",
       "    </tr>\n",
       "  </thead>\n",
       "  <tbody>\n",
       "    <tr>\n",
       "      <th>0</th>\n",
       "      <td>Normal</td>\n",
       "      <td>GET</td>\n",
       "      <td>localhost:8080</td>\n",
       "      <td>JSESSIONID=1F767F17239C9B670A39E9B10C3825F4</td>\n",
       "      <td>0.0</td>\n",
       "      <td>0.0</td>\n",
       "      <td>NaN</td>\n",
       "      <td>0</td>\n",
       "      <td>http://localhost:8080/tienda1/index.jsp HTTP/1.1</td>\n",
       "      <td>2</td>\n",
       "      <td>...</td>\n",
       "      <td>31</td>\n",
       "      <td>48</td>\n",
       "      <td>0</td>\n",
       "      <td>0</td>\n",
       "      <td>0</td>\n",
       "      <td>9</td>\n",
       "      <td>0.145833</td>\n",
       "      <td>0</td>\n",
       "      <td>0</td>\n",
       "      <td>0</td>\n",
       "    </tr>\n",
       "    <tr>\n",
       "      <th>1</th>\n",
       "      <td>Normal</td>\n",
       "      <td>GET</td>\n",
       "      <td>localhost:8080</td>\n",
       "      <td>JSESSIONID=81761ACA043B0E6014CA42A4BCD06AB5</td>\n",
       "      <td>0.0</td>\n",
       "      <td>0.0</td>\n",
       "      <td>NaN</td>\n",
       "      <td>0</td>\n",
       "      <td>http://localhost:8080/tienda1/publico/anadir.j...</td>\n",
       "      <td>2</td>\n",
       "      <td>...</td>\n",
       "      <td>86</td>\n",
       "      <td>126</td>\n",
       "      <td>5</td>\n",
       "      <td>0</td>\n",
       "      <td>1</td>\n",
       "      <td>24</td>\n",
       "      <td>0.174603</td>\n",
       "      <td>0</td>\n",
       "      <td>0</td>\n",
       "      <td>0</td>\n",
       "    </tr>\n",
       "    <tr>\n",
       "      <th>2</th>\n",
       "      <td>Normal</td>\n",
       "      <td>POST</td>\n",
       "      <td>localhost:8080</td>\n",
       "      <td>JSESSIONID=933185092E0B668B90676E0A2B0767AF</td>\n",
       "      <td>0.0</td>\n",
       "      <td>68.0</td>\n",
       "      <td>id=3&amp;nombre=Vino+Rioja&amp;precio=100&amp;cantidad=55&amp;...</td>\n",
       "      <td>0</td>\n",
       "      <td>http://localhost:8080/tienda1/publico/anadir.j...</td>\n",
       "      <td>2</td>\n",
       "      <td>...</td>\n",
       "      <td>39</td>\n",
       "      <td>57</td>\n",
       "      <td>0</td>\n",
       "      <td>0</td>\n",
       "      <td>0</td>\n",
       "      <td>10</td>\n",
       "      <td>0.140351</td>\n",
       "      <td>1</td>\n",
       "      <td>0</td>\n",
       "      <td>0</td>\n",
       "    </tr>\n",
       "    <tr>\n",
       "      <th>3</th>\n",
       "      <td>Normal</td>\n",
       "      <td>GET</td>\n",
       "      <td>localhost:8080</td>\n",
       "      <td>JSESSIONID=8FA18BA82C5336D03D3A8AFA3E68CBB0</td>\n",
       "      <td>0.0</td>\n",
       "      <td>0.0</td>\n",
       "      <td>NaN</td>\n",
       "      <td>0</td>\n",
       "      <td>http://localhost:8080/tienda1/publico/autentic...</td>\n",
       "      <td>2</td>\n",
       "      <td>...</td>\n",
       "      <td>92</td>\n",
       "      <td>125</td>\n",
       "      <td>5</td>\n",
       "      <td>0</td>\n",
       "      <td>1</td>\n",
       "      <td>21</td>\n",
       "      <td>0.152000</td>\n",
       "      <td>0</td>\n",
       "      <td>0</td>\n",
       "      <td>0</td>\n",
       "    </tr>\n",
       "    <tr>\n",
       "      <th>4</th>\n",
       "      <td>Normal</td>\n",
       "      <td>POST</td>\n",
       "      <td>localhost:8080</td>\n",
       "      <td>JSESSIONID=7104E6C68A6BCF1423DAE990CE49FEE2</td>\n",
       "      <td>0.0</td>\n",
       "      <td>63.0</td>\n",
       "      <td>modo=entrar&amp;login=choong&amp;pwd=d1se3ci%F3n&amp;remem...</td>\n",
       "      <td>0</td>\n",
       "      <td>http://localhost:8080/tienda1/publico/autentic...</td>\n",
       "      <td>2</td>\n",
       "      <td>...</td>\n",
       "      <td>43</td>\n",
       "      <td>61</td>\n",
       "      <td>0</td>\n",
       "      <td>0</td>\n",
       "      <td>0</td>\n",
       "      <td>10</td>\n",
       "      <td>0.131148</td>\n",
       "      <td>1</td>\n",
       "      <td>0</td>\n",
       "      <td>0</td>\n",
       "    </tr>\n",
       "  </tbody>\n",
       "</table>\n",
       "<p>5 rows × 31 columns</p>\n",
       "</div>"
      ],
      "text/plain": [
       "    Class Method            host                                       cookie  \\\n",
       "0  Normal    GET  localhost:8080  JSESSIONID=1F767F17239C9B670A39E9B10C3825F4   \n",
       "1  Normal    GET  localhost:8080  JSESSIONID=81761ACA043B0E6014CA42A4BCD06AB5   \n",
       "2  Normal   POST  localhost:8080  JSESSIONID=933185092E0B668B90676E0A2B0767AF   \n",
       "3  Normal    GET  localhost:8080  JSESSIONID=8FA18BA82C5336D03D3A8AFA3E68CBB0   \n",
       "4  Normal   POST  localhost:8080  JSESSIONID=7104E6C68A6BCF1423DAE990CE49FEE2   \n",
       "\n",
       "   Accept  content_length                                            content  \\\n",
       "0     0.0             0.0                                                NaN   \n",
       "1     0.0             0.0                                                NaN   \n",
       "2     0.0            68.0  id=3&nombre=Vino+Rioja&precio=100&cantidad=55&...   \n",
       "3     0.0             0.0                                                NaN   \n",
       "4     0.0            63.0  modo=entrar&login=choong&pwd=d1se3ci%F3n&remem...   \n",
       "\n",
       "   classification                                                URL  \\\n",
       "0               0   http://localhost:8080/tienda1/index.jsp HTTP/1.1   \n",
       "1               0  http://localhost:8080/tienda1/publico/anadir.j...   \n",
       "2               0  http://localhost:8080/tienda1/publico/anadir.j...   \n",
       "3               0  http://localhost:8080/tienda1/publico/autentic...   \n",
       "4               0  http://localhost:8080/tienda1/publico/autentic...   \n",
       "\n",
       "   count_dot_url  ...  count-letters_url  url_length  \\\n",
       "0              2  ...                 31          48   \n",
       "1              2  ...                 86         126   \n",
       "2              2  ...                 39          57   \n",
       "3              2  ...                 92         125   \n",
       "4              2  ...                 43          61   \n",
       "\n",
       "   number_of_parameters_url  number_of_fragments_url  is_encoded_url  \\\n",
       "0                         0                        0               0   \n",
       "1                         5                        0               1   \n",
       "2                         0                        0               0   \n",
       "3                         5                        0               1   \n",
       "4                         0                        0               0   \n",
       "\n",
       "   special_count_url  unusual_character_ratio_url  Method_enc  host_enc  \\\n",
       "0                  9                     0.145833           0         0   \n",
       "1                 24                     0.174603           0         0   \n",
       "2                 10                     0.140351           1         0   \n",
       "3                 21                     0.152000           0         0   \n",
       "4                 10                     0.131148           1         0   \n",
       "\n",
       "   Accept_enc  \n",
       "0           0  \n",
       "1           0  \n",
       "2           0  \n",
       "3           0  \n",
       "4           0  \n",
       "\n",
       "[5 rows x 31 columns]"
      ]
     },
     "execution_count": 26,
     "metadata": {},
     "output_type": "execute_result"
    }
   ],
   "source": [
    "X.head()\n",
    "\n"
   ]
  },
  {
   "cell_type": "code",
   "execution_count": 27,
   "id": "ead804d7",
   "metadata": {
    "execution": {
     "iopub.execute_input": "2024-03-02T16:36:04.953320Z",
     "iopub.status.busy": "2024-03-02T16:36:04.953007Z",
     "iopub.status.idle": "2024-03-02T16:36:04.973119Z",
     "shell.execute_reply": "2024-03-02T16:36:04.972181Z"
    },
    "papermill": {
     "duration": 0.045083,
     "end_time": "2024-03-02T16:36:04.975143",
     "exception": false,
     "start_time": "2024-03-02T16:36:04.930060",
     "status": "completed"
    },
    "tags": []
   },
   "outputs": [
    {
     "data": {
      "text/html": [
       "<div>\n",
       "<style scoped>\n",
       "    .dataframe tbody tr th:only-of-type {\n",
       "        vertical-align: middle;\n",
       "    }\n",
       "\n",
       "    .dataframe tbody tr th {\n",
       "        vertical-align: top;\n",
       "    }\n",
       "\n",
       "    .dataframe thead th {\n",
       "        text-align: right;\n",
       "    }\n",
       "</style>\n",
       "<table border=\"1\" class=\"dataframe\">\n",
       "  <thead>\n",
       "    <tr style=\"text-align: right;\">\n",
       "      <th></th>\n",
       "      <th>Class</th>\n",
       "      <th>Method</th>\n",
       "      <th>host</th>\n",
       "      <th>cookie</th>\n",
       "      <th>Accept</th>\n",
       "      <th>content_length</th>\n",
       "      <th>content</th>\n",
       "      <th>classification</th>\n",
       "      <th>URL</th>\n",
       "      <th>count_dot_url</th>\n",
       "      <th>...</th>\n",
       "      <th>count-letters_url</th>\n",
       "      <th>url_length</th>\n",
       "      <th>number_of_parameters_url</th>\n",
       "      <th>number_of_fragments_url</th>\n",
       "      <th>is_encoded_url</th>\n",
       "      <th>special_count_url</th>\n",
       "      <th>unusual_character_ratio_url</th>\n",
       "      <th>Method_enc</th>\n",
       "      <th>host_enc</th>\n",
       "      <th>Accept_enc</th>\n",
       "    </tr>\n",
       "  </thead>\n",
       "  <tbody>\n",
       "    <tr>\n",
       "      <th>61060</th>\n",
       "      <td>Anomalous</td>\n",
       "      <td>GET</td>\n",
       "      <td>localhost:8080</td>\n",
       "      <td>JSESSIONID=62216ADBBD9B91E17CA9AFEDCCC36275</td>\n",
       "      <td>0.0</td>\n",
       "      <td>0.0</td>\n",
       "      <td>NaN</td>\n",
       "      <td>1</td>\n",
       "      <td>http://localhost:8080/tienda1/miembros/editar....</td>\n",
       "      <td>3</td>\n",
       "      <td>...</td>\n",
       "      <td>218</td>\n",
       "      <td>314</td>\n",
       "      <td>13</td>\n",
       "      <td>0</td>\n",
       "      <td>1</td>\n",
       "      <td>48</td>\n",
       "      <td>0.143312</td>\n",
       "      <td>0</td>\n",
       "      <td>0</td>\n",
       "      <td>0</td>\n",
       "    </tr>\n",
       "    <tr>\n",
       "      <th>61061</th>\n",
       "      <td>Anomalous</td>\n",
       "      <td>POST</td>\n",
       "      <td>localhost:8080</td>\n",
       "      <td>JSESSIONID=2317F5C0B1B7FAD18EB425E98DB102A3</td>\n",
       "      <td>0.0</td>\n",
       "      <td>255.0</td>\n",
       "      <td>modo=registro&amp;login=beaumont&amp;password=quEratIt...</td>\n",
       "      <td>1</td>\n",
       "      <td>http://localhost:8080/tienda1/miembros/editar....</td>\n",
       "      <td>2</td>\n",
       "      <td>...</td>\n",
       "      <td>40</td>\n",
       "      <td>58</td>\n",
       "      <td>0</td>\n",
       "      <td>0</td>\n",
       "      <td>0</td>\n",
       "      <td>10</td>\n",
       "      <td>0.137931</td>\n",
       "      <td>1</td>\n",
       "      <td>0</td>\n",
       "      <td>0</td>\n",
       "    </tr>\n",
       "    <tr>\n",
       "      <th>61062</th>\n",
       "      <td>Anomalous</td>\n",
       "      <td>GET</td>\n",
       "      <td>localhost:8080</td>\n",
       "      <td>JSESSIONID=7F0BA54A88B849EF752006D388E15CDD</td>\n",
       "      <td>0.0</td>\n",
       "      <td>0.0</td>\n",
       "      <td>NaN</td>\n",
       "      <td>1</td>\n",
       "      <td>http://localhost:8080/tienda1/miembros/editar....</td>\n",
       "      <td>3</td>\n",
       "      <td>...</td>\n",
       "      <td>43</td>\n",
       "      <td>62</td>\n",
       "      <td>0</td>\n",
       "      <td>0</td>\n",
       "      <td>0</td>\n",
       "      <td>11</td>\n",
       "      <td>0.129032</td>\n",
       "      <td>0</td>\n",
       "      <td>0</td>\n",
       "      <td>0</td>\n",
       "    </tr>\n",
       "    <tr>\n",
       "      <th>61063</th>\n",
       "      <td>Anomalous</td>\n",
       "      <td>GET</td>\n",
       "      <td>localhost:8080</td>\n",
       "      <td>JSESSIONID=FB018FFB06011CFABD60D8E8AD58CA21</td>\n",
       "      <td>0.0</td>\n",
       "      <td>0.0</td>\n",
       "      <td>NaN</td>\n",
       "      <td>1</td>\n",
       "      <td>http://localhost:8080/tienda1/imagenes/3.gif/ ...</td>\n",
       "      <td>2</td>\n",
       "      <td>...</td>\n",
       "      <td>34</td>\n",
       "      <td>54</td>\n",
       "      <td>0</td>\n",
       "      <td>0</td>\n",
       "      <td>0</td>\n",
       "      <td>11</td>\n",
       "      <td>0.166667</td>\n",
       "      <td>0</td>\n",
       "      <td>0</td>\n",
       "      <td>0</td>\n",
       "    </tr>\n",
       "    <tr>\n",
       "      <th>61064</th>\n",
       "      <td>Anomalous</td>\n",
       "      <td>GET</td>\n",
       "      <td>localhost:8080</td>\n",
       "      <td>JSESSIONID=3CC12010CDA952F123240EBAD79B55CC</td>\n",
       "      <td>0.0</td>\n",
       "      <td>0.0</td>\n",
       "      <td>NaN</td>\n",
       "      <td>1</td>\n",
       "      <td>http://localhost:8080/tienda1/imagenes/nuestra...</td>\n",
       "      <td>3</td>\n",
       "      <td>...</td>\n",
       "      <td>50</td>\n",
       "      <td>69</td>\n",
       "      <td>0</td>\n",
       "      <td>0</td>\n",
       "      <td>0</td>\n",
       "      <td>11</td>\n",
       "      <td>0.115942</td>\n",
       "      <td>0</td>\n",
       "      <td>0</td>\n",
       "      <td>0</td>\n",
       "    </tr>\n",
       "  </tbody>\n",
       "</table>\n",
       "<p>5 rows × 31 columns</p>\n",
       "</div>"
      ],
      "text/plain": [
       "           Class Method            host  \\\n",
       "61060  Anomalous    GET  localhost:8080   \n",
       "61061  Anomalous   POST  localhost:8080   \n",
       "61062  Anomalous    GET  localhost:8080   \n",
       "61063  Anomalous    GET  localhost:8080   \n",
       "61064  Anomalous    GET  localhost:8080   \n",
       "\n",
       "                                            cookie  Accept  content_length  \\\n",
       "61060  JSESSIONID=62216ADBBD9B91E17CA9AFEDCCC36275     0.0             0.0   \n",
       "61061  JSESSIONID=2317F5C0B1B7FAD18EB425E98DB102A3     0.0           255.0   \n",
       "61062  JSESSIONID=7F0BA54A88B849EF752006D388E15CDD     0.0             0.0   \n",
       "61063  JSESSIONID=FB018FFB06011CFABD60D8E8AD58CA21     0.0             0.0   \n",
       "61064  JSESSIONID=3CC12010CDA952F123240EBAD79B55CC     0.0             0.0   \n",
       "\n",
       "                                                 content  classification  \\\n",
       "61060                                                NaN               1   \n",
       "61061  modo=registro&login=beaumont&password=quEratIt...               1   \n",
       "61062                                                NaN               1   \n",
       "61063                                                NaN               1   \n",
       "61064                                                NaN               1   \n",
       "\n",
       "                                                     URL  count_dot_url  ...  \\\n",
       "61060  http://localhost:8080/tienda1/miembros/editar....              3  ...   \n",
       "61061  http://localhost:8080/tienda1/miembros/editar....              2  ...   \n",
       "61062  http://localhost:8080/tienda1/miembros/editar....              3  ...   \n",
       "61063  http://localhost:8080/tienda1/imagenes/3.gif/ ...              2  ...   \n",
       "61064  http://localhost:8080/tienda1/imagenes/nuestra...              3  ...   \n",
       "\n",
       "       count-letters_url  url_length  number_of_parameters_url  \\\n",
       "61060                218         314                        13   \n",
       "61061                 40          58                         0   \n",
       "61062                 43          62                         0   \n",
       "61063                 34          54                         0   \n",
       "61064                 50          69                         0   \n",
       "\n",
       "       number_of_fragments_url  is_encoded_url  special_count_url  \\\n",
       "61060                        0               1                 48   \n",
       "61061                        0               0                 10   \n",
       "61062                        0               0                 11   \n",
       "61063                        0               0                 11   \n",
       "61064                        0               0                 11   \n",
       "\n",
       "       unusual_character_ratio_url  Method_enc  host_enc  Accept_enc  \n",
       "61060                     0.143312           0         0           0  \n",
       "61061                     0.137931           1         0           0  \n",
       "61062                     0.129032           0         0           0  \n",
       "61063                     0.166667           0         0           0  \n",
       "61064                     0.115942           0         0           0  \n",
       "\n",
       "[5 rows x 31 columns]"
      ]
     },
     "execution_count": 27,
     "metadata": {},
     "output_type": "execute_result"
    }
   ],
   "source": [
    "X.tail()"
   ]
  },
  {
   "cell_type": "code",
   "execution_count": 28,
   "id": "608ef9a2",
   "metadata": {
    "execution": {
     "iopub.execute_input": "2024-03-02T16:36:05.022733Z",
     "iopub.status.busy": "2024-03-02T16:36:05.022426Z",
     "iopub.status.idle": "2024-03-02T16:36:11.186862Z",
     "shell.execute_reply": "2024-03-02T16:36:11.186080Z"
    },
    "papermill": {
     "duration": 6.191246,
     "end_time": "2024-03-02T16:36:11.189552",
     "exception": false,
     "start_time": "2024-03-02T16:36:04.998306",
     "status": "completed"
    },
    "tags": []
   },
   "outputs": [],
   "source": [
    "def apply_to_content(content,function):\n",
    "    if pd.isna(content):\n",
    "        return 0\n",
    "    elif isinstance(content, str):\n",
    "        return function(content)\n",
    "\n",
    "#\"\"\"\n",
    "#                'count_dot_content','count_dir_content','count_embed_domain_content','count%_content','count?_content',\n",
    " #               'count-_content','count=_content','hostname_length_content','sus_content','count_digits_content',\n",
    "  #              'count_letters_content','content_length','number_of_parameters_content','number_of_fragments_content',\n",
    "   #             'is_encoded_content','special_count_content','unusual_character_ratio_content'\n",
    "    #            ]\"\"\"\n",
    "\n",
    "X['count_dot_content'] = X['content'].apply(apply_to_content, function=count_dot)\n",
    "X['count_dir_content'] = X['content'].apply(apply_to_content, function=no_of_dir)\n",
    "X['count_embed_domain_content'] = X['content'].apply(apply_to_content, function=no_of_embed)\n",
    "X['count%_content'] = X['content'].apply(apply_to_content, function=count_per)\n",
    "X['count?_content'] = X['content'].apply(apply_to_content, function=count_ques)\n",
    "X['count-_content'] = X['content'].apply(apply_to_content, function=count_hyphen)\n",
    "X['count=_content'] = X['content'].apply(apply_to_content, function=count_equal)\n",
    "X['content_length'] = X['content'].apply(apply_to_content, function=url_length)\n",
    "X['sus_content'] = X['content'].apply(apply_to_content, function=suspicious_words)\n",
    "X['count_digits_content'] = X['content'].apply(apply_to_content, function=digit_count)\n",
    "X['count_letters_content'] = X['content'].apply(apply_to_content, function=letter_count)\n",
    "X['special_count_content'] = X['content'].apply(apply_to_content, function=count_special_characters)\n",
    "X['is_encoded_content'] = X['content'].apply(apply_to_content, function=is_encoded)\n",
    "#X['unusual_character_ratio_content'] = X['content'].apply(apply_to_content, function=unusual_character_ratio)\n",
    "\n",
    "\n",
    "\n",
    "\n"
   ]
  },
  {
   "cell_type": "code",
   "execution_count": 29,
   "id": "0e7147c0",
   "metadata": {
    "execution": {
     "iopub.execute_input": "2024-03-02T16:36:11.239548Z",
     "iopub.status.busy": "2024-03-02T16:36:11.238809Z",
     "iopub.status.idle": "2024-03-02T16:36:11.267850Z",
     "shell.execute_reply": "2024-03-02T16:36:11.266915Z"
    },
    "papermill": {
     "duration": 0.055661,
     "end_time": "2024-03-02T16:36:11.270042",
     "exception": false,
     "start_time": "2024-03-02T16:36:11.214381",
     "status": "completed"
    },
    "tags": []
   },
   "outputs": [
    {
     "name": "stdout",
     "output_type": "stream",
     "text": [
      "Number of unique values for count_dot_content: 8\n",
      "Number of unique values for count_dir_content: 1\n",
      "Number of unique values for count_embed_domain_content: 1\n",
      "Number of unique values for count%_content: 34\n",
      "Number of unique values for count?_content: 1\n",
      "Number of unique values for count-_content: 8\n",
      "Number of unique values for count=_content: 5\n",
      "Number of unique values for sus_content: 57\n",
      "Number of unique values for count_digits_content: 111\n",
      "Number of unique values for count_letters_content: 230\n",
      "Number of unique values for content_length: 383\n",
      "Number of unique values for is_encoded_content: 2\n",
      "Number of unique values for special_count_content: 87\n"
     ]
    }
   ],
   "source": [
    "import seaborn as sns\n",
    "import matplotlib.pyplot as plt\n",
    "\n",
    "# Select the features and class variable for plotting\n",
    "new_content_features = ['count_dot_content', 'count_dir_content', 'count_embed_domain_content', 'count%_content', 'count?_content',\n",
    "                        'count-_content', 'count=_content', 'sus_content', 'count_digits_content',\n",
    "                        'count_letters_content', 'content_length', 'is_encoded_content', 'special_count_content']\n",
    "\n",
    "# Create a DataFrame with the selected features\n",
    "selected_features_df = X[new_content_features]\n",
    "\n",
    "for feature_name in selected_features_df.columns:\n",
    "    if feature_name in X.columns:\n",
    "        unique_count = selected_features_df[feature_name].nunique()\n",
    "        print(f\"Number of unique values for {feature_name}: {unique_count}\")\n",
    "    else:\n",
    "        print(f\"Column '{feature_name}' does not exist in the DataFrame.\")\n"
   ]
  },
  {
   "cell_type": "code",
   "execution_count": 30,
   "id": "3d65a73c",
   "metadata": {
    "execution": {
     "iopub.execute_input": "2024-03-02T16:36:11.319993Z",
     "iopub.status.busy": "2024-03-02T16:36:11.319190Z",
     "iopub.status.idle": "2024-03-02T16:36:11.325520Z",
     "shell.execute_reply": "2024-03-02T16:36:11.324672Z"
    },
    "papermill": {
     "duration": 0.034002,
     "end_time": "2024-03-02T16:36:11.327441",
     "exception": false,
     "start_time": "2024-03-02T16:36:11.293439",
     "status": "completed"
    },
    "tags": []
   },
   "outputs": [
    {
     "data": {
      "text/plain": [
       "Index(['Class', 'Method', 'host', 'cookie', 'Accept', 'content_length',\n",
       "       'content', 'classification', 'URL', 'count_dot_url', 'count_dir_url',\n",
       "       'count_embed_domain_url', 'short_url', 'count-http', 'count%_url',\n",
       "       'count?_url', 'count-_url', 'count=_url', 'hostname_length_url',\n",
       "       'sus_url', 'count-digits_url', 'count-letters_url', 'url_length',\n",
       "       'number_of_parameters_url', 'number_of_fragments_url', 'is_encoded_url',\n",
       "       'special_count_url', 'unusual_character_ratio_url', 'Method_enc',\n",
       "       'host_enc', 'Accept_enc', 'count_dot_content', 'count_dir_content',\n",
       "       'count_embed_domain_content', 'count%_content', 'count?_content',\n",
       "       'count-_content', 'count=_content', 'sus_content',\n",
       "       'count_digits_content', 'count_letters_content',\n",
       "       'special_count_content', 'is_encoded_content'],\n",
       "      dtype='object')"
      ]
     },
     "execution_count": 30,
     "metadata": {},
     "output_type": "execute_result"
    }
   ],
   "source": [
    "X.columns"
   ]
  },
  {
   "cell_type": "markdown",
   "id": "8beed8c2",
   "metadata": {
    "papermill": {
     "duration": 0.023195,
     "end_time": "2024-03-02T16:36:11.374455",
     "exception": false,
     "start_time": "2024-03-02T16:36:11.351260",
     "status": "completed"
    },
    "tags": []
   },
   "source": [
    "# **Building the final dataset to use for the classification**"
   ]
  },
  {
   "cell_type": "code",
   "execution_count": 31,
   "id": "294b77ec",
   "metadata": {
    "execution": {
     "iopub.execute_input": "2024-03-02T16:36:11.423678Z",
     "iopub.status.busy": "2024-03-02T16:36:11.423017Z",
     "iopub.status.idle": "2024-03-02T16:36:11.429424Z",
     "shell.execute_reply": "2024-03-02T16:36:11.428541Z"
    },
    "papermill": {
     "duration": 0.032861,
     "end_time": "2024-03-02T16:36:11.431262",
     "exception": false,
     "start_time": "2024-03-02T16:36:11.398401",
     "status": "completed"
    },
    "tags": []
   },
   "outputs": [
    {
     "data": {
      "text/plain": [
       "Index(['Class', 'Method', 'host', 'cookie', 'Accept', 'content_length',\n",
       "       'content', 'classification', 'URL', 'count_dot_url', 'count_dir_url',\n",
       "       'count_embed_domain_url', 'short_url', 'count-http', 'count%_url',\n",
       "       'count?_url', 'count-_url', 'count=_url', 'hostname_length_url',\n",
       "       'sus_url', 'count-digits_url', 'count-letters_url', 'url_length',\n",
       "       'number_of_parameters_url', 'number_of_fragments_url', 'is_encoded_url',\n",
       "       'special_count_url', 'unusual_character_ratio_url', 'Method_enc',\n",
       "       'host_enc', 'Accept_enc', 'count_dot_content', 'count_dir_content',\n",
       "       'count_embed_domain_content', 'count%_content', 'count?_content',\n",
       "       'count-_content', 'count=_content', 'sus_content',\n",
       "       'count_digits_content', 'count_letters_content',\n",
       "       'special_count_content', 'is_encoded_content'],\n",
       "      dtype='object')"
      ]
     },
     "execution_count": 31,
     "metadata": {},
     "output_type": "execute_result"
    }
   ],
   "source": [
    "X.columns"
   ]
  },
  {
   "cell_type": "code",
   "execution_count": 32,
   "id": "3fc4a229",
   "metadata": {
    "execution": {
     "iopub.execute_input": "2024-03-02T16:36:11.479358Z",
     "iopub.status.busy": "2024-03-02T16:36:11.479077Z",
     "iopub.status.idle": "2024-03-02T16:36:11.508450Z",
     "shell.execute_reply": "2024-03-02T16:36:11.507405Z"
    },
    "papermill": {
     "duration": 0.055677,
     "end_time": "2024-03-02T16:36:11.510507",
     "exception": false,
     "start_time": "2024-03-02T16:36:11.454830",
     "status": "completed"
    },
    "tags": []
   },
   "outputs": [
    {
     "name": "stdout",
     "output_type": "stream",
     "text": [
      "       count_dot_url  count_dir_url  count_embed_domain_url  count-http  \\\n",
      "0                  2              3                       0           1   \n",
      "1                  2              3                       0           1   \n",
      "2                  2              4                       0           1   \n",
      "3                  2              3                       0           1   \n",
      "4                  2              4                       0           1   \n",
      "...              ...            ...                     ...         ...   \n",
      "61060              3              3                       0           1   \n",
      "61061              2              4                       0           1   \n",
      "61062              3              4                       0           1   \n",
      "61063              2              5                       0           1   \n",
      "61064              3              4                       0           1   \n",
      "\n",
      "       count%_url  count?_url  count-_url  count=_url  url_length  \\\n",
      "0               0           0           0           0          48   \n",
      "1               1           1           0           5         126   \n",
      "2               0           0           0           0          57   \n",
      "3               1           1           0           5         125   \n",
      "4               0           0           0           0          61   \n",
      "...           ...         ...         ...         ...         ...   \n",
      "61060           6           1           0          13         314   \n",
      "61061           0           0           0           0          58   \n",
      "61062           0           0           0           0          62   \n",
      "61063           0           0           0           0          54   \n",
      "61064           0           0           0           0          69   \n",
      "\n",
      "       hostname_length_url  ...  count_dot_content  count%_content  \\\n",
      "0                       14  ...                  0               0   \n",
      "1                       14  ...                  0               0   \n",
      "2                       14  ...                  0               1   \n",
      "3                       14  ...                  0               0   \n",
      "4                       14  ...                  0               1   \n",
      "...                    ...  ...                ...             ...   \n",
      "61060                   14  ...                  0               0   \n",
      "61061                   14  ...                  1               6   \n",
      "61062                   14  ...                  0               0   \n",
      "61063                   14  ...                  0               0   \n",
      "61064                   14  ...                  0               0   \n",
      "\n",
      "       count-_content  count=_content  sus_content  count_digits_content  \\\n",
      "0                   0               0            0                     0   \n",
      "1                   0               0            0                     0   \n",
      "2                   0               5           75                     8   \n",
      "3                   0               0            0                     0   \n",
      "4                   0               5           30                     4   \n",
      "...               ...             ...          ...                   ...   \n",
      "61060               0               0            0                     0   \n",
      "61061               0              13           70                    40   \n",
      "61062               0               0            0                     0   \n",
      "61063               0               0            0                     0   \n",
      "61064               0               0            0                     0   \n",
      "\n",
      "       count_letters_content  content_length  is_encoded_content  \\\n",
      "0                          0               0                   0   \n",
      "1                          0               0                   0   \n",
      "2                         47              68                   1   \n",
      "3                          0               0                   0   \n",
      "4                         49              63                   1   \n",
      "...                      ...             ...                 ...   \n",
      "61060                      0               0                   0   \n",
      "61061                    178             255                   1   \n",
      "61062                      0               0                   0   \n",
      "61063                      0               0                   0   \n",
      "61064                      0               0                   0   \n",
      "\n",
      "       special_count_content  \n",
      "0                          0  \n",
      "1                          0  \n",
      "2                         13  \n",
      "3                          0  \n",
      "4                         10  \n",
      "...                      ...  \n",
      "61060                      0  \n",
      "61061                     37  \n",
      "61062                      0  \n",
      "61063                      0  \n",
      "61064                      0  \n",
      "\n",
      "[61065 rows x 28 columns]\n"
     ]
    }
   ],
   "source": [
    "labels=['count_dot_url', 'count_dir_url', 'count_embed_domain_url', 'count-http',\n",
    "                'count%_url', 'count?_url', 'count-_url', 'count=_url', 'url_length', 'hostname_length_url',\n",
    "                'sus_url', 'count-digits_url', 'count-letters_url', 'number_of_parameters_url',\n",
    "                'is_encoded_url','special_count_url','unusual_character_ratio_url',\n",
    "                 #method\n",
    "                'Method_enc',\n",
    "                #content\n",
    "                'count_dot_content','count%_content',\n",
    "                 'count-_content','count=_content','sus_content','count_digits_content',\n",
    "                  'count_letters_content','content_length',\n",
    "               'is_encoded_content','special_count_content']\n",
    "print(X[labels])\n"
   ]
  },
  {
   "cell_type": "code",
   "execution_count": 33,
   "id": "1d220d63",
   "metadata": {
    "execution": {
     "iopub.execute_input": "2024-03-02T16:36:11.560387Z",
     "iopub.status.busy": "2024-03-02T16:36:11.559668Z",
     "iopub.status.idle": "2024-03-02T16:36:11.567497Z",
     "shell.execute_reply": "2024-03-02T16:36:11.566641Z"
    },
    "papermill": {
     "duration": 0.034812,
     "end_time": "2024-03-02T16:36:11.569532",
     "exception": false,
     "start_time": "2024-03-02T16:36:11.534720",
     "status": "completed"
    },
    "tags": []
   },
   "outputs": [
    {
     "name": "stdout",
     "output_type": "stream",
     "text": [
      "0        0\n",
      "1        0\n",
      "2        0\n",
      "3        0\n",
      "4        0\n",
      "        ..\n",
      "61060    1\n",
      "61061    1\n",
      "61062    1\n",
      "61063    1\n",
      "61064    1\n",
      "Name: classification, Length: 61065, dtype: int64\n"
     ]
    }
   ],
   "source": [
    "y=X['classification']\n",
    "print(y)"
   ]
  },
  {
   "cell_type": "code",
   "execution_count": 34,
   "id": "abdc3291",
   "metadata": {
    "execution": {
     "iopub.execute_input": "2024-03-02T16:36:11.618897Z",
     "iopub.status.busy": "2024-03-02T16:36:11.618325Z",
     "iopub.status.idle": "2024-03-02T16:36:11.641773Z",
     "shell.execute_reply": "2024-03-02T16:36:11.640893Z"
    },
    "papermill": {
     "duration": 0.05022,
     "end_time": "2024-03-02T16:36:11.643687",
     "exception": false,
     "start_time": "2024-03-02T16:36:11.593467",
     "status": "completed"
    },
    "tags": []
   },
   "outputs": [
    {
     "name": "stdout",
     "output_type": "stream",
     "text": [
      "computing...)\n",
      "Done!\n"
     ]
    }
   ],
   "source": [
    "print('computing...)')\n",
    "#split dataset in test and train \n",
    "x_tr, x_ts, y_tr, y_ts = train_test_split(X[labels], y, test_size=0.3, random_state=0)\n",
    "\n",
    "\n",
    "print('Done!')\n"
   ]
  },
  {
   "cell_type": "code",
   "execution_count": 35,
   "id": "aa705770",
   "metadata": {
    "execution": {
     "iopub.execute_input": "2024-03-02T16:36:11.693614Z",
     "iopub.status.busy": "2024-03-02T16:36:11.693015Z",
     "iopub.status.idle": "2024-03-02T16:36:11.710594Z",
     "shell.execute_reply": "2024-03-02T16:36:11.709673Z"
    },
    "papermill": {
     "duration": 0.044819,
     "end_time": "2024-03-02T16:36:11.712876",
     "exception": false,
     "start_time": "2024-03-02T16:36:11.668057",
     "status": "completed"
    },
    "tags": []
   },
   "outputs": [
    {
     "data": {
      "text/html": [
       "<div>\n",
       "<style scoped>\n",
       "    .dataframe tbody tr th:only-of-type {\n",
       "        vertical-align: middle;\n",
       "    }\n",
       "\n",
       "    .dataframe tbody tr th {\n",
       "        vertical-align: top;\n",
       "    }\n",
       "\n",
       "    .dataframe thead th {\n",
       "        text-align: right;\n",
       "    }\n",
       "</style>\n",
       "<table border=\"1\" class=\"dataframe\">\n",
       "  <thead>\n",
       "    <tr style=\"text-align: right;\">\n",
       "      <th></th>\n",
       "      <th>count_dot_url</th>\n",
       "      <th>count_dir_url</th>\n",
       "      <th>count_embed_domain_url</th>\n",
       "      <th>count-http</th>\n",
       "      <th>count%_url</th>\n",
       "      <th>count?_url</th>\n",
       "      <th>count-_url</th>\n",
       "      <th>count=_url</th>\n",
       "      <th>url_length</th>\n",
       "      <th>hostname_length_url</th>\n",
       "      <th>...</th>\n",
       "      <th>count_dot_content</th>\n",
       "      <th>count%_content</th>\n",
       "      <th>count-_content</th>\n",
       "      <th>count=_content</th>\n",
       "      <th>sus_content</th>\n",
       "      <th>count_digits_content</th>\n",
       "      <th>count_letters_content</th>\n",
       "      <th>content_length</th>\n",
       "      <th>is_encoded_content</th>\n",
       "      <th>special_count_content</th>\n",
       "    </tr>\n",
       "  </thead>\n",
       "  <tbody>\n",
       "    <tr>\n",
       "      <th>23480</th>\n",
       "      <td>2</td>\n",
       "      <td>3</td>\n",
       "      <td>0</td>\n",
       "      <td>1</td>\n",
       "      <td>0</td>\n",
       "      <td>1</td>\n",
       "      <td>0</td>\n",
       "      <td>1</td>\n",
       "      <td>91</td>\n",
       "      <td>14</td>\n",
       "      <td>...</td>\n",
       "      <td>0</td>\n",
       "      <td>0</td>\n",
       "      <td>0</td>\n",
       "      <td>0</td>\n",
       "      <td>0</td>\n",
       "      <td>0</td>\n",
       "      <td>0</td>\n",
       "      <td>0</td>\n",
       "      <td>0</td>\n",
       "      <td>0</td>\n",
       "    </tr>\n",
       "    <tr>\n",
       "      <th>45171</th>\n",
       "      <td>2</td>\n",
       "      <td>3</td>\n",
       "      <td>0</td>\n",
       "      <td>1</td>\n",
       "      <td>14</td>\n",
       "      <td>1</td>\n",
       "      <td>2</td>\n",
       "      <td>1</td>\n",
       "      <td>125</td>\n",
       "      <td>14</td>\n",
       "      <td>...</td>\n",
       "      <td>0</td>\n",
       "      <td>0</td>\n",
       "      <td>0</td>\n",
       "      <td>0</td>\n",
       "      <td>0</td>\n",
       "      <td>0</td>\n",
       "      <td>0</td>\n",
       "      <td>0</td>\n",
       "      <td>0</td>\n",
       "      <td>0</td>\n",
       "    </tr>\n",
       "    <tr>\n",
       "      <th>9460</th>\n",
       "      <td>2</td>\n",
       "      <td>4</td>\n",
       "      <td>0</td>\n",
       "      <td>1</td>\n",
       "      <td>0</td>\n",
       "      <td>0</td>\n",
       "      <td>0</td>\n",
       "      <td>0</td>\n",
       "      <td>57</td>\n",
       "      <td>14</td>\n",
       "      <td>...</td>\n",
       "      <td>0</td>\n",
       "      <td>0</td>\n",
       "      <td>0</td>\n",
       "      <td>0</td>\n",
       "      <td>0</td>\n",
       "      <td>0</td>\n",
       "      <td>0</td>\n",
       "      <td>0</td>\n",
       "      <td>0</td>\n",
       "      <td>0</td>\n",
       "    </tr>\n",
       "    <tr>\n",
       "      <th>9905</th>\n",
       "      <td>2</td>\n",
       "      <td>3</td>\n",
       "      <td>0</td>\n",
       "      <td>1</td>\n",
       "      <td>0</td>\n",
       "      <td>1</td>\n",
       "      <td>0</td>\n",
       "      <td>1</td>\n",
       "      <td>71</td>\n",
       "      <td>14</td>\n",
       "      <td>...</td>\n",
       "      <td>0</td>\n",
       "      <td>0</td>\n",
       "      <td>0</td>\n",
       "      <td>0</td>\n",
       "      <td>0</td>\n",
       "      <td>0</td>\n",
       "      <td>0</td>\n",
       "      <td>0</td>\n",
       "      <td>0</td>\n",
       "      <td>0</td>\n",
       "    </tr>\n",
       "    <tr>\n",
       "      <th>8937</th>\n",
       "      <td>2</td>\n",
       "      <td>4</td>\n",
       "      <td>0</td>\n",
       "      <td>1</td>\n",
       "      <td>0</td>\n",
       "      <td>0</td>\n",
       "      <td>0</td>\n",
       "      <td>0</td>\n",
       "      <td>57</td>\n",
       "      <td>14</td>\n",
       "      <td>...</td>\n",
       "      <td>0</td>\n",
       "      <td>0</td>\n",
       "      <td>0</td>\n",
       "      <td>1</td>\n",
       "      <td>50</td>\n",
       "      <td>0</td>\n",
       "      <td>31</td>\n",
       "      <td>33</td>\n",
       "      <td>0</td>\n",
       "      <td>2</td>\n",
       "    </tr>\n",
       "  </tbody>\n",
       "</table>\n",
       "<p>5 rows × 28 columns</p>\n",
       "</div>"
      ],
      "text/plain": [
       "       count_dot_url  count_dir_url  count_embed_domain_url  count-http  \\\n",
       "23480              2              3                       0           1   \n",
       "45171              2              3                       0           1   \n",
       "9460               2              4                       0           1   \n",
       "9905               2              3                       0           1   \n",
       "8937               2              4                       0           1   \n",
       "\n",
       "       count%_url  count?_url  count-_url  count=_url  url_length  \\\n",
       "23480           0           1           0           1          91   \n",
       "45171          14           1           2           1         125   \n",
       "9460            0           0           0           0          57   \n",
       "9905            0           1           0           1          71   \n",
       "8937            0           0           0           0          57   \n",
       "\n",
       "       hostname_length_url  ...  count_dot_content  count%_content  \\\n",
       "23480                   14  ...                  0               0   \n",
       "45171                   14  ...                  0               0   \n",
       "9460                    14  ...                  0               0   \n",
       "9905                    14  ...                  0               0   \n",
       "8937                    14  ...                  0               0   \n",
       "\n",
       "       count-_content  count=_content  sus_content  count_digits_content  \\\n",
       "23480               0               0            0                     0   \n",
       "45171               0               0            0                     0   \n",
       "9460                0               0            0                     0   \n",
       "9905                0               0            0                     0   \n",
       "8937                0               1           50                     0   \n",
       "\n",
       "       count_letters_content  content_length  is_encoded_content  \\\n",
       "23480                      0               0                   0   \n",
       "45171                      0               0                   0   \n",
       "9460                       0               0                   0   \n",
       "9905                       0               0                   0   \n",
       "8937                      31              33                   0   \n",
       "\n",
       "       special_count_content  \n",
       "23480                      0  \n",
       "45171                      0  \n",
       "9460                       0  \n",
       "9905                       0  \n",
       "8937                       2  \n",
       "\n",
       "[5 rows x 28 columns]"
      ]
     },
     "execution_count": 35,
     "metadata": {},
     "output_type": "execute_result"
    }
   ],
   "source": [
    "x_tr.head(5)\n",
    "\n"
   ]
  },
  {
   "cell_type": "code",
   "execution_count": 36,
   "id": "8c11f919",
   "metadata": {
    "execution": {
     "iopub.execute_input": "2024-03-02T16:36:11.763893Z",
     "iopub.status.busy": "2024-03-02T16:36:11.763602Z",
     "iopub.status.idle": "2024-03-02T16:36:11.779385Z",
     "shell.execute_reply": "2024-03-02T16:36:11.778572Z"
    },
    "papermill": {
     "duration": 0.043039,
     "end_time": "2024-03-02T16:36:11.781347",
     "exception": false,
     "start_time": "2024-03-02T16:36:11.738308",
     "status": "completed"
    },
    "tags": []
   },
   "outputs": [
    {
     "data": {
      "text/html": [
       "<div>\n",
       "<style scoped>\n",
       "    .dataframe tbody tr th:only-of-type {\n",
       "        vertical-align: middle;\n",
       "    }\n",
       "\n",
       "    .dataframe tbody tr th {\n",
       "        vertical-align: top;\n",
       "    }\n",
       "\n",
       "    .dataframe thead th {\n",
       "        text-align: right;\n",
       "    }\n",
       "</style>\n",
       "<table border=\"1\" class=\"dataframe\">\n",
       "  <thead>\n",
       "    <tr style=\"text-align: right;\">\n",
       "      <th></th>\n",
       "      <th>count_dot_url</th>\n",
       "      <th>count_dir_url</th>\n",
       "      <th>count_embed_domain_url</th>\n",
       "      <th>count-http</th>\n",
       "      <th>count%_url</th>\n",
       "      <th>count?_url</th>\n",
       "      <th>count-_url</th>\n",
       "      <th>count=_url</th>\n",
       "      <th>url_length</th>\n",
       "      <th>hostname_length_url</th>\n",
       "      <th>...</th>\n",
       "      <th>count_dot_content</th>\n",
       "      <th>count%_content</th>\n",
       "      <th>count-_content</th>\n",
       "      <th>count=_content</th>\n",
       "      <th>sus_content</th>\n",
       "      <th>count_digits_content</th>\n",
       "      <th>count_letters_content</th>\n",
       "      <th>content_length</th>\n",
       "      <th>is_encoded_content</th>\n",
       "      <th>special_count_content</th>\n",
       "    </tr>\n",
       "  </thead>\n",
       "  <tbody>\n",
       "    <tr>\n",
       "      <th>45891</th>\n",
       "      <td>2</td>\n",
       "      <td>3</td>\n",
       "      <td>0</td>\n",
       "      <td>1</td>\n",
       "      <td>0</td>\n",
       "      <td>1</td>\n",
       "      <td>0</td>\n",
       "      <td>1</td>\n",
       "      <td>76</td>\n",
       "      <td>14</td>\n",
       "      <td>...</td>\n",
       "      <td>0</td>\n",
       "      <td>0</td>\n",
       "      <td>0</td>\n",
       "      <td>0</td>\n",
       "      <td>0</td>\n",
       "      <td>0</td>\n",
       "      <td>0</td>\n",
       "      <td>0</td>\n",
       "      <td>0</td>\n",
       "      <td>0</td>\n",
       "    </tr>\n",
       "    <tr>\n",
       "      <th>52416</th>\n",
       "      <td>2</td>\n",
       "      <td>4</td>\n",
       "      <td>0</td>\n",
       "      <td>1</td>\n",
       "      <td>0</td>\n",
       "      <td>0</td>\n",
       "      <td>0</td>\n",
       "      <td>0</td>\n",
       "      <td>57</td>\n",
       "      <td>14</td>\n",
       "      <td>...</td>\n",
       "      <td>0</td>\n",
       "      <td>0</td>\n",
       "      <td>0</td>\n",
       "      <td>1</td>\n",
       "      <td>50</td>\n",
       "      <td>0</td>\n",
       "      <td>32</td>\n",
       "      <td>34</td>\n",
       "      <td>0</td>\n",
       "      <td>2</td>\n",
       "    </tr>\n",
       "    <tr>\n",
       "      <th>42613</th>\n",
       "      <td>2</td>\n",
       "      <td>3</td>\n",
       "      <td>0</td>\n",
       "      <td>1</td>\n",
       "      <td>0</td>\n",
       "      <td>1</td>\n",
       "      <td>0</td>\n",
       "      <td>3</td>\n",
       "      <td>95</td>\n",
       "      <td>14</td>\n",
       "      <td>...</td>\n",
       "      <td>0</td>\n",
       "      <td>0</td>\n",
       "      <td>0</td>\n",
       "      <td>0</td>\n",
       "      <td>0</td>\n",
       "      <td>0</td>\n",
       "      <td>0</td>\n",
       "      <td>0</td>\n",
       "      <td>0</td>\n",
       "      <td>0</td>\n",
       "    </tr>\n",
       "    <tr>\n",
       "      <th>43567</th>\n",
       "      <td>3</td>\n",
       "      <td>3</td>\n",
       "      <td>0</td>\n",
       "      <td>1</td>\n",
       "      <td>4</td>\n",
       "      <td>1</td>\n",
       "      <td>0</td>\n",
       "      <td>13</td>\n",
       "      <td>324</td>\n",
       "      <td>14</td>\n",
       "      <td>...</td>\n",
       "      <td>0</td>\n",
       "      <td>0</td>\n",
       "      <td>0</td>\n",
       "      <td>0</td>\n",
       "      <td>0</td>\n",
       "      <td>0</td>\n",
       "      <td>0</td>\n",
       "      <td>0</td>\n",
       "      <td>0</td>\n",
       "      <td>0</td>\n",
       "    </tr>\n",
       "    <tr>\n",
       "      <th>2732</th>\n",
       "      <td>2</td>\n",
       "      <td>4</td>\n",
       "      <td>0</td>\n",
       "      <td>1</td>\n",
       "      <td>0</td>\n",
       "      <td>0</td>\n",
       "      <td>0</td>\n",
       "      <td>0</td>\n",
       "      <td>53</td>\n",
       "      <td>14</td>\n",
       "      <td>...</td>\n",
       "      <td>0</td>\n",
       "      <td>0</td>\n",
       "      <td>0</td>\n",
       "      <td>0</td>\n",
       "      <td>0</td>\n",
       "      <td>0</td>\n",
       "      <td>0</td>\n",
       "      <td>0</td>\n",
       "      <td>0</td>\n",
       "      <td>0</td>\n",
       "    </tr>\n",
       "  </tbody>\n",
       "</table>\n",
       "<p>5 rows × 28 columns</p>\n",
       "</div>"
      ],
      "text/plain": [
       "       count_dot_url  count_dir_url  count_embed_domain_url  count-http  \\\n",
       "45891              2              3                       0           1   \n",
       "52416              2              4                       0           1   \n",
       "42613              2              3                       0           1   \n",
       "43567              3              3                       0           1   \n",
       "2732               2              4                       0           1   \n",
       "\n",
       "       count%_url  count?_url  count-_url  count=_url  url_length  \\\n",
       "45891           0           1           0           1          76   \n",
       "52416           0           0           0           0          57   \n",
       "42613           0           1           0           3          95   \n",
       "43567           4           1           0          13         324   \n",
       "2732            0           0           0           0          53   \n",
       "\n",
       "       hostname_length_url  ...  count_dot_content  count%_content  \\\n",
       "45891                   14  ...                  0               0   \n",
       "52416                   14  ...                  0               0   \n",
       "42613                   14  ...                  0               0   \n",
       "43567                   14  ...                  0               0   \n",
       "2732                    14  ...                  0               0   \n",
       "\n",
       "       count-_content  count=_content  sus_content  count_digits_content  \\\n",
       "45891               0               0            0                     0   \n",
       "52416               0               1           50                     0   \n",
       "42613               0               0            0                     0   \n",
       "43567               0               0            0                     0   \n",
       "2732                0               0            0                     0   \n",
       "\n",
       "       count_letters_content  content_length  is_encoded_content  \\\n",
       "45891                      0               0                   0   \n",
       "52416                     32              34                   0   \n",
       "42613                      0               0                   0   \n",
       "43567                      0               0                   0   \n",
       "2732                       0               0                   0   \n",
       "\n",
       "       special_count_content  \n",
       "45891                      0  \n",
       "52416                      2  \n",
       "42613                      0  \n",
       "43567                      0  \n",
       "2732                       0  \n",
       "\n",
       "[5 rows x 28 columns]"
      ]
     },
     "execution_count": 36,
     "metadata": {},
     "output_type": "execute_result"
    }
   ],
   "source": [
    "x_tr.tail(5)"
   ]
  },
  {
   "cell_type": "markdown",
   "id": "661e59fd",
   "metadata": {
    "papermill": {
     "duration": 0.024351,
     "end_time": "2024-03-02T16:36:11.830092",
     "exception": false,
     "start_time": "2024-03-02T16:36:11.805741",
     "status": "completed"
    },
    "tags": []
   },
   "source": [
    "# Classifiers"
   ]
  },
  {
   "cell_type": "markdown",
   "id": "535b5a10",
   "metadata": {
    "papermill": {
     "duration": 0.024376,
     "end_time": "2024-03-02T16:36:11.878909",
     "exception": false,
     "start_time": "2024-03-02T16:36:11.854533",
     "status": "completed"
    },
    "tags": []
   },
   "source": [
    "**RANDOM FOREST**"
   ]
  },
  {
   "cell_type": "code",
   "execution_count": 37,
   "id": "dcae8b86",
   "metadata": {
    "execution": {
     "iopub.execute_input": "2024-03-02T16:36:11.930060Z",
     "iopub.status.busy": "2024-03-02T16:36:11.929400Z",
     "iopub.status.idle": "2024-03-02T16:36:15.277882Z",
     "shell.execute_reply": "2024-03-02T16:36:15.276641Z"
    },
    "papermill": {
     "duration": 3.377074,
     "end_time": "2024-03-02T16:36:15.280651",
     "exception": false,
     "start_time": "2024-03-02T16:36:11.903577",
     "status": "completed"
    },
    "tags": []
   },
   "outputs": [
    {
     "name": "stdout",
     "output_type": "stream",
     "text": [
      "Computing....\n",
      "Done!\n"
     ]
    }
   ],
   "source": [
    "random_forest_model = RandomForestClassifier(random_state=1000)\n",
    "print('Computing....')\n",
    "# Fit the model\n",
    "random_forest_model.fit(x_tr,y_tr)\n",
    "print('Done!')"
   ]
  },
  {
   "cell_type": "code",
   "execution_count": 38,
   "id": "63502209",
   "metadata": {
    "execution": {
     "iopub.execute_input": "2024-03-02T16:36:15.336755Z",
     "iopub.status.busy": "2024-03-02T16:36:15.336429Z",
     "iopub.status.idle": "2024-03-02T16:36:15.631888Z",
     "shell.execute_reply": "2024-03-02T16:36:15.630913Z"
    },
    "papermill": {
     "duration": 0.325392,
     "end_time": "2024-03-02T16:36:15.634079",
     "exception": false,
     "start_time": "2024-03-02T16:36:15.308687",
     "status": "completed"
    },
    "tags": []
   },
   "outputs": [
    {
     "name": "stdout",
     "output_type": "stream",
     "text": [
      "MAE 0.07374454148471615\n",
      "Accuracy 0.9262554585152838\n",
      "Precision 0.9261917594808624\n",
      "Recall 0.9262554585152838\n",
      "F1 0.9262150260558555\n",
      "ROC AUC 0.9234171756395833\n",
      "Test error: 7.4%\n"
     ]
    }
   ],
   "source": [
    "RT_predictions= random_forest_model.predict(x_ts)\n",
    "print('MAE', mean_absolute_error(y_ts, RT_predictions))\n",
    "print(\"Accuracy\", accuracy_score(y_ts, RT_predictions))\n",
    "print(\"Precision\", precision_score(y_ts, RT_predictions, average='weighted', labels=np.unique(RT_predictions)))\n",
    "print(\"Recall\", recall_score(y_ts, RT_predictions, average='weighted', labels=np.unique(RT_predictions)))\n",
    "print(\"F1\", f1_score(y_ts, RT_predictions, average='weighted', labels=np.unique(RT_predictions)))\n",
    "print(\"ROC AUC\", roc_auc_score(y_ts, RT_predictions, average='weighted', labels=np.unique(RT_predictions)))\n",
    "error_rt = (RT_predictions != y_ts).mean()\n",
    "print(\"Test error: {:.1%}\".format(error_rt))\n"
   ]
  },
  {
   "cell_type": "code",
   "execution_count": 39,
   "id": "fe0cda70",
   "metadata": {
    "execution": {
     "iopub.execute_input": "2024-03-02T16:36:15.687159Z",
     "iopub.status.busy": "2024-03-02T16:36:15.686310Z",
     "iopub.status.idle": "2024-03-02T16:36:15.692160Z",
     "shell.execute_reply": "2024-03-02T16:36:15.691114Z"
    },
    "papermill": {
     "duration": 0.03412,
     "end_time": "2024-03-02T16:36:15.694161",
     "exception": false,
     "start_time": "2024-03-02T16:36:15.660041",
     "status": "completed"
    },
    "tags": []
   },
   "outputs": [
    {
     "name": "stdout",
     "output_type": "stream",
     "text": [
      "[0 1]\n",
      "classification\n"
     ]
    }
   ],
   "source": [
    "print(y_tr.unique())\n",
    "print(y_tr.name)"
   ]
  },
  {
   "cell_type": "code",
   "execution_count": 40,
   "id": "ca1acf9c",
   "metadata": {
    "execution": {
     "iopub.execute_input": "2024-03-02T16:36:15.746350Z",
     "iopub.status.busy": "2024-03-02T16:36:15.745781Z",
     "iopub.status.idle": "2024-03-02T16:36:15.759864Z",
     "shell.execute_reply": "2024-03-02T16:36:15.758258Z"
    },
    "papermill": {
     "duration": 0.042293,
     "end_time": "2024-03-02T16:36:15.761838",
     "exception": false,
     "start_time": "2024-03-02T16:36:15.719545",
     "status": "completed"
    },
    "tags": []
   },
   "outputs": [
    {
     "name": "stdout",
     "output_type": "stream",
     "text": [
      "mean of class 0:\n",
      " count_dot_url                   2.072631\n",
      "count_dir_url                   3.831210\n",
      "count_embed_domain_url          0.000000\n",
      "count-http                      1.000000\n",
      "count%_url                      0.273319\n",
      "count?_url                      0.221706\n",
      "count-_url                      0.024644\n",
      "count=_url                      1.173812\n",
      "url_length                     79.160606\n",
      "hostname_length_url            14.000000\n",
      "sus_url                        21.204315\n",
      "count-digits_url                9.812703\n",
      "count-letters_url              55.086766\n",
      "number_of_parameters_url        1.173812\n",
      "is_encoded_url                  0.090951\n",
      "special_count_url              13.261136\n",
      "unusual_character_ratio_url     0.140332\n",
      "Method_enc                      0.226448\n",
      "count_dot_content               0.073189\n",
      "count%_content                  0.272110\n",
      "count-_content                  0.024644\n",
      "count=_content                  1.189529\n",
      "sus_content                    10.676090\n",
      "count_digits_content            2.771041\n",
      "count_letters_content          14.972752\n",
      "content_length                 20.763601\n",
      "is_encoded_content              0.092532\n",
      "special_count_content           3.019808\n",
      "dtype: float64\n",
      "mean of class 1:\n",
      " count_dot_url                    2.245804\n",
      "count_dir_url                    3.562442\n",
      "count_embed_domain_url           0.000132\n",
      "count-http                       1.004757\n",
      "count%_url                       2.010308\n",
      "count?_url                       0.387340\n",
      "count-_url                       0.295097\n",
      "count=_url                       2.241707\n",
      "url_length                     107.075327\n",
      "hostname_length_url             14.065151\n",
      "sus_url                         41.409409\n",
      "count-digits_url                16.962072\n",
      "count-letters_url               71.028281\n",
      "number_of_parameters_url         2.242236\n",
      "is_encoded_url                   0.296287\n",
      "special_count_url               18.084974\n",
      "unusual_character_ratio_url      0.141663\n",
      "Method_enc                       0.416413\n",
      "count_dot_content                0.182107\n",
      "count%_content                   1.954011\n",
      "count-_content                   0.182503\n",
      "count=_content                   2.339500\n",
      "sus_content                     27.024580\n",
      "count_digits_content             9.338311\n",
      "count_letters_content           32.055108\n",
      "content_length                  49.126602\n",
      "is_encoded_content               0.303555\n",
      "special_count_content            7.733184\n",
      "dtype: float64\n"
     ]
    }
   ],
   "source": [
    "x_ts = x_ts.reset_index(drop=True)\n",
    "y_ts = y_ts.reset_index(drop=True)\n",
    "\n",
    "for k in range(np.unique(y_ts).size):\n",
    "    print('mean of class ' + str(k) + ':\\n', x_ts[y_ts == k].mean(axis=0))\n"
   ]
  },
  {
   "cell_type": "code",
   "execution_count": 41,
   "id": "1825f145",
   "metadata": {
    "execution": {
     "iopub.execute_input": "2024-03-02T16:36:15.815179Z",
     "iopub.status.busy": "2024-03-02T16:36:15.814839Z",
     "iopub.status.idle": "2024-03-02T16:36:15.853151Z",
     "shell.execute_reply": "2024-03-02T16:36:15.852103Z"
    },
    "papermill": {
     "duration": 0.067971,
     "end_time": "2024-03-02T16:36:15.855584",
     "exception": false,
     "start_time": "2024-03-02T16:36:15.787613",
     "status": "completed"
    },
    "tags": []
   },
   "outputs": [
    {
     "name": "stdout",
     "output_type": "stream",
     "text": [
      "                     precision    recall  f1-score   support\n",
      "\n",
      "   Normal (class 0)       0.93      0.94      0.94     10753\n",
      "Anomalous (class 1)       0.91      0.91      0.91      7567\n",
      "\n",
      "           accuracy                           0.93     18320\n",
      "          macro avg       0.92      0.92      0.92     18320\n",
      "       weighted avg       0.93      0.93      0.93     18320\n",
      "\n"
     ]
    }
   ],
   "source": [
    "print(classification_report(y_ts, RT_predictions, target_names = ['Normal (class 0)','Anomalous (class 1)']))"
   ]
  },
  {
   "cell_type": "code",
   "execution_count": 42,
   "id": "5e2a0418",
   "metadata": {
    "execution": {
     "iopub.execute_input": "2024-03-02T16:36:15.911853Z",
     "iopub.status.busy": "2024-03-02T16:36:15.911107Z",
     "iopub.status.idle": "2024-03-02T16:36:16.195301Z",
     "shell.execute_reply": "2024-03-02T16:36:16.194318Z"
    },
    "papermill": {
     "duration": 0.313209,
     "end_time": "2024-03-02T16:36:16.197369",
     "exception": false,
     "start_time": "2024-03-02T16:36:15.884160",
     "status": "completed"
    },
    "tags": []
   },
   "outputs": [
    {
     "data": {
      "image/png": "[encoded data removed]",
      "text/plain": [
       "<Figure size 1000x1000 with 2 Axes>"
      ]
     },
     "metadata": {},
     "output_type": "display_data"
    }
   ],
   "source": [
    "\n",
    "\n",
    "label = ['Normal', 'Anomalous']\n",
    "cm = confusion_matrix(y_ts, RT_predictions)\n",
    "cm = pd.DataFrame(cm, index=['0', '1'], columns=['0', '1'])\n",
    "\n",
    "plt.figure(figsize=(10, 10))\n",
    "sns.heatmap(cm, cmap=\"Blues\", linecolor='black', linewidth=1, annot=True, fmt='', xticklabels=label, yticklabels=label)\n",
    "plt.title(\"Random Forest\")\n",
    "plt.xlabel(\"Predicted\")\n",
    "plt.ylabel(\"Actual\")\n",
    "plt.show()\n"
   ]
  },
  {
   "cell_type": "markdown",
   "id": "1c9fe8ce",
   "metadata": {
    "papermill": {
     "duration": 0.02716,
     "end_time": "2024-03-02T16:36:16.252147",
     "exception": false,
     "start_time": "2024-03-02T16:36:16.224987",
     "status": "completed"
    },
    "tags": []
   },
   "source": [
    "**K-NEAREST NEIGHBOR**\n"
   ]
  },
  {
   "cell_type": "code",
   "execution_count": 43,
   "id": "56982e8d",
   "metadata": {
    "execution": {
     "iopub.execute_input": "2024-03-02T16:36:16.306648Z",
     "iopub.status.busy": "2024-03-02T16:36:16.306297Z",
     "iopub.status.idle": "2024-03-02T16:36:16.311235Z",
     "shell.execute_reply": "2024-03-02T16:36:16.310375Z"
    },
    "papermill": {
     "duration": 0.035302,
     "end_time": "2024-03-02T16:36:16.313401",
     "exception": false,
     "start_time": "2024-03-02T16:36:16.278099",
     "status": "completed"
    },
    "tags": []
   },
   "outputs": [],
   "source": [
    "from sklearn.neighbors import KNeighborsClassifier\n",
    "from sklearn.model_selection import GridSearchCV\n",
    "\n",
    "#knn_model = KNeighborsClassifier()\n",
    "\n",
    "#param_grid = {'n_neighbors': [3, 5, 7, 9,10,11, 13]}\n",
    "\n",
    "#grid_search = GridSearchCV(knn_model, param_grid, cv=5)\n",
    "#grid_search.fit(x_tr, y_tr)\n",
    "\n",
    "#best_n_neighbors = grid_search.best_params_['n_neighbors']\n",
    "#print(\"Best n_neighbors:\", best_n_neighbors)\n",
    "\n",
    "#final_model = KNeighborsClassifier(n_neighbors=best_n_neighbors)\n",
    "#final_model.fit(x_tr, y_tr)\n",
    "\n",
    "#knn_predictions = final_model.predict(x_ts)"
   ]
  },
  {
   "cell_type": "markdown",
   "id": "27b98a26",
   "metadata": {
    "papermill": {
     "duration": 0.026138,
     "end_time": "2024-03-02T16:36:16.367404",
     "exception": false,
     "start_time": "2024-03-02T16:36:16.341266",
     "status": "completed"
    },
    "tags": []
   },
   "source": [
    "Best n_neighbors: 9\n"
   ]
  },
  {
   "cell_type": "code",
   "execution_count": 44,
   "id": "e76f9272",
   "metadata": {
    "execution": {
     "iopub.execute_input": "2024-03-02T16:36:16.421660Z",
     "iopub.status.busy": "2024-03-02T16:36:16.420958Z",
     "iopub.status.idle": "2024-03-02T16:36:18.753320Z",
     "shell.execute_reply": "2024-03-02T16:36:18.752476Z"
    },
    "papermill": {
     "duration": 2.36216,
     "end_time": "2024-03-02T16:36:18.755683",
     "exception": false,
     "start_time": "2024-03-02T16:36:16.393523",
     "status": "completed"
    },
    "tags": []
   },
   "outputs": [],
   "source": [
    "final_model = KNeighborsClassifier(n_neighbors=9)\n",
    "final_model.fit(x_tr, y_tr)\n",
    "knn_predictions = final_model.predict(x_ts)"
   ]
  },
  {
   "cell_type": "code",
   "execution_count": 45,
   "id": "a781d9a5",
   "metadata": {
    "execution": {
     "iopub.execute_input": "2024-03-02T16:36:18.809894Z",
     "iopub.status.busy": "2024-03-02T16:36:18.809346Z",
     "iopub.status.idle": "2024-03-02T16:36:18.848299Z",
     "shell.execute_reply": "2024-03-02T16:36:18.847272Z"
    },
    "papermill": {
     "duration": 0.067769,
     "end_time": "2024-03-02T16:36:18.850272",
     "exception": false,
     "start_time": "2024-03-02T16:36:18.782503",
     "status": "completed"
    },
    "tags": []
   },
   "outputs": [
    {
     "name": "stdout",
     "output_type": "stream",
     "text": [
      "MAE 0.08471615720524017\n",
      "Accuracy 0.9152838427947598\n",
      "Precision 0.915150466570833\n",
      "Recall 0.9152838427947598\n",
      "F1 0.9151604867156559\n",
      "ROC AUC 0.911251753162618\n",
      "Test error: 8.5%\n"
     ]
    }
   ],
   "source": [
    "print('MAE', mean_absolute_error(y_ts, knn_predictions))\n",
    "print(\"Accuracy\", accuracy_score(y_ts, knn_predictions))\n",
    "print(\"Precision\", precision_score(y_ts, knn_predictions, average='weighted', labels=np.unique(knn_predictions)))\n",
    "print(\"Recall\", recall_score(y_ts, knn_predictions, average='weighted', labels=np.unique(knn_predictions)))\n",
    "print(\"F1\", f1_score(y_ts, knn_predictions, average='weighted', labels=np.unique(knn_predictions)))\n",
    "print(\"ROC AUC\", roc_auc_score(y_ts, knn_predictions, average='weighted', labels=np.unique(knn_predictions)))\n",
    "error_knn = (knn_predictions != y_ts).mean()\n",
    "print(\"Test error: {:.1%}\".format(error_knn))"
   ]
  },
  {
   "cell_type": "code",
   "execution_count": 46,
   "id": "01801a1e",
   "metadata": {
    "execution": {
     "iopub.execute_input": "2024-03-02T16:36:18.904819Z",
     "iopub.status.busy": "2024-03-02T16:36:18.904447Z",
     "iopub.status.idle": "2024-03-02T16:36:19.218178Z",
     "shell.execute_reply": "2024-03-02T16:36:19.217279Z"
    },
    "papermill": {
     "duration": 0.343377,
     "end_time": "2024-03-02T16:36:19.220335",
     "exception": false,
     "start_time": "2024-03-02T16:36:18.876958",
     "status": "completed"
    },
    "tags": []
   },
   "outputs": [
    {
     "data": {
      "text/plain": [
       "<Axes: title={'center': 'KN Neighbors'}>"
      ]
     },
     "execution_count": 46,
     "metadata": {},
     "output_type": "execute_result"
    },
    {
     "data": {
      "image/png": "[encoded data removed]",
      "text/plain": [
       "<Figure size 1000x1000 with 2 Axes>"
      ]
     },
     "metadata": {},
     "output_type": "display_data"
    }
   ],
   "source": [
    "cm = confusion_matrix(y_ts,knn_predictions)\n",
    "cm = pd.DataFrame(cm , index = ['0','1'] , columns = ['0','1'])\n",
    "plt.figure(figsize = (10,10))\n",
    "plt.title(\"KN Neighbors\")\n",
    "plt.xlabel(\"Predicted\")\n",
    "plt.ylabel(\"Actual\")\n",
    "sns.heatmap(cm,cmap= \"Blues\", linecolor = 'black' , linewidth = 1 , annot = True, fmt='',xticklabels = label,yticklabels = label)\n"
   ]
  },
  {
   "cell_type": "markdown",
   "id": "df542f13",
   "metadata": {
    "papermill": {
     "duration": 0.027283,
     "end_time": "2024-03-02T16:36:19.275537",
     "exception": false,
     "start_time": "2024-03-02T16:36:19.248254",
     "status": "completed"
    },
    "tags": []
   },
   "source": [
    "**DECISION TREE**"
   ]
  },
  {
   "cell_type": "code",
   "execution_count": 47,
   "id": "d8edef56",
   "metadata": {
    "execution": {
     "iopub.execute_input": "2024-03-02T16:36:19.332030Z",
     "iopub.status.busy": "2024-03-02T16:36:19.331672Z",
     "iopub.status.idle": "2024-03-02T16:36:19.502533Z",
     "shell.execute_reply": "2024-03-02T16:36:19.501452Z"
    },
    "papermill": {
     "duration": 0.202185,
     "end_time": "2024-03-02T16:36:19.504743",
     "exception": false,
     "start_time": "2024-03-02T16:36:19.302558",
     "status": "completed"
    },
    "tags": []
   },
   "outputs": [
    {
     "name": "stdout",
     "output_type": "stream",
     "text": [
      "Computing....\n",
      "Done!\n"
     ]
    }
   ],
   "source": [
    "DT_model = DecisionTreeClassifier(random_state=2)\n",
    "print('Computing....')\n",
    "DT_model.fit(x_tr,y_tr)\n",
    "print('Done!')"
   ]
  },
  {
   "cell_type": "code",
   "execution_count": 48,
   "id": "542a1e3f",
   "metadata": {
    "execution": {
     "iopub.execute_input": "2024-03-02T16:36:19.560627Z",
     "iopub.status.busy": "2024-03-02T16:36:19.560309Z",
     "iopub.status.idle": "2024-03-02T16:36:19.603959Z",
     "shell.execute_reply": "2024-03-02T16:36:19.602810Z"
    },
    "papermill": {
     "duration": 0.073915,
     "end_time": "2024-03-02T16:36:19.605994",
     "exception": false,
     "start_time": "2024-03-02T16:36:19.532079",
     "status": "completed"
    },
    "tags": []
   },
   "outputs": [
    {
     "name": "stdout",
     "output_type": "stream",
     "text": [
      "MAE 0.08133187772925764\n",
      "Accuracy 0.9186681222707423\n",
      "Precision 0.9185504062924272\n",
      "Recall 0.9186681222707423\n",
      "F1 0.918507216986483\n",
      "ROC AUC 0.9142717136873706\n",
      "Test error: 8.1%\n"
     ]
    }
   ],
   "source": [
    "DT_predictions= DT_model.predict(x_ts)\n",
    "print('MAE', mean_absolute_error(y_ts, DT_predictions))\n",
    "print(\"Accuracy\", accuracy_score(y_ts, DT_predictions))\n",
    "print(\"Precision\", precision_score(y_ts, DT_predictions, average='weighted', labels=np.unique(DT_predictions)))\n",
    "print(\"Recall\", recall_score(y_ts, DT_predictions, average='weighted', labels=np.unique(DT_predictions)))\n",
    "print(\"F1\", f1_score(y_ts, DT_predictions, average='weighted', labels=np.unique(DT_predictions)))\n",
    "print(\"ROC AUC\", roc_auc_score(y_ts, DT_predictions, average='weighted', labels=np.unique(DT_predictions)))\n",
    "error_dt = (DT_predictions != y_ts).mean()\n",
    "print(\"Test error: {:.1%}\".format(error_dt))"
   ]
  },
  {
   "cell_type": "code",
   "execution_count": 49,
   "id": "263b5a31",
   "metadata": {
    "execution": {
     "iopub.execute_input": "2024-03-02T16:36:19.663194Z",
     "iopub.status.busy": "2024-03-02T16:36:19.662386Z",
     "iopub.status.idle": "2024-03-02T16:36:19.988018Z",
     "shell.execute_reply": "2024-03-02T16:36:19.987088Z"
    },
    "papermill": {
     "duration": 0.356444,
     "end_time": "2024-03-02T16:36:19.990139",
     "exception": false,
     "start_time": "2024-03-02T16:36:19.633695",
     "status": "completed"
    },
    "tags": []
   },
   "outputs": [
    {
     "data": {
      "text/plain": [
       "<Axes: title={'center': 'Decision Tree'}>"
      ]
     },
     "execution_count": 49,
     "metadata": {},
     "output_type": "execute_result"
    },
    {
     "data": {
      "image/png": "[encoded data removed]",
      "text/plain": [
       "<Figure size 640x480 with 2 Axes>"
      ]
     },
     "metadata": {},
     "output_type": "display_data"
    }
   ],
   "source": [
    "cm = confusion_matrix(y_ts,DT_predictions)\n",
    "cm = pd.DataFrame(cm , index = ['0','1'] , columns = ['0','1'])\n",
    "plt.title(\"Decision Tree\")\n",
    "plt.xlabel(\"Predicted\")\n",
    "plt.ylabel(\"Actual\")\n",
    "sns.heatmap(cm,cmap= \"Blues\", linecolor = 'black' , linewidth = 1 , annot = True, fmt='',xticklabels = label,yticklabels = label)"
   ]
  },
  {
   "cell_type": "markdown",
   "id": "3538e432",
   "metadata": {
    "papermill": {
     "duration": 0.027894,
     "end_time": "2024-03-02T16:36:20.046026",
     "exception": false,
     "start_time": "2024-03-02T16:36:20.018132",
     "status": "completed"
    },
    "tags": []
   },
   "source": [
    "**Logistic Regression**"
   ]
  },
  {
   "cell_type": "code",
   "execution_count": 50,
   "id": "c51a8490",
   "metadata": {
    "execution": {
     "iopub.execute_input": "2024-03-02T16:36:20.102519Z",
     "iopub.status.busy": "2024-03-02T16:36:20.101841Z",
     "iopub.status.idle": "2024-03-02T16:36:25.786327Z",
     "shell.execute_reply": "2024-03-02T16:36:25.785170Z"
    },
    "papermill": {
     "duration": 5.718707,
     "end_time": "2024-03-02T16:36:25.792084",
     "exception": false,
     "start_time": "2024-03-02T16:36:20.073377",
     "status": "completed"
    },
    "tags": []
   },
   "outputs": [
    {
     "name": "stdout",
     "output_type": "stream",
     "text": [
      "Computing....\n",
      "Done!\n"
     ]
    },
    {
     "name": "stderr",
     "output_type": "stream",
     "text": [
      "/opt/conda/lib/python3.10/site-packages/sklearn/linear_model/_logistic.py:458: ConvergenceWarning: lbfgs failed to converge (status=1):\n",
      "STOP: TOTAL NO. of ITERATIONS REACHED LIMIT.\n",
      "\n",
      "Increase the number of iterations (max_iter) or scale the data as shown in:\n",
      "    https://scikit-learn.org/stable/modules/preprocessing.html\n",
      "Please also refer to the documentation for alternative solver options:\n",
      "    https://scikit-learn.org/stable/modules/linear_model.html#logistic-regression\n",
      "  n_iter_i = _check_optimize_result(\n"
     ]
    }
   ],
   "source": [
    "LR_model = LogisticRegression(random_state = 42, max_iter = 1000)\n",
    "print('Computing....')\n",
    "LR_model.fit(x_tr,y_tr)\n",
    "print('Done!')"
   ]
  },
  {
   "cell_type": "code",
   "execution_count": 51,
   "id": "ef248171",
   "metadata": {
    "execution": {
     "iopub.execute_input": "2024-03-02T16:36:25.916408Z",
     "iopub.status.busy": "2024-03-02T16:36:25.916080Z",
     "iopub.status.idle": "2024-03-02T16:36:25.993741Z",
     "shell.execute_reply": "2024-03-02T16:36:25.992256Z"
    },
    "papermill": {
     "duration": 0.140711,
     "end_time": "2024-03-02T16:36:25.997157",
     "exception": false,
     "start_time": "2024-03-02T16:36:25.856446",
     "status": "completed"
    },
    "tags": []
   },
   "outputs": [
    {
     "name": "stdout",
     "output_type": "stream",
     "text": [
      "MAE 0.22287117903930131\n",
      "Accuracy 0.7771288209606987\n",
      "Precision 0.7780562643500948\n",
      "Recall 0.7771288209606987\n",
      "F1 0.7723461215518053\n",
      "ROC AUC 0.7559548414829815\n",
      "Test error: 22.3%\n"
     ]
    }
   ],
   "source": [
    "LR_predictions= LR_model.predict(x_ts)\n",
    "print('MAE', mean_absolute_error(y_ts, LR_predictions))\n",
    "print(\"Accuracy\", accuracy_score(y_ts, LR_predictions))\n",
    "print(\"Precision\", precision_score(y_ts, LR_predictions, average='weighted', labels=np.unique(LR_predictions)))\n",
    "print(\"Recall\", recall_score(y_ts, LR_predictions, average='weighted', labels=np.unique(LR_predictions)))\n",
    "print(\"F1\", f1_score(y_ts, LR_predictions, average='weighted', labels=np.unique(LR_predictions)))\n",
    "print(\"ROC AUC\", roc_auc_score(y_ts,LR_predictions, average='weighted', labels=np.unique(LR_predictions)))\n",
    "error_lr = (LR_predictions != y_ts).mean()\n",
    "print(\"Test error: {:.1%}\".format(error_lr))"
   ]
  },
  {
   "cell_type": "code",
   "execution_count": 52,
   "id": "21b1733e",
   "metadata": {
    "execution": {
     "iopub.execute_input": "2024-03-02T16:36:26.090525Z",
     "iopub.status.busy": "2024-03-02T16:36:26.090137Z",
     "iopub.status.idle": "2024-03-02T16:36:26.461045Z",
     "shell.execute_reply": "2024-03-02T16:36:26.460128Z"
    },
    "papermill": {
     "duration": 0.404519,
     "end_time": "2024-03-02T16:36:26.463086",
     "exception": false,
     "start_time": "2024-03-02T16:36:26.058567",
     "status": "completed"
    },
    "tags": []
   },
   "outputs": [
    {
     "data": {
      "text/plain": [
       "<Axes: title={'center': 'Logistic Regression'}>"
      ]
     },
     "execution_count": 52,
     "metadata": {},
     "output_type": "execute_result"
    },
    {
     "data": {
      "image/png": "[encoded data removed]",
      "text/plain": [
       "<Figure size 640x480 with 2 Axes>"
      ]
     },
     "metadata": {},
     "output_type": "display_data"
    }
   ],
   "source": [
    "cm = confusion_matrix(y_ts,LR_predictions)\n",
    "cm = pd.DataFrame(cm , index = ['0','1'] , columns = ['0','1'])\n",
    "plt.title(\"Logistic Regression\")\n",
    "plt.xlabel(\"Predicted\")\n",
    "plt.ylabel(\"Actual\")\n",
    "sns.heatmap(cm,cmap= \"Blues\", linecolor = 'black' , linewidth = 1 , annot = True, fmt='',xticklabels = label,yticklabels = label)"
   ]
  },
  {
   "cell_type": "markdown",
   "id": "c94bcad6",
   "metadata": {
    "papermill": {
     "duration": 0.028452,
     "end_time": "2024-03-02T16:36:26.520591",
     "exception": false,
     "start_time": "2024-03-02T16:36:26.492139",
     "status": "completed"
    },
    "tags": []
   },
   "source": [
    "**Support Vector Machine (SVM)**"
   ]
  },
  {
   "cell_type": "code",
   "execution_count": 53,
   "id": "1e245843",
   "metadata": {
    "execution": {
     "iopub.execute_input": "2024-03-02T16:36:26.579328Z",
     "iopub.status.busy": "2024-03-02T16:36:26.578990Z",
     "iopub.status.idle": "2024-03-02T16:37:32.391044Z",
     "shell.execute_reply": "2024-03-02T16:37:32.390035Z"
    },
    "papermill": {
     "duration": 65.873518,
     "end_time": "2024-03-02T16:37:32.422540",
     "exception": false,
     "start_time": "2024-03-02T16:36:26.549022",
     "status": "completed"
    },
    "tags": []
   },
   "outputs": [
    {
     "name": "stdout",
     "output_type": "stream",
     "text": [
      "Computing....\n",
      "Done!\n"
     ]
    }
   ],
   "source": [
    "SVC_model = SVC()\n",
    "print('Computing....') \n",
    "SVC_model.fit(x_tr,y_tr)\n",
    "print('Done!')"
   ]
  },
  {
   "cell_type": "code",
   "execution_count": 54,
   "id": "178d4a03",
   "metadata": {
    "execution": {
     "iopub.execute_input": "2024-03-02T16:37:32.481734Z",
     "iopub.status.busy": "2024-03-02T16:37:32.480928Z",
     "iopub.status.idle": "2024-03-02T16:38:00.521343Z",
     "shell.execute_reply": "2024-03-02T16:38:00.520091Z"
    },
    "papermill": {
     "duration": 28.072228,
     "end_time": "2024-03-02T16:38:00.523473",
     "exception": false,
     "start_time": "2024-03-02T16:37:32.451245",
     "status": "completed"
    },
    "tags": []
   },
   "outputs": [
    {
     "name": "stdout",
     "output_type": "stream",
     "text": [
      "MAE 0.2865174672489083\n",
      "Accuracy 0.7134825327510917\n",
      "Precision 0.7113913094094383\n",
      "Recall 0.7134825327510917\n",
      "F1 0.7119658770270874\n",
      "ROC AUC 0.6999754178398815\n",
      "Test error: 28.7%\n"
     ]
    }
   ],
   "source": [
    "SVC_predictions= SVC_model.predict(x_ts)\n",
    "print('MAE', mean_absolute_error(y_ts, SVC_predictions))\n",
    "print(\"Accuracy\", accuracy_score(y_ts, SVC_predictions))\n",
    "print(\"Precision\", precision_score(y_ts, SVC_predictions, average='weighted', labels=np.unique(SVC_predictions)))\n",
    "print(\"Recall\", recall_score(y_ts, SVC_predictions, average='weighted', labels=np.unique(SVC_predictions)))\n",
    "print(\"F1\", f1_score(y_ts, SVC_predictions, average='weighted', labels=np.unique(SVC_predictions)))\n",
    "print(\"ROC AUC\", roc_auc_score(y_ts,SVC_predictions, average='weighted', labels=np.unique(SVC_predictions)))\n",
    "error_svc = (SVC_predictions != y_ts).mean()\n",
    "print(\"Test error: {:.1%}\".format(error_svc))"
   ]
  },
  {
   "cell_type": "code",
   "execution_count": 55,
   "id": "41d37650",
   "metadata": {
    "execution": {
     "iopub.execute_input": "2024-03-02T16:38:00.584769Z",
     "iopub.status.busy": "2024-03-02T16:38:00.584148Z",
     "iopub.status.idle": "2024-03-02T16:38:00.879479Z",
     "shell.execute_reply": "2024-03-02T16:38:00.878554Z"
    },
    "papermill": {
     "duration": 0.327912,
     "end_time": "2024-03-02T16:38:00.881389",
     "exception": false,
     "start_time": "2024-03-02T16:38:00.553477",
     "status": "completed"
    },
    "tags": []
   },
   "outputs": [
    {
     "data": {
      "text/plain": [
       "<Axes: title={'center': 'SVC'}>"
      ]
     },
     "execution_count": 55,
     "metadata": {},
     "output_type": "execute_result"
    },
    {
     "data": {
      "image/png": "[encoded data removed]",
      "text/plain": [
       "<Figure size 640x480 with 2 Axes>"
      ]
     },
     "metadata": {},
     "output_type": "display_data"
    }
   ],
   "source": [
    "cm = confusion_matrix(y_ts,SVC_predictions)\n",
    "cm = pd.DataFrame(cm , index = ['0','1'] , columns = ['0','1'])\n",
    "plt.title(\"SVC\")\n",
    "plt.xlabel(\"Predicted\")\n",
    "plt.ylabel(\"Actual\")\n",
    "sns.heatmap(cm,cmap= \"Blues\", linecolor = 'black' , linewidth = 1 , annot = True, fmt='',xticklabels = label,yticklabels = label)"
   ]
  },
  {
   "cell_type": "markdown",
   "id": "09c9bda7",
   "metadata": {
    "papermill": {
     "duration": 0.029785,
     "end_time": "2024-03-02T16:38:00.941789",
     "exception": false,
     "start_time": "2024-03-02T16:38:00.912004",
     "status": "completed"
    },
    "tags": []
   },
   "source": [
    "**Naïves Bayes**"
   ]
  },
  {
   "cell_type": "code",
   "execution_count": 56,
   "id": "e6b0d10d",
   "metadata": {
    "execution": {
     "iopub.execute_input": "2024-03-02T16:38:01.002736Z",
     "iopub.status.busy": "2024-03-02T16:38:01.002410Z",
     "iopub.status.idle": "2024-03-02T16:38:01.026861Z",
     "shell.execute_reply": "2024-03-02T16:38:01.025742Z"
    },
    "papermill": {
     "duration": 0.057473,
     "end_time": "2024-03-02T16:38:01.029045",
     "exception": false,
     "start_time": "2024-03-02T16:38:00.971572",
     "status": "completed"
    },
    "tags": []
   },
   "outputs": [
    {
     "name": "stdout",
     "output_type": "stream",
     "text": [
      "Computing....\n",
      "Done!\n"
     ]
    }
   ],
   "source": [
    "NB_model = GaussianNB ()\n",
    "print('Computing....')\n",
    "NB_model.fit(x_tr,y_tr)\n",
    "print('Done!')"
   ]
  },
  {
   "cell_type": "code",
   "execution_count": 57,
   "id": "98515d8a",
   "metadata": {
    "execution": {
     "iopub.execute_input": "2024-03-02T16:38:01.092807Z",
     "iopub.status.busy": "2024-03-02T16:38:01.092185Z",
     "iopub.status.idle": "2024-03-02T16:38:01.135994Z",
     "shell.execute_reply": "2024-03-02T16:38:01.134865Z"
    },
    "papermill": {
     "duration": 0.076894,
     "end_time": "2024-03-02T16:38:01.137937",
     "exception": false,
     "start_time": "2024-03-02T16:38:01.061043",
     "status": "completed"
    },
    "tags": []
   },
   "outputs": [
    {
     "name": "stdout",
     "output_type": "stream",
     "text": [
      "MAE 0.3015829694323144\n",
      "Accuracy 0.6984170305676856\n",
      "Precision 0.7051241268906004\n",
      "Recall 0.6984170305676856\n",
      "F1 0.678601361031511\n",
      "ROC AUC 0.6586953443131436\n",
      "Test error: 30.2%\n"
     ]
    }
   ],
   "source": [
    "NB_predictions= NB_model.predict(x_ts)\n",
    "print('MAE', mean_absolute_error(y_ts, NB_predictions))\n",
    "print(\"Accuracy\", accuracy_score(y_ts, NB_predictions))\n",
    "print(\"Precision\", precision_score(y_ts, NB_predictions, average='weighted', labels=np.unique(NB_predictions)))\n",
    "print(\"Recall\", recall_score(y_ts, NB_predictions, average='weighted', labels=np.unique(NB_predictions)))\n",
    "print(\"F1\", f1_score(y_ts, NB_predictions, average='weighted', labels=np.unique(NB_predictions)))\n",
    "print(\"ROC AUC\", roc_auc_score(y_ts,NB_predictions, average='weighted', labels=np.unique(NB_predictions)))\n",
    "error_nb = (NB_predictions != y_ts).mean()\n",
    "print(\"Test error: {:.1%}\".format(error_nb))"
   ]
  },
  {
   "cell_type": "code",
   "execution_count": 58,
   "id": "b99bd05e",
   "metadata": {
    "execution": {
     "iopub.execute_input": "2024-03-02T16:38:01.201338Z",
     "iopub.status.busy": "2024-03-02T16:38:01.200632Z",
     "iopub.status.idle": "2024-03-02T16:38:01.538941Z",
     "shell.execute_reply": "2024-03-02T16:38:01.538013Z"
    },
    "papermill": {
     "duration": 0.372198,
     "end_time": "2024-03-02T16:38:01.540941",
     "exception": false,
     "start_time": "2024-03-02T16:38:01.168743",
     "status": "completed"
    },
    "tags": []
   },
   "outputs": [
    {
     "data": {
      "text/plain": [
       "<Axes: title={'center': 'NB'}>"
      ]
     },
     "execution_count": 58,
     "metadata": {},
     "output_type": "execute_result"
    },
    {
     "data": {
      "image/png": "[encoded data removed]",
      "text/plain": [
       "<Figure size 640x480 with 2 Axes>"
      ]
     },
     "metadata": {},
     "output_type": "display_data"
    }
   ],
   "source": [
    "cm = confusion_matrix(y_ts,NB_predictions)\n",
    "cm = pd.DataFrame(cm , index = ['0','1'] , columns = ['0','1'])\n",
    "plt.title(\"NB\")\n",
    "plt.xlabel(\"Predicted\")\n",
    "plt.ylabel(\"Actual\")\n",
    "sns.heatmap(cm,cmap= \"Blues\", linecolor = 'black' , linewidth = 1 , annot = True, fmt='',xticklabels = label,yticklabels = label)"
   ]
  },
  {
   "cell_type": "markdown",
   "id": "9a1cafbe",
   "metadata": {
    "papermill": {
     "duration": 0.030839,
     "end_time": "2024-03-02T16:38:01.603337",
     "exception": false,
     "start_time": "2024-03-02T16:38:01.572498",
     "status": "completed"
    },
    "tags": []
   },
   "source": [
    "**Recurrent Neural Network(RNN)** "
   ]
  },
  {
   "cell_type": "code",
   "execution_count": 59,
   "id": "ef0a6306",
   "metadata": {
    "execution": {
     "iopub.execute_input": "2024-03-02T16:38:01.666373Z",
     "iopub.status.busy": "2024-03-02T16:38:01.665666Z",
     "iopub.status.idle": "2024-03-02T16:56:46.720685Z",
     "shell.execute_reply": "2024-03-02T16:56:46.718926Z"
    },
    "papermill": {
     "duration": 1125.08935,
     "end_time": "2024-03-02T16:56:46.723526",
     "exception": false,
     "start_time": "2024-03-02T16:38:01.634176",
     "status": "completed"
    },
    "tags": []
   },
   "outputs": [
    {
     "name": "stdout",
     "output_type": "stream",
     "text": [
      "Epoch 1/50\n",
      "1336/1336 [==============================] - 27s 17ms/step - loss: 0.5253 - accuracy: 0.7190 - val_loss: 0.4869 - val_accuracy: 0.7183\n",
      "Epoch 2/50\n",
      "1336/1336 [==============================] - 22s 17ms/step - loss: 0.4625 - accuracy: 0.7496 - val_loss: 0.5272 - val_accuracy: 0.7251\n",
      "Epoch 3/50\n",
      "1336/1336 [==============================] - 22s 16ms/step - loss: 0.4352 - accuracy: 0.7664 - val_loss: 0.3738 - val_accuracy: 0.7984\n",
      "Epoch 4/50\n",
      "1336/1336 [==============================] - 22s 17ms/step - loss: 0.3996 - accuracy: 0.7844 - val_loss: 0.3619 - val_accuracy: 0.7867\n",
      "Epoch 5/50\n",
      "1336/1336 [==============================] - 22s 16ms/step - loss: 0.3714 - accuracy: 0.7970 - val_loss: 0.3485 - val_accuracy: 0.8100\n",
      "Epoch 6/50\n",
      "1336/1336 [==============================] - 21s 16ms/step - loss: 0.3635 - accuracy: 0.8061 - val_loss: 0.3621 - val_accuracy: 0.8003\n",
      "Epoch 7/50\n",
      "1336/1336 [==============================] - 22s 16ms/step - loss: 0.3743 - accuracy: 0.8005 - val_loss: 0.3695 - val_accuracy: 0.8094\n",
      "Epoch 8/50\n",
      "1336/1336 [==============================] - 22s 17ms/step - loss: 0.3659 - accuracy: 0.8045 - val_loss: 0.4390 - val_accuracy: 0.7941\n",
      "Epoch 9/50\n",
      "1336/1336 [==============================] - 22s 16ms/step - loss: 0.3622 - accuracy: 0.8072 - val_loss: 0.3478 - val_accuracy: 0.8078\n",
      "Epoch 10/50\n",
      "1336/1336 [==============================] - 22s 16ms/step - loss: 0.4265 - accuracy: 0.7786 - val_loss: 0.3800 - val_accuracy: 0.7957\n",
      "Epoch 11/50\n",
      "1336/1336 [==============================] - 22s 17ms/step - loss: 0.3560 - accuracy: 0.8121 - val_loss: 0.3442 - val_accuracy: 0.8157\n",
      "Epoch 12/50\n",
      "1336/1336 [==============================] - 22s 16ms/step - loss: 0.3462 - accuracy: 0.8140 - val_loss: 0.3393 - val_accuracy: 0.8173\n",
      "Epoch 13/50\n",
      "1336/1336 [==============================] - 22s 16ms/step - loss: 0.3399 - accuracy: 0.8186 - val_loss: 0.3785 - val_accuracy: 0.8075\n",
      "Epoch 14/50\n",
      "1336/1336 [==============================] - 22s 17ms/step - loss: 0.3466 - accuracy: 0.8166 - val_loss: 0.3553 - val_accuracy: 0.8094\n",
      "Epoch 15/50\n",
      "1336/1336 [==============================] - 22s 16ms/step - loss: 0.3352 - accuracy: 0.8200 - val_loss: 0.4554 - val_accuracy: 0.7338\n",
      "Epoch 16/50\n",
      "1336/1336 [==============================] - 22s 16ms/step - loss: 0.3605 - accuracy: 0.8115 - val_loss: 0.3295 - val_accuracy: 0.8228\n",
      "Epoch 17/50\n",
      "1336/1336 [==============================] - 22s 16ms/step - loss: 0.3273 - accuracy: 0.8276 - val_loss: 0.3562 - val_accuracy: 0.8197\n",
      "Epoch 18/50\n",
      "1336/1336 [==============================] - 22s 16ms/step - loss: 0.3268 - accuracy: 0.8286 - val_loss: 0.3151 - val_accuracy: 0.8327\n",
      "Epoch 19/50\n",
      "1336/1336 [==============================] - 22s 16ms/step - loss: 0.3384 - accuracy: 0.8231 - val_loss: 0.4025 - val_accuracy: 0.7933\n",
      "Epoch 20/50\n",
      "1336/1336 [==============================] - 22s 16ms/step - loss: 0.3276 - accuracy: 0.8285 - val_loss: 0.3144 - val_accuracy: 0.8352\n",
      "Epoch 21/50\n",
      "1336/1336 [==============================] - 22s 16ms/step - loss: 0.3205 - accuracy: 0.8301 - val_loss: 0.3161 - val_accuracy: 0.8247\n",
      "Epoch 22/50\n",
      "1336/1336 [==============================] - 22s 16ms/step - loss: 0.3249 - accuracy: 0.8295 - val_loss: 0.3252 - val_accuracy: 0.8269\n",
      "Epoch 23/50\n",
      "1336/1336 [==============================] - 22s 16ms/step - loss: 0.3357 - accuracy: 0.8224 - val_loss: 0.3478 - val_accuracy: 0.8135\n",
      "Epoch 24/50\n",
      "1336/1336 [==============================] - 22s 17ms/step - loss: 0.3289 - accuracy: 0.8263 - val_loss: 0.3200 - val_accuracy: 0.8235\n",
      "Epoch 25/50\n",
      "1336/1336 [==============================] - 22s 17ms/step - loss: 0.3649 - accuracy: 0.8107 - val_loss: 0.3585 - val_accuracy: 0.8027\n",
      "Epoch 26/50\n",
      "1336/1336 [==============================] - 22s 17ms/step - loss: 0.3510 - accuracy: 0.8148 - val_loss: 0.3554 - val_accuracy: 0.8022\n",
      "Epoch 27/50\n",
      "1336/1336 [==============================] - 22s 17ms/step - loss: 0.3573 - accuracy: 0.8144 - val_loss: 0.3571 - val_accuracy: 0.8100\n",
      "Epoch 28/50\n",
      "1336/1336 [==============================] - 22s 17ms/step - loss: 0.3525 - accuracy: 0.8175 - val_loss: 0.3512 - val_accuracy: 0.8020\n",
      "Epoch 29/50\n",
      "1336/1336 [==============================] - 22s 17ms/step - loss: 0.3287 - accuracy: 0.8268 - val_loss: 0.3324 - val_accuracy: 0.8251\n",
      "Epoch 30/50\n",
      "1336/1336 [==============================] - 23s 17ms/step - loss: 0.3348 - accuracy: 0.8270 - val_loss: 0.3234 - val_accuracy: 0.8246\n",
      "Epoch 31/50\n",
      "1336/1336 [==============================] - 23s 17ms/step - loss: 0.3246 - accuracy: 0.8323 - val_loss: 0.3158 - val_accuracy: 0.8304\n",
      "Epoch 32/50\n",
      "1336/1336 [==============================] - 23s 17ms/step - loss: 0.3337 - accuracy: 0.8282 - val_loss: 0.3490 - val_accuracy: 0.8207\n",
      "Epoch 33/50\n",
      "1336/1336 [==============================] - 23s 17ms/step - loss: 0.3440 - accuracy: 0.8196 - val_loss: 0.3350 - val_accuracy: 0.8225\n",
      "Epoch 34/50\n",
      "1336/1336 [==============================] - 23s 17ms/step - loss: 0.3311 - accuracy: 0.8275 - val_loss: 0.3677 - val_accuracy: 0.8187\n",
      "Epoch 35/50\n",
      "1336/1336 [==============================] - 23s 17ms/step - loss: 0.3618 - accuracy: 0.8116 - val_loss: 0.3328 - val_accuracy: 0.8114\n",
      "Epoch 36/50\n",
      "1336/1336 [==============================] - 23s 17ms/step - loss: 0.3397 - accuracy: 0.8191 - val_loss: 0.3209 - val_accuracy: 0.8170\n",
      "Epoch 37/50\n",
      "1336/1336 [==============================] - 23s 17ms/step - loss: 0.3187 - accuracy: 0.8305 - val_loss: 0.2897 - val_accuracy: 0.8414\n",
      "Epoch 38/50\n",
      "1336/1336 [==============================] - 23s 17ms/step - loss: 0.3217 - accuracy: 0.8289 - val_loss: 0.2960 - val_accuracy: 0.8356\n",
      "Epoch 39/50\n",
      "1336/1336 [==============================] - 23s 17ms/step - loss: 0.3110 - accuracy: 0.8346 - val_loss: 0.2976 - val_accuracy: 0.8366\n",
      "Epoch 40/50\n",
      "1336/1336 [==============================] - 22s 17ms/step - loss: 0.3056 - accuracy: 0.8367 - val_loss: 0.3498 - val_accuracy: 0.8243\n",
      "Epoch 41/50\n",
      "1336/1336 [==============================] - 23s 17ms/step - loss: 0.3119 - accuracy: 0.8349 - val_loss: 0.3340 - val_accuracy: 0.8340\n",
      "Epoch 42/50\n",
      "1336/1336 [==============================] - 22s 17ms/step - loss: 0.3312 - accuracy: 0.8240 - val_loss: 0.3130 - val_accuracy: 0.8159\n",
      "Epoch 43/50\n",
      "1336/1336 [==============================] - 22s 17ms/step - loss: 0.3147 - accuracy: 0.8358 - val_loss: 0.3283 - val_accuracy: 0.8198\n",
      "Epoch 44/50\n",
      "1336/1336 [==============================] - 22s 17ms/step - loss: 0.3017 - accuracy: 0.8404 - val_loss: 0.2859 - val_accuracy: 0.8422\n",
      "Epoch 45/50\n",
      "1336/1336 [==============================] - 23s 17ms/step - loss: 0.3365 - accuracy: 0.8230 - val_loss: 0.3087 - val_accuracy: 0.8340\n",
      "Epoch 46/50\n",
      "1336/1336 [==============================] - 23s 17ms/step - loss: 0.3086 - accuracy: 0.8342 - val_loss: 0.3220 - val_accuracy: 0.8348\n",
      "Epoch 47/50\n",
      "1336/1336 [==============================] - 23s 17ms/step - loss: 0.3161 - accuracy: 0.8351 - val_loss: 0.5358 - val_accuracy: 0.7343\n",
      "Epoch 48/50\n",
      "1336/1336 [==============================] - 23s 17ms/step - loss: 0.3051 - accuracy: 0.8374 - val_loss: 0.3272 - val_accuracy: 0.8241\n",
      "Epoch 49/50\n",
      "1336/1336 [==============================] - 23s 17ms/step - loss: 0.3047 - accuracy: 0.8436 - val_loss: 0.2960 - val_accuracy: 0.8459\n",
      "Epoch 50/50\n",
      "1336/1336 [==============================] - 23s 17ms/step - loss: 0.3340 - accuracy: 0.8254 - val_loss: 0.4189 - val_accuracy: 0.7677\n",
      "573/573 [==============================] - 2s 4ms/step - loss: 0.4189 - accuracy: 0.7677\n",
      "Accuracy: 0.7677401900291443\n"
     ]
    }
   ],
   "source": [
    "import numpy as np\n",
    "from sklearn.model_selection import train_test_split\n",
    "from sklearn.preprocessing import LabelEncoder\n",
    "from tensorflow.keras.models import Sequential\n",
    "from tensorflow.keras.layers import SimpleRNN, Dense\n",
    "from tensorflow.keras.optimizers import Adam\n",
    "\n",
    "# Assuming x_tr, y_tr, x_ts, y_ts are your training and testing data\n",
    "# Ensure they are numpy arrays or can be converted to numpy arrays\n",
    "# Ensure that y_tr and y_ts are properly encoded (binary labels)\n",
    "\n",
    "# Example label encoding for binary classification\n",
    "label_encoder = LabelEncoder()\n",
    "y_tr_encoded = label_encoder.fit_transform(y_tr)\n",
    "y_ts_encoded = label_encoder.transform(y_ts)\n",
    "\n",
    "# Reshape x_tr and x_ts if necessary (assuming they are 2D arrays)\n",
    "# Add this if x_tr and x_ts are 1D arrays: x_tr = x_tr.reshape(-1, 1)\n",
    "\n",
    "# Initialize RNN model\n",
    "RNN_model = Sequential()\n",
    "RNN_model.add(SimpleRNN(50, input_shape=(x_tr.shape[1], 1), activation='relu'))\n",
    "RNN_model.add(Dense(units=1, activation='sigmoid'))  # Adjust units and activation based on your task\n",
    "\n",
    "# Compile the model\n",
    "RNN_model.compile(optimizer=Adam(learning_rate=0.001), loss='binary_crossentropy', metrics=['accuracy'])\n",
    "\n",
    "# Train the model\n",
    "RNN_model.fit(x_tr, y_tr_encoded, epochs=50, batch_size=32, validation_data=(x_ts, y_ts_encoded))\n",
    "\n",
    "# Evaluate the model\n",
    "accuracy = RNN_model.evaluate(x_ts, y_ts_encoded)[1]\n",
    "\n",
    "print(f'Accuracy: {accuracy}')"
   ]
  },
  {
   "cell_type": "markdown",
   "id": "6c1ec655",
   "metadata": {
    "papermill": {
     "duration": 1.420027,
     "end_time": "2024-03-02T16:56:49.561455",
     "exception": false,
     "start_time": "2024-03-02T16:56:48.141428",
     "status": "completed"
    },
    "tags": []
   },
   "source": [
    "**Artificial Neural Network(ANN)**"
   ]
  },
  {
   "cell_type": "code",
   "execution_count": 60,
   "id": "7cbc9948",
   "metadata": {
    "execution": {
     "iopub.execute_input": "2024-03-02T16:56:52.329201Z",
     "iopub.status.busy": "2024-03-02T16:56:52.328113Z",
     "iopub.status.idle": "2024-03-02T16:59:16.050773Z",
     "shell.execute_reply": "2024-03-02T16:59:16.049549Z"
    },
    "papermill": {
     "duration": 145.142979,
     "end_time": "2024-03-02T16:59:16.052853",
     "exception": false,
     "start_time": "2024-03-02T16:56:50.909874",
     "status": "completed"
    },
    "tags": []
   },
   "outputs": [
    {
     "name": "stdout",
     "output_type": "stream",
     "text": [
      "Epoch 1/30\n",
      "1336/1336 [==============================] - 6s 4ms/step - loss: 0.6621 - accuracy: 0.7317 - val_loss: 0.4874 - val_accuracy: 0.7672\n",
      "Epoch 2/30\n",
      "1336/1336 [==============================] - 5s 3ms/step - loss: 0.5109 - accuracy: 0.7679 - val_loss: 0.4505 - val_accuracy: 0.7782\n",
      "Epoch 3/30\n",
      "1336/1336 [==============================] - 5s 3ms/step - loss: 0.4932 - accuracy: 0.7745 - val_loss: 0.4874 - val_accuracy: 0.7718\n",
      "Epoch 4/30\n",
      "1336/1336 [==============================] - 5s 4ms/step - loss: 0.4677 - accuracy: 0.7824 - val_loss: 0.5073 - val_accuracy: 0.7736\n",
      "Epoch 5/30\n",
      "1336/1336 [==============================] - 5s 3ms/step - loss: 0.4720 - accuracy: 0.7845 - val_loss: 0.4338 - val_accuracy: 0.7887\n",
      "Epoch 6/30\n",
      "1336/1336 [==============================] - 5s 4ms/step - loss: 0.4603 - accuracy: 0.7895 - val_loss: 0.5266 - val_accuracy: 0.7690\n",
      "Epoch 7/30\n",
      "1336/1336 [==============================] - 5s 4ms/step - loss: 0.4518 - accuracy: 0.7905 - val_loss: 0.4844 - val_accuracy: 0.7791\n",
      "Epoch 8/30\n",
      "1336/1336 [==============================] - 5s 3ms/step - loss: 0.4452 - accuracy: 0.7925 - val_loss: 0.4496 - val_accuracy: 0.7851\n",
      "Epoch 9/30\n",
      "1336/1336 [==============================] - 5s 3ms/step - loss: 0.4382 - accuracy: 0.7934 - val_loss: 0.4666 - val_accuracy: 0.7853\n",
      "Epoch 10/30\n",
      "1336/1336 [==============================] - 5s 3ms/step - loss: 0.4339 - accuracy: 0.7965 - val_loss: 0.4159 - val_accuracy: 0.7948\n",
      "Epoch 11/30\n",
      "1336/1336 [==============================] - 5s 3ms/step - loss: 0.4312 - accuracy: 0.7965 - val_loss: 0.4199 - val_accuracy: 0.8231\n",
      "Epoch 12/30\n",
      "1336/1336 [==============================] - 4s 3ms/step - loss: 0.4170 - accuracy: 0.8030 - val_loss: 0.4078 - val_accuracy: 0.7968\n",
      "Epoch 13/30\n",
      "1336/1336 [==============================] - 5s 4ms/step - loss: 0.4016 - accuracy: 0.8085 - val_loss: 0.3694 - val_accuracy: 0.8198\n",
      "Epoch 14/30\n",
      "1336/1336 [==============================] - 5s 4ms/step - loss: 0.3919 - accuracy: 0.8154 - val_loss: 0.3984 - val_accuracy: 0.8063\n",
      "Epoch 15/30\n",
      "1336/1336 [==============================] - 5s 3ms/step - loss: 0.3761 - accuracy: 0.8228 - val_loss: 0.3741 - val_accuracy: 0.8416\n",
      "Epoch 16/30\n",
      "1336/1336 [==============================] - 5s 3ms/step - loss: 0.3623 - accuracy: 0.8244 - val_loss: 0.3454 - val_accuracy: 0.8252\n",
      "Epoch 17/30\n",
      "1336/1336 [==============================] - 5s 3ms/step - loss: 0.3557 - accuracy: 0.8294 - val_loss: 0.4009 - val_accuracy: 0.8058\n",
      "Epoch 18/30\n",
      "1336/1336 [==============================] - 5s 3ms/step - loss: 0.3459 - accuracy: 0.8308 - val_loss: 0.3511 - val_accuracy: 0.8320\n",
      "Epoch 19/30\n",
      "1336/1336 [==============================] - 5s 4ms/step - loss: 0.3365 - accuracy: 0.8328 - val_loss: 0.3357 - val_accuracy: 0.8332\n",
      "Epoch 20/30\n",
      "1336/1336 [==============================] - 5s 3ms/step - loss: 0.3349 - accuracy: 0.8338 - val_loss: 0.3444 - val_accuracy: 0.8273\n",
      "Epoch 21/30\n",
      "1336/1336 [==============================] - 5s 4ms/step - loss: 0.3257 - accuracy: 0.8374 - val_loss: 0.3357 - val_accuracy: 0.8227\n",
      "Epoch 22/30\n",
      "1336/1336 [==============================] - 5s 4ms/step - loss: 0.3233 - accuracy: 0.8386 - val_loss: 0.3284 - val_accuracy: 0.8315\n",
      "Epoch 23/30\n",
      "1336/1336 [==============================] - 5s 3ms/step - loss: 0.3176 - accuracy: 0.8390 - val_loss: 0.3073 - val_accuracy: 0.8466\n",
      "Epoch 24/30\n",
      "1336/1336 [==============================] - 5s 3ms/step - loss: 0.3120 - accuracy: 0.8406 - val_loss: 0.3019 - val_accuracy: 0.8378\n",
      "Epoch 25/30\n",
      "1336/1336 [==============================] - 5s 3ms/step - loss: 0.3087 - accuracy: 0.8408 - val_loss: 0.3060 - val_accuracy: 0.8370\n",
      "Epoch 26/30\n",
      "1336/1336 [==============================] - 5s 4ms/step - loss: 0.3051 - accuracy: 0.8416 - val_loss: 0.3049 - val_accuracy: 0.8388\n",
      "Epoch 27/30\n",
      "1336/1336 [==============================] - 5s 3ms/step - loss: 0.3027 - accuracy: 0.8411 - val_loss: 0.3029 - val_accuracy: 0.8382\n",
      "Epoch 28/30\n",
      "1336/1336 [==============================] - 5s 4ms/step - loss: 0.2984 - accuracy: 0.8418 - val_loss: 0.3168 - val_accuracy: 0.8383\n",
      "Epoch 29/30\n",
      "1336/1336 [==============================] - 4s 3ms/step - loss: 0.2968 - accuracy: 0.8431 - val_loss: 0.2964 - val_accuracy: 0.8397\n",
      "Epoch 30/30\n",
      "1336/1336 [==============================] - 4s 3ms/step - loss: 0.2947 - accuracy: 0.8434 - val_loss: 0.2919 - val_accuracy: 0.8412\n",
      "573/573 [==============================] - 1s 2ms/step - loss: 0.2919 - accuracy: 0.8412\n",
      "Accuracy: 0.8411571979522705\n"
     ]
    }
   ],
   "source": [
    "\n",
    "# Assuming x_tr, y_tr, x_ts, y_ts are your training and testing data\n",
    "# Ensure they are numpy arrays or can be converted to numpy arrays\n",
    "# Ensure that y_tr and y_ts are properly encoded (binary labels)\n",
    "\n",
    "# Example label encoding for binary classification\n",
    "label_encoder = LabelEncoder()\n",
    "y_tr_encoded = label_encoder.fit_transform(y_tr)\n",
    "y_ts_encoded = label_encoder.transform(y_ts)\n",
    "\n",
    "# Initialize ANN model\n",
    "ANN_model = Sequential()\n",
    "ANN_model.add(Dense(50, input_shape=(x_tr.shape[1],), activation='relu'))\n",
    "ANN_model.add(Dense(units=1, activation='sigmoid'))  # Adjust units and activation based on your task\n",
    "\n",
    "# Compile the model\n",
    "ANN_model.compile(optimizer=Adam(learning_rate=0.001), loss='binary_crossentropy', metrics=['accuracy'])\n",
    "\n",
    "# Train the model\n",
    "ANN_model.fit(x_tr, y_tr_encoded, epochs=30, batch_size=32, validation_data=(x_ts, y_ts_encoded))\n",
    "\n",
    "# Evaluate the model\n",
    "accuracy = ANN_model.evaluate(x_ts, y_ts_encoded)[1]\n",
    "\n",
    "print(f'Accuracy: {accuracy}')\n"
   ]
  },
  {
   "cell_type": "markdown",
   "id": "44e46818",
   "metadata": {
    "papermill": {
     "duration": 1.509009,
     "end_time": "2024-03-02T16:59:19.159946",
     "exception": false,
     "start_time": "2024-03-02T16:59:17.650937",
     "status": "completed"
    },
    "tags": []
   },
   "source": [
    "**Convolutional Neural Network(CNN)**"
   ]
  },
  {
   "cell_type": "code",
   "execution_count": 61,
   "id": "a52696c7",
   "metadata": {
    "execution": {
     "iopub.execute_input": "2024-03-02T16:59:22.321093Z",
     "iopub.status.busy": "2024-03-02T16:59:22.320124Z",
     "iopub.status.idle": "2024-03-02T17:01:50.552643Z",
     "shell.execute_reply": "2024-03-02T17:01:50.551622Z"
    },
    "papermill": {
     "duration": 149.816199,
     "end_time": "2024-03-02T17:01:50.554708",
     "exception": false,
     "start_time": "2024-03-02T16:59:20.738509",
     "status": "completed"
    },
    "tags": []
   },
   "outputs": [
    {
     "name": "stdout",
     "output_type": "stream",
     "text": [
      "Epoch 1/30\n",
      "1336/1336 [==============================] - 7s 4ms/step - loss: 0.5279 - accuracy: 0.7380 - val_loss: 0.4394 - val_accuracy: 0.7681\n",
      "Epoch 2/30\n",
      "1336/1336 [==============================] - 5s 4ms/step - loss: 0.4415 - accuracy: 0.7798 - val_loss: 0.4137 - val_accuracy: 0.7899\n",
      "Epoch 3/30\n",
      "1336/1336 [==============================] - 5s 4ms/step - loss: 0.4067 - accuracy: 0.7967 - val_loss: 0.3822 - val_accuracy: 0.7961\n",
      "Epoch 4/30\n",
      "1336/1336 [==============================] - 5s 4ms/step - loss: 0.3752 - accuracy: 0.8099 - val_loss: 0.3527 - val_accuracy: 0.8184\n",
      "Epoch 5/30\n",
      "1336/1336 [==============================] - 5s 4ms/step - loss: 0.3569 - accuracy: 0.8172 - val_loss: 0.3666 - val_accuracy: 0.8075\n",
      "Epoch 6/30\n",
      "1336/1336 [==============================] - 5s 4ms/step - loss: 0.3410 - accuracy: 0.8243 - val_loss: 0.3361 - val_accuracy: 0.8158\n",
      "Epoch 7/30\n",
      "1336/1336 [==============================] - 5s 4ms/step - loss: 0.3306 - accuracy: 0.8254 - val_loss: 0.3183 - val_accuracy: 0.8275\n",
      "Epoch 8/30\n",
      "1336/1336 [==============================] - 5s 4ms/step - loss: 0.3211 - accuracy: 0.8287 - val_loss: 0.3135 - val_accuracy: 0.8324\n",
      "Epoch 9/30\n",
      "1336/1336 [==============================] - 5s 4ms/step - loss: 0.3139 - accuracy: 0.8317 - val_loss: 0.3067 - val_accuracy: 0.8332\n",
      "Epoch 10/30\n",
      "1336/1336 [==============================] - 5s 4ms/step - loss: 0.3063 - accuracy: 0.8339 - val_loss: 0.3208 - val_accuracy: 0.8157\n",
      "Epoch 11/30\n",
      "1336/1336 [==============================] - 5s 4ms/step - loss: 0.3018 - accuracy: 0.8348 - val_loss: 0.3070 - val_accuracy: 0.8240\n",
      "Epoch 12/30\n",
      "1336/1336 [==============================] - 5s 4ms/step - loss: 0.2971 - accuracy: 0.8385 - val_loss: 0.3179 - val_accuracy: 0.8168\n",
      "Epoch 13/30\n",
      "1336/1336 [==============================] - 5s 4ms/step - loss: 0.2921 - accuracy: 0.8385 - val_loss: 0.2987 - val_accuracy: 0.8418\n",
      "Epoch 14/30\n",
      "1336/1336 [==============================] - 5s 4ms/step - loss: 0.2879 - accuracy: 0.8419 - val_loss: 0.2848 - val_accuracy: 0.8405\n",
      "Epoch 15/30\n",
      "1336/1336 [==============================] - 5s 4ms/step - loss: 0.2825 - accuracy: 0.8447 - val_loss: 0.3533 - val_accuracy: 0.8277\n",
      "Epoch 16/30\n",
      "1336/1336 [==============================] - 5s 4ms/step - loss: 0.2845 - accuracy: 0.8445 - val_loss: 0.2759 - val_accuracy: 0.8500\n",
      "Epoch 17/30\n",
      "1336/1336 [==============================] - 5s 4ms/step - loss: 0.2846 - accuracy: 0.8438 - val_loss: 0.2819 - val_accuracy: 0.8356\n",
      "Epoch 18/30\n",
      "1336/1336 [==============================] - 5s 4ms/step - loss: 0.2773 - accuracy: 0.8469 - val_loss: 0.2746 - val_accuracy: 0.8390\n",
      "Epoch 19/30\n",
      "1336/1336 [==============================] - 5s 4ms/step - loss: 0.2749 - accuracy: 0.8488 - val_loss: 0.2849 - val_accuracy: 0.8378\n",
      "Epoch 20/30\n",
      "1336/1336 [==============================] - 5s 4ms/step - loss: 0.2783 - accuracy: 0.8470 - val_loss: 0.2747 - val_accuracy: 0.8472\n",
      "Epoch 21/30\n",
      "1336/1336 [==============================] - 5s 4ms/step - loss: 0.2748 - accuracy: 0.8487 - val_loss: 0.2715 - val_accuracy: 0.8418\n",
      "Epoch 22/30\n",
      "1336/1336 [==============================] - 5s 4ms/step - loss: 0.2727 - accuracy: 0.8491 - val_loss: 0.2740 - val_accuracy: 0.8434\n",
      "Epoch 23/30\n",
      "1336/1336 [==============================] - 5s 4ms/step - loss: 0.2741 - accuracy: 0.8495 - val_loss: 0.2707 - val_accuracy: 0.8486\n",
      "Epoch 24/30\n",
      "1336/1336 [==============================] - 5s 4ms/step - loss: 0.2723 - accuracy: 0.8498 - val_loss: 0.2849 - val_accuracy: 0.8355\n",
      "Epoch 25/30\n",
      "1336/1336 [==============================] - 5s 4ms/step - loss: 0.2752 - accuracy: 0.8485 - val_loss: 0.2798 - val_accuracy: 0.8459\n",
      "Epoch 26/30\n",
      "1336/1336 [==============================] - 5s 4ms/step - loss: 0.2787 - accuracy: 0.8479 - val_loss: 0.3062 - val_accuracy: 0.8350\n",
      "Epoch 27/30\n",
      "1336/1336 [==============================] - 5s 4ms/step - loss: 0.2942 - accuracy: 0.8462 - val_loss: 0.2845 - val_accuracy: 0.8456\n",
      "Epoch 28/30\n",
      "1336/1336 [==============================] - 5s 4ms/step - loss: 0.2807 - accuracy: 0.8483 - val_loss: 0.2791 - val_accuracy: 0.8460\n",
      "Epoch 29/30\n",
      "1336/1336 [==============================] - 5s 4ms/step - loss: 0.2777 - accuracy: 0.8510 - val_loss: 0.2941 - val_accuracy: 0.8581\n",
      "Epoch 30/30\n",
      "1336/1336 [==============================] - 5s 4ms/step - loss: 0.2762 - accuracy: 0.8514 - val_loss: 0.2892 - val_accuracy: 0.8417\n",
      "573/573 [==============================] - 1s 2ms/step - loss: 0.2892 - accuracy: 0.8417\n",
      "Accuracy: 0.8417030572891235\n"
     ]
    }
   ],
   "source": [
    "import numpy as np\n",
    "from sklearn.model_selection import train_test_split\n",
    "from sklearn.preprocessing import LabelEncoder\n",
    "from tensorflow.keras.models import Sequential\n",
    "from tensorflow.keras.layers import Flatten, Dense\n",
    "from tensorflow.keras.optimizers import Adam\n",
    "\n",
    "# Assuming x_tr, y_tr, x_ts, y_ts are your training and testing data DataFrames\n",
    "# Convert DataFrames to numpy arrays\n",
    "x_tr = x_tr.to_numpy()\n",
    "x_ts = x_ts.to_numpy()\n",
    "\n",
    "# Example label encoding for binary classification\n",
    "label_encoder = LabelEncoder()\n",
    "y_tr_encoded = label_encoder.fit_transform(y_tr)\n",
    "y_ts_encoded = label_encoder.transform(y_ts)\n",
    "\n",
    "# Reshape x_tr and x_ts to match the input shape expected by the model\n",
    "x_tr = x_tr.reshape(x_tr.shape[0], -1)  # Flattens the input to a 1D array\n",
    "x_ts = x_ts.reshape(x_ts.shape[0], -1)  # Flattens the input to a 1D array\n",
    "\n",
    "# Initialize the model\n",
    "model = Sequential()\n",
    "model.add(Flatten(input_shape=(x_tr.shape[1],)))  # Flattens the input\n",
    "model.add(Dense(64, activation='relu'))  # Add a dense layer with 64 neurons and ReLU activation\n",
    "model.add(Dense(32, activation='relu'))  # Add another dense layer with 32 neurons and ReLU activation\n",
    "model.add(Dense(units=1, activation='sigmoid'))  # Output layer with sigmoid activation for binary classification\n",
    "\n",
    "# Compile the model\n",
    "model.compile(optimizer=Adam(learning_rate=0.001), loss='binary_crossentropy', metrics=['accuracy'])\n",
    "\n",
    "# Train the model\n",
    "model.fit(x_tr, y_tr_encoded, epochs=30, batch_size=32, validation_data=(x_ts, y_ts_encoded))\n",
    "\n",
    "# Evaluate the model\n",
    "accuracy = model.evaluate(x_ts, y_ts_encoded)[1]\n",
    "\n",
    "print(f'Accuracy: {accuracy}')\n"
   ]
  },
  {
   "cell_type": "markdown",
   "id": "61906750",
   "metadata": {
    "papermill": {
     "duration": 1.72344,
     "end_time": "2024-03-02T17:01:54.048306",
     "exception": false,
     "start_time": "2024-03-02T17:01:52.324866",
     "status": "completed"
    },
    "tags": []
   },
   "source": [
    "**Long Short-Term Memory(LSTM)**\n"
   ]
  },
  {
   "cell_type": "code",
   "execution_count": 62,
   "id": "297b5f55",
   "metadata": {
    "execution": {
     "iopub.execute_input": "2024-03-02T17:01:57.608609Z",
     "iopub.status.busy": "2024-03-02T17:01:57.607689Z",
     "iopub.status.idle": "2024-03-02T17:23:54.364183Z",
     "shell.execute_reply": "2024-03-02T17:23:54.363149Z"
    },
    "papermill": {
     "duration": 1318.536568,
     "end_time": "2024-03-02T17:23:54.366543",
     "exception": false,
     "start_time": "2024-03-02T17:01:55.829975",
     "status": "completed"
    },
    "tags": []
   },
   "outputs": [
    {
     "name": "stdout",
     "output_type": "stream",
     "text": [
      "Epoch 1/25\n",
      "1336/1336 [==============================] - 55s 40ms/step - loss: 0.5315 - accuracy: 0.7070 - val_loss: 0.4352 - val_accuracy: 0.7675\n",
      "Epoch 2/25\n",
      "1336/1336 [==============================] - 53s 40ms/step - loss: 0.4450 - accuracy: 0.7635 - val_loss: 0.4148 - val_accuracy: 0.7699\n",
      "Epoch 3/25\n",
      "1336/1336 [==============================] - 53s 39ms/step - loss: 0.4141 - accuracy: 0.7792 - val_loss: 0.4293 - val_accuracy: 0.7579\n",
      "Epoch 4/25\n",
      "1336/1336 [==============================] - 53s 40ms/step - loss: 0.3772 - accuracy: 0.8039 - val_loss: 0.3654 - val_accuracy: 0.7930\n",
      "Epoch 5/25\n",
      "1336/1336 [==============================] - 53s 40ms/step - loss: 0.3641 - accuracy: 0.8094 - val_loss: 0.3712 - val_accuracy: 0.8062\n",
      "Epoch 6/25\n",
      "1336/1336 [==============================] - 52s 39ms/step - loss: 0.4491 - accuracy: 0.7636 - val_loss: 0.3586 - val_accuracy: 0.8036\n",
      "Epoch 7/25\n",
      "1336/1336 [==============================] - 52s 39ms/step - loss: 0.4063 - accuracy: 0.7904 - val_loss: 0.3520 - val_accuracy: 0.8168\n",
      "Epoch 8/25\n",
      "1336/1336 [==============================] - 51s 38ms/step - loss: 0.3526 - accuracy: 0.8165 - val_loss: 0.3359 - val_accuracy: 0.8180\n",
      "Epoch 9/25\n",
      "1336/1336 [==============================] - 52s 39ms/step - loss: 0.3367 - accuracy: 0.8249 - val_loss: 0.4295 - val_accuracy: 0.7773\n",
      "Epoch 10/25\n",
      "1336/1336 [==============================] - 52s 39ms/step - loss: 0.3459 - accuracy: 0.8206 - val_loss: 0.3395 - val_accuracy: 0.8127\n",
      "Epoch 11/25\n",
      "1336/1336 [==============================] - 53s 39ms/step - loss: 0.3266 - accuracy: 0.8278 - val_loss: 0.3254 - val_accuracy: 0.8295\n",
      "Epoch 12/25\n",
      "1336/1336 [==============================] - 53s 40ms/step - loss: 0.3797 - accuracy: 0.8043 - val_loss: 0.3211 - val_accuracy: 0.8246\n",
      "Epoch 13/25\n",
      "1336/1336 [==============================] - 53s 39ms/step - loss: 0.3286 - accuracy: 0.8283 - val_loss: 0.3549 - val_accuracy: 0.8212\n",
      "Epoch 14/25\n",
      "1336/1336 [==============================] - 53s 40ms/step - loss: 0.3563 - accuracy: 0.8148 - val_loss: 0.3558 - val_accuracy: 0.8199\n",
      "Epoch 15/25\n",
      "1336/1336 [==============================] - 52s 39ms/step - loss: 0.3472 - accuracy: 0.8220 - val_loss: 0.3386 - val_accuracy: 0.8276\n",
      "Epoch 16/25\n",
      "1336/1336 [==============================] - 52s 39ms/step - loss: 0.3180 - accuracy: 0.8325 - val_loss: 0.3151 - val_accuracy: 0.8267\n",
      "Epoch 17/25\n",
      "1336/1336 [==============================] - 52s 39ms/step - loss: 0.3504 - accuracy: 0.8206 - val_loss: 0.3236 - val_accuracy: 0.8310\n",
      "Epoch 18/25\n",
      "1336/1336 [==============================] - 52s 39ms/step - loss: 0.3205 - accuracy: 0.8336 - val_loss: 0.3174 - val_accuracy: 0.8319\n",
      "Epoch 19/25\n",
      "1336/1336 [==============================] - 52s 39ms/step - loss: 0.3101 - accuracy: 0.8379 - val_loss: 0.3060 - val_accuracy: 0.8334\n",
      "Epoch 20/25\n",
      "1336/1336 [==============================] - 52s 39ms/step - loss: 0.3111 - accuracy: 0.8365 - val_loss: 0.3078 - val_accuracy: 0.8359\n",
      "Epoch 21/25\n",
      "1336/1336 [==============================] - 52s 39ms/step - loss: 0.3113 - accuracy: 0.8372 - val_loss: 0.3123 - val_accuracy: 0.8328\n",
      "Epoch 22/25\n",
      "1336/1336 [==============================] - 51s 38ms/step - loss: 0.3042 - accuracy: 0.8401 - val_loss: 0.3630 - val_accuracy: 0.8283\n",
      "Epoch 23/25\n",
      "1336/1336 [==============================] - 52s 39ms/step - loss: 0.2993 - accuracy: 0.8403 - val_loss: 0.3022 - val_accuracy: 0.8272\n",
      "Epoch 24/25\n",
      "1336/1336 [==============================] - 52s 39ms/step - loss: 0.3050 - accuracy: 0.8400 - val_loss: 0.3139 - val_accuracy: 0.8326\n",
      "Epoch 25/25\n",
      "1336/1336 [==============================] - 52s 39ms/step - loss: 0.2983 - accuracy: 0.8434 - val_loss: 0.2886 - val_accuracy: 0.8477\n",
      "573/573 [==============================] - 3s 5ms/step - loss: 0.2886 - accuracy: 0.8477\n",
      "Accuracy: 0.8476528525352478\n"
     ]
    }
   ],
   "source": [
    "import numpy as np\n",
    "from sklearn.model_selection import train_test_split\n",
    "from sklearn.preprocessing import LabelEncoder\n",
    "from tensorflow.keras.models import Sequential\n",
    "from tensorflow.keras.layers import LSTM, Dense\n",
    "from tensorflow.keras.optimizers import Adam\n",
    "\n",
    "# Assuming x_tr, y_tr, x_ts, y_ts are your training and testing data\n",
    "# Ensure they are numpy arrays or can be converted to numpy arrays\n",
    "# Ensure that y_tr and y_ts are properly encoded (binary labels)\n",
    "\n",
    "# Example label encoding for binary classification\n",
    "label_encoder = LabelEncoder()\n",
    "y_tr_encoded = label_encoder.fit_transform(y_tr)\n",
    "y_ts_encoded = label_encoder.transform(y_ts)\n",
    "\n",
    "# Reshape x_tr and x_ts if necessary (assuming they are 2D arrays)\n",
    "# Add this if x_tr and x_ts are 1D arrays: x_tr = x_tr.reshape(-1, 1)\n",
    "\n",
    "# Initialize LSTM model\n",
    "LSTM_model = Sequential()\n",
    "LSTM_model.add(LSTM(50, input_shape=(x_tr.shape[1], 1), activation='relu'))\n",
    "LSTM_model.add(Dense(units=1, activation='sigmoid'))  # Adjust units and activation based on your task\n",
    "\n",
    "# Compile the model\n",
    "LSTM_model.compile(optimizer=Adam(learning_rate=0.001), loss='binary_crossentropy', metrics=['accuracy'])\n",
    "\n",
    "# Train the model\n",
    "LSTM_model.fit(x_tr, y_tr_encoded, epochs=25, batch_size=32, validation_data=(x_ts, y_ts_encoded))\n",
    "\n",
    "# Evaluate the model\n",
    "accuracy = LSTM_model.evaluate(x_ts, y_ts_encoded)[1]\n",
    "\n",
    "print(f'Accuracy: {accuracy}')\n"
   ]
  },
  {
   "cell_type": "markdown",
   "id": "3762ad16",
   "metadata": {
    "papermill": {
     "duration": 3.137617,
     "end_time": "2024-03-02T17:24:00.584051",
     "exception": false,
     "start_time": "2024-03-02T17:23:57.446434",
     "status": "completed"
    },
    "tags": []
   },
   "source": [
    "**RANKING THE TRAINED MODELS ON THE MAE VALUE**"
   ]
  },
  {
   "cell_type": "code",
   "execution_count": 63,
   "id": "976dbc4b",
   "metadata": {
    "execution": {
     "iopub.execute_input": "2024-03-02T17:24:06.710047Z",
     "iopub.status.busy": "2024-03-02T17:24:06.709312Z",
     "iopub.status.idle": "2024-03-02T17:24:06.728503Z",
     "shell.execute_reply": "2024-03-02T17:24:06.727558Z"
    },
    "papermill": {
     "duration": 3.070247,
     "end_time": "2024-03-02T17:24:06.730432",
     "exception": false,
     "start_time": "2024-03-02T17:24:03.660185",
     "status": "completed"
    },
    "tags": []
   },
   "outputs": [
    {
     "name": "stdout",
     "output_type": "stream",
     "text": [
      "Done!\n"
     ]
    }
   ],
   "source": [
    "from sklearn.metrics import accuracy_score\n",
    "\n",
    "model_preds = [RT_predictions, knn_predictions, DT_predictions, LR_predictions, SVC_predictions, NB_predictions]\n",
    "model_names = ['Random Forest', 'K-Nearest Neighbors', 'Decision Tree', 'Logistic Regression', 'SVC', 'NB']\n",
    "\n",
    "# Function for comparing different models\n",
    "def score_model(model_preds, y_ts):\n",
    "    return accuracy_score(y_ts, model_preds)\n",
    "\n",
    "# Calculate Accuracy for each model\n",
    "acc_score = []\n",
    "for i in range(len(model_names)):\n",
    "    acc = score_model(model_preds[i], y_ts)\n",
    "    acc_score.append((model_names[i], acc))\n",
    "\n",
    "acc_scores_sorted = sorted(acc_score, key=lambda x: x[1], reverse= True)\n",
    "target_range = y_ts.max() - y_ts.min()\n",
    "\n",
    "# Print ranked model names, MAE scores, and error percentages\n",
    "# for i, (model_name, acc) in enumerate(acc_scores_sorted):\n",
    "#     error_percent = (mae / target_range) * 100  # Calculate error percentage\n",
    "#     print(\"Rank %d: %s - Accuracy: %.4f - : %.2f%%\" % (i+1, model_name, acc, error_percent))\n",
    "print(\"Done!\")"
   ]
  },
  {
   "cell_type": "code",
   "execution_count": 64,
   "id": "93a17199",
   "metadata": {
    "execution": {
     "iopub.execute_input": "2024-03-02T17:24:13.031944Z",
     "iopub.status.busy": "2024-03-02T17:24:13.031182Z",
     "iopub.status.idle": "2024-03-02T17:24:13.052864Z",
     "shell.execute_reply": "2024-03-02T17:24:13.051384Z"
    },
    "papermill": {
     "duration": 3.271022,
     "end_time": "2024-03-02T17:24:13.055110",
     "exception": false,
     "start_time": "2024-03-02T17:24:09.784088",
     "status": "completed"
    },
    "tags": []
   },
   "outputs": [
    {
     "name": "stdout",
     "output_type": "stream",
     "text": [
      "Rank 1: Random Forest - ACC: 0.9263 - Accuracy: 92.63%\n",
      "Rank 2: Decision Tree - ACC: 0.9187 - Accuracy: 91.87%\n",
      "Rank 3: K-Nearest Neighbors - ACC: 0.9153 - Accuracy: 91.53%\n",
      "Rank 4: Logistic Regression - ACC: 0.7771 - Accuracy: 77.71%\n",
      "Rank 5: SVC - ACC: 0.7135 - Accuracy: 71.35%\n",
      "Rank 6: NB - ACC: 0.6984 - Accuracy: 69.84%\n"
     ]
    }
   ],
   "source": [
    "model_preds = [RT_predictions, knn_predictions, DT_predictions, LR_predictions, SVC_predictions, NB_predictions]\n",
    "model_names = ['Random Forest', 'K-Nearest Neighbors', 'Decision Tree', 'Logistic Regression','SVC', 'NB']\n",
    "\n",
    "# Calculate Accuracy for each model\n",
    "acc_score = []\n",
    "for i in range(len(model_names)):\n",
    "    acc = score_model(model_preds[i], y_ts)\n",
    "    acc_score.append((model_names[i], acc))\n",
    "\n",
    "acc_scores_sorted = sorted(acc_score, key=lambda x: x[1], reverse= True)\n",
    "target_range = y_ts.max() - y_ts.min()\n",
    "\n",
    "# Print ranked model names, Accuracy scores, and Accuracy percentages\n",
    "for i, (model_name, acc) in enumerate(acc_scores_sorted):\n",
    "    error_percent = (acc / target_range) * 100  # Calculate error percentage\n",
    "    print(\"Rank %d: %s - ACC: %.4f - Accuracy: %.2f%%\" % (i+1, model_name, acc, error_percent))"
   ]
  }
 ],
 "metadata": {
  "kaggle": {
   "accelerator": "gpu",
   "dataSources": [
    {
     "datasetId": 378374,
     "sourceId": 734120,
     "sourceType": "datasetVersion"
    }
   ],
   "dockerImageVersionId": 30527,
   "isGpuEnabled": true,
   "isInternetEnabled": false,
   "language": "python",
   "sourceType": "notebook"
  },
  "kernelspec": {
   "display_name": "Python 3 (ipykernel)",
   "language": "python",
   "name": "python3"
  },
  "language_info": {
   "codemirror_mode": {
    "name": "ipython",
    "version": 3
   },
   "file_extension": ".py",
   "mimetype": "text/x-python",
   "name": "python",
   "nbconvert_exporter": "python",
   "pygments_lexer": "ipython3",
   "version": "3.10.12"
  },
  "papermill": {
   "default_parameters": {},
   "duration": 2973.786228,
   "end_time": "2024-03-02T17:24:18.978908",
   "environment_variables": {},
   "exception": null,
   "input_path": "__notebook__.ipynb",
   "output_path": "__notebook__.ipynb",
   "parameters": {},
   "start_time": "2024-03-02T16:34:45.192680",
   "version": "2.4.0"
  }
 },
 "nbformat": 4,
 "nbformat_minor": 5
}
